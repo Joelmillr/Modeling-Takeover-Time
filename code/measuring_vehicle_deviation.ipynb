{
 "cells": [
  {
   "cell_type": "code",
   "execution_count": 1,
   "metadata": {},
   "outputs": [],
   "source": [
    "import numpy as np\n",
    "import pandas as pd\n",
    "import matplotlib.pyplot as plt\n",
    "from useful_functions import dd_dictionary"
   ]
  },
  {
   "cell_type": "code",
   "execution_count": 2,
   "metadata": {},
   "outputs": [],
   "source": [
    "order_of_obstacles = pd.read_csv('../AdVitam/Exp2/order_obstacles.csv')"
   ]
  },
  {
   "cell_type": "code",
   "execution_count": 3,
   "metadata": {},
   "outputs": [],
   "source": [
    "# driving_data = dd_dictionary.dd_dictionary(\"../AdVitam/Exp2/Raw/Driving\")\n",
    "# driving_data.get(\"NST01\")"
   ]
  },
  {
   "cell_type": "markdown",
   "metadata": {},
   "source": [
    "A=Deer, B=Traffic Cone, C=Frog, D=Can, E=False Alarm1, F=False Alarm2."
   ]
  },
  {
   "cell_type": "code",
   "execution_count": 4,
   "metadata": {},
   "outputs": [
    {
     "data": {
      "text/html": [
       "<div>\n",
       "<style scoped>\n",
       "    .dataframe tbody tr th:only-of-type {\n",
       "        vertical-align: middle;\n",
       "    }\n",
       "\n",
       "    .dataframe tbody tr th {\n",
       "        vertical-align: top;\n",
       "    }\n",
       "\n",
       "    .dataframe thead th {\n",
       "        text-align: right;\n",
       "    }\n",
       "</style>\n",
       "<table border=\"1\" class=\"dataframe\">\n",
       "  <thead>\n",
       "    <tr style=\"text-align: right;\">\n",
       "      <th></th>\n",
       "      <th>Code</th>\n",
       "      <th>Obstacle 1</th>\n",
       "      <th>Obstacle 2</th>\n",
       "      <th>Obstacle 3</th>\n",
       "      <th>Obstacle 4</th>\n",
       "      <th>Obstacle 5</th>\n",
       "      <th>Obstacle 6</th>\n",
       "    </tr>\n",
       "  </thead>\n",
       "  <tbody>\n",
       "    <tr>\n",
       "      <th>0</th>\n",
       "      <td>NST1</td>\n",
       "      <td>A</td>\n",
       "      <td>B</td>\n",
       "      <td>C</td>\n",
       "      <td>D</td>\n",
       "      <td>E</td>\n",
       "      <td>F</td>\n",
       "    </tr>\n",
       "  </tbody>\n",
       "</table>\n",
       "</div>"
      ],
      "text/plain": [
       "   Code Obstacle 1 Obstacle 2 Obstacle 3 Obstacle 4 Obstacle 5 Obstacle 6\n",
       "0  NST1          A          B          C          D          E          F"
      ]
     },
     "execution_count": 4,
     "metadata": {},
     "output_type": "execute_result"
    }
   ],
   "source": [
    "order_of_obstacles[order_of_obstacles['Code'] == 'NST1']"
   ]
  },
  {
   "cell_type": "code",
   "execution_count": 5,
   "metadata": {},
   "outputs": [],
   "source": [
    "nst01 = pd.read_csv(\"../AdVitam/Exp2/Raw/Driving/NST01.txt\", dtype={\"Obstacles\": str})\n",
    "nst01.drop(columns=['EngineSpeed', 'GearPosActual', 'GearPosTarget', 'AcceleratorPedalPos', 'DeceleratorPedalPos'], inplace=True)"
   ]
  },
  {
   "cell_type": "code",
   "execution_count": 12,
   "metadata": {},
   "outputs": [],
   "source": [
    "obstacles = nst01['Obstacles'].unique().tolist()\n",
    "obstacles.pop(0) # remove nan\n",
    "obstacles.remove('Detected') # remove detected\n",
    "\n",
    "# Return the time at which the obstacles are triggered\n",
    "def trigger_times(driving_data):\n",
    "    obstacle_trigger_times = {}\n",
    "    # find obstacle trigger times, driver takeover times, and return to autonomous driving times\n",
    "    for obstacle in obstacles:\n",
    "        # only consider the obstacles that triggered a takeover\n",
    "        \n",
    "        trigger = driving_data[driving_data['Obstacles'] == obstacle]['Time'].values[0]\n",
    "        obstacle_trigger_times[obstacle] = trigger\n",
    "\n",
    "        # consider the driving data after the obstacle is triggered\n",
    "        driving_data = driving_data[driving_data['Time'] > trigger]\n",
    "        takeover = driving_data[driving_data['Autonomous Mode (T/F)'] == False]['Time'].values[0]\n",
    "        obstacle_trigger_times[obstacle.replace('Triggered', 'Takeover')] = takeover\n",
    "\n",
    "        # consider the driving data after the driver takes over\n",
    "        driving_data = driving_data[driving_data['Time'] > takeover]\n",
    "        return_to_autonomous = driving_data[driving_data['Autonomous Mode (T/F)'] == True]['Time'].values[0]\n",
    "        obstacle_trigger_times[obstacle.replace('Triggered', 'Return')] = return_to_autonomous\n",
    "\n",
    "    return obstacle_trigger_times"
   ]
  },
  {
   "cell_type": "code",
   "execution_count": 13,
   "metadata": {},
   "outputs": [
    {
     "name": "stdout",
     "output_type": "stream",
     "text": [
      "TriggeredObs1\n",
      "TriggeredObs2\n",
      "TriggeredObs3\n",
      "TriggeredObs4\n"
     ]
    },
    {
     "ename": "IndexError",
     "evalue": "index 0 is out of bounds for axis 0 with size 0",
     "output_type": "error",
     "traceback": [
      "\u001b[0;31m---------------------------------------------------------------------------\u001b[0m",
      "\u001b[0;31mIndexError\u001b[0m                                Traceback (most recent call last)",
      "Cell \u001b[0;32mIn [13], line 1\u001b[0m\n\u001b[0;32m----> 1\u001b[0m obstacle_trigger_times \u001b[38;5;241m=\u001b[39m \u001b[43mtrigger_times\u001b[49m\u001b[43m(\u001b[49m\u001b[43mnst01\u001b[49m\u001b[43m)\u001b[49m\n",
      "Cell \u001b[0;32mIn [12], line 16\u001b[0m, in \u001b[0;36mtrigger_times\u001b[0;34m(driving_data)\u001b[0m\n\u001b[1;32m     14\u001b[0m \u001b[38;5;66;03m# consider the driving data after the obstacle is triggered\u001b[39;00m\n\u001b[1;32m     15\u001b[0m driving_data \u001b[38;5;241m=\u001b[39m driving_data[driving_data[\u001b[38;5;124m'\u001b[39m\u001b[38;5;124mTime\u001b[39m\u001b[38;5;124m'\u001b[39m] \u001b[38;5;241m>\u001b[39m trigger]\n\u001b[0;32m---> 16\u001b[0m takeover \u001b[38;5;241m=\u001b[39m \u001b[43mdriving_data\u001b[49m\u001b[43m[\u001b[49m\u001b[43mdriving_data\u001b[49m\u001b[43m[\u001b[49m\u001b[38;5;124;43m'\u001b[39;49m\u001b[38;5;124;43mAutonomous Mode (T/F)\u001b[39;49m\u001b[38;5;124;43m'\u001b[39;49m\u001b[43m]\u001b[49m\u001b[43m \u001b[49m\u001b[38;5;241;43m==\u001b[39;49m\u001b[43m \u001b[49m\u001b[38;5;28;43;01mFalse\u001b[39;49;00m\u001b[43m]\u001b[49m\u001b[43m[\u001b[49m\u001b[38;5;124;43m'\u001b[39;49m\u001b[38;5;124;43mTime\u001b[39;49m\u001b[38;5;124;43m'\u001b[39;49m\u001b[43m]\u001b[49m\u001b[38;5;241;43m.\u001b[39;49m\u001b[43mvalues\u001b[49m\u001b[43m[\u001b[49m\u001b[38;5;241;43m0\u001b[39;49m\u001b[43m]\u001b[49m\n\u001b[1;32m     17\u001b[0m obstacle_trigger_times[obstacle\u001b[38;5;241m.\u001b[39mreplace(\u001b[38;5;124m'\u001b[39m\u001b[38;5;124mTriggered\u001b[39m\u001b[38;5;124m'\u001b[39m, \u001b[38;5;124m'\u001b[39m\u001b[38;5;124mTakeover\u001b[39m\u001b[38;5;124m'\u001b[39m)] \u001b[38;5;241m=\u001b[39m takeover\n\u001b[1;32m     19\u001b[0m \u001b[38;5;66;03m# consider the driving data after the driver takes over\u001b[39;00m\n",
      "\u001b[0;31mIndexError\u001b[0m: index 0 is out of bounds for axis 0 with size 0"
     ]
    }
   ],
   "source": [
    "obstacle_trigger_times = trigger_times(nst01)"
   ]
  },
  {
   "cell_type": "code",
   "execution_count": null,
   "metadata": {},
   "outputs": [
    {
     "data": {
      "text/plain": [
       "318.7958"
      ]
     },
     "execution_count": 108,
     "metadata": {},
     "output_type": "execute_result"
    }
   ],
   "source": [
    "nst01_trigger = nst01[nst01['Time'] > obstacle_trigger_times['TriggeredObs1']]\n",
    "driver_take_control = nst01_trigger[nst01_trigger['Autonomous Mode (T/F)'] == False]['Time'].values[0]\n",
    "driver_take_control"
   ]
  },
  {
   "cell_type": "code",
   "execution_count": null,
   "metadata": {},
   "outputs": [
    {
     "data": {
      "text/plain": [
       "328.7561"
      ]
     },
     "execution_count": 111,
     "metadata": {},
     "output_type": "execute_result"
    }
   ],
   "source": [
    "nst01_takeover = nst01[nst01['Time'] > driver_take_control]\n",
    "automation_take_control = nst01_takeover[nst01_takeover['Autonomous Mode (T/F)'] == True]['Time'].values[0]\n",
    "automation_take_control"
   ]
  },
  {
   "cell_type": "code",
   "execution_count": null,
   "metadata": {},
   "outputs": [
    {
     "data": {
      "text/plain": [
       "311.9711"
      ]
     },
     "execution_count": 114,
     "metadata": {},
     "output_type": "execute_result"
    }
   ],
   "source": [
    "obstacle_trigger_times['TriggeredObs1']"
   ]
  },
  {
   "cell_type": "code",
   "execution_count": null,
   "metadata": {},
   "outputs": [
    {
     "data": {
      "text/plain": [
       "318.7958"
      ]
     },
     "execution_count": 112,
     "metadata": {},
     "output_type": "execute_result"
    }
   ],
   "source": [
    "driver_take_control"
   ]
  },
  {
   "cell_type": "code",
   "execution_count": null,
   "metadata": {},
   "outputs": [
    {
     "data": {
      "text/plain": [
       "328.7561"
      ]
     },
     "execution_count": 113,
     "metadata": {},
     "output_type": "execute_result"
    }
   ],
   "source": [
    "automation_take_control"
   ]
  },
  {
   "cell_type": "code",
   "execution_count": null,
   "metadata": {},
   "outputs": [],
   "source": []
  }
 ],
 "metadata": {
  "kernelspec": {
   "display_name": "Python 3 (ipykernel)",
   "language": "python",
   "name": "python3"
  }
 },
 "nbformat": 4,
 "nbformat_minor": 2
}
