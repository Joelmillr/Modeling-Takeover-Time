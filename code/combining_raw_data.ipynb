{
 "cells": [
  {
   "cell_type": "code",
   "execution_count": 1,
   "metadata": {},
   "outputs": [],
   "source": [
    "import os\n",
    "import numpy as np\n",
    "import pandas as pd\n",
    "import matplotlib.pyplot as plt\n",
    "from sklearn import preprocessing"
   ]
  },
  {
   "cell_type": "code",
   "execution_count": 2,
   "metadata": {},
   "outputs": [],
   "source": [
    "nst01_driving = pd.read_csv('../AdVitam/Exp2/Raw/Driving/NST01.txt', dtype={\"Obstacles\": str})"
   ]
  },
  {
   "cell_type": "code",
   "execution_count": 3,
   "metadata": {},
   "outputs": [],
   "source": [
    "nst01_physio = pd.read_csv(\n",
    "    \"../AdVitam/Exp2/Raw/Physio/Txt/NST01.txt\",\n",
    "    sep=\"\\t\",\n",
    "    header=9,\n",
    "    skiprows=[10],\n",
    "    usecols=[0, 1, 2, 3],\n",
    ")"
   ]
  },
  {
   "cell_type": "code",
   "execution_count": 7,
   "metadata": {},
   "outputs": [],
   "source": [
    "nst01_physio_markers = pd.read_csv(\n",
    "    \"../AdVitam/Exp2/Raw/Physio/Txt/NST01-markers.txt\", header=2, sep=\"\\t\"\n",
    ")"
   ]
  },
  {
   "cell_type": "code",
   "execution_count": 41,
   "metadata": {},
   "outputs": [
    {
     "data": {
      "text/html": [
       "<div>\n",
       "<style scoped>\n",
       "    .dataframe tbody tr th:only-of-type {\n",
       "        vertical-align: middle;\n",
       "    }\n",
       "\n",
       "    .dataframe tbody tr th {\n",
       "        vertical-align: top;\n",
       "    }\n",
       "\n",
       "    .dataframe thead th {\n",
       "        text-align: right;\n",
       "    }\n",
       "</style>\n",
       "<table border=\"1\" class=\"dataframe\">\n",
       "  <thead>\n",
       "    <tr style=\"text-align: right;\">\n",
       "      <th></th>\n",
       "      <th>min</th>\n",
       "      <th>CH1</th>\n",
       "      <th>CH2</th>\n",
       "      <th>CH3</th>\n",
       "    </tr>\n",
       "  </thead>\n",
       "  <tbody>\n",
       "    <tr>\n",
       "      <th>973683</th>\n",
       "      <td>16.2281</td>\n",
       "      <td>25.3754</td>\n",
       "      <td>-0.100708</td>\n",
       "      <td>-0.489807</td>\n",
       "    </tr>\n",
       "    <tr>\n",
       "      <th>973684</th>\n",
       "      <td>16.2281</td>\n",
       "      <td>25.3769</td>\n",
       "      <td>-0.107422</td>\n",
       "      <td>-0.484924</td>\n",
       "    </tr>\n",
       "    <tr>\n",
       "      <th>973685</th>\n",
       "      <td>16.2281</td>\n",
       "      <td>25.3799</td>\n",
       "      <td>-0.114746</td>\n",
       "      <td>-0.480347</td>\n",
       "    </tr>\n",
       "    <tr>\n",
       "      <th>973686</th>\n",
       "      <td>16.2281</td>\n",
       "      <td>25.3830</td>\n",
       "      <td>-0.122070</td>\n",
       "      <td>-0.475464</td>\n",
       "    </tr>\n",
       "    <tr>\n",
       "      <th>973687</th>\n",
       "      <td>16.2281</td>\n",
       "      <td>25.3860</td>\n",
       "      <td>-0.129700</td>\n",
       "      <td>-0.470886</td>\n",
       "    </tr>\n",
       "    <tr>\n",
       "      <th>...</th>\n",
       "      <td>...</td>\n",
       "      <td>...</td>\n",
       "      <td>...</td>\n",
       "      <td>...</td>\n",
       "    </tr>\n",
       "    <tr>\n",
       "      <th>2159998</th>\n",
       "      <td>36.0000</td>\n",
       "      <td>23.9426</td>\n",
       "      <td>-0.018005</td>\n",
       "      <td>1.525880</td>\n",
       "    </tr>\n",
       "    <tr>\n",
       "      <th>2159999</th>\n",
       "      <td>36.0000</td>\n",
       "      <td>23.9426</td>\n",
       "      <td>-0.016174</td>\n",
       "      <td>1.510310</td>\n",
       "    </tr>\n",
       "    <tr>\n",
       "      <th>2160000</th>\n",
       "      <td>36.0000</td>\n",
       "      <td>23.9410</td>\n",
       "      <td>-0.014343</td>\n",
       "      <td>1.495060</td>\n",
       "    </tr>\n",
       "    <tr>\n",
       "      <th>2160001</th>\n",
       "      <td>36.0000</td>\n",
       "      <td>23.9410</td>\n",
       "      <td>-0.011902</td>\n",
       "      <td>1.479490</td>\n",
       "    </tr>\n",
       "    <tr>\n",
       "      <th>2160002</th>\n",
       "      <td>36.0000</td>\n",
       "      <td>23.9410</td>\n",
       "      <td>-0.008850</td>\n",
       "      <td>1.464230</td>\n",
       "    </tr>\n",
       "  </tbody>\n",
       "</table>\n",
       "<p>1186320 rows × 4 columns</p>\n",
       "</div>"
      ],
      "text/plain": [
       "             min      CH1       CH2       CH3\n",
       "973683   16.2281  25.3754 -0.100708 -0.489807\n",
       "973684   16.2281  25.3769 -0.107422 -0.484924\n",
       "973685   16.2281  25.3799 -0.114746 -0.480347\n",
       "973686   16.2281  25.3830 -0.122070 -0.475464\n",
       "973687   16.2281  25.3860 -0.129700 -0.470886\n",
       "...          ...      ...       ...       ...\n",
       "2159998  36.0000  23.9426 -0.018005  1.525880\n",
       "2159999  36.0000  23.9426 -0.016174  1.510310\n",
       "2160000  36.0000  23.9410 -0.014343  1.495060\n",
       "2160001  36.0000  23.9410 -0.011902  1.479490\n",
       "2160002  36.0000  23.9410 -0.008850  1.464230\n",
       "\n",
       "[1186320 rows x 4 columns]"
      ]
     },
     "execution_count": 41,
     "metadata": {},
     "output_type": "execute_result"
    }
   ],
   "source": [
    "nst01_physio"
   ]
  },
  {
   "cell_type": "code",
   "execution_count": 39,
   "metadata": {},
   "outputs": [],
   "source": [
    "driving_start = nst01_physio_markers[\"Time(sec.):\"][4]\n",
    "driving_end = nst01_physio_markers[\"Time(sec.):\"][5]"
   ]
  },
  {
   "cell_type": "code",
   "execution_count": 42,
   "metadata": {},
   "outputs": [
    {
     "data": {
      "text/plain": [
       "2174.65"
      ]
     },
     "execution_count": 42,
     "metadata": {},
     "output_type": "execute_result"
    }
   ],
   "source": [
    "driving_end"
   ]
  },
  {
   "cell_type": "code",
   "execution_count": null,
   "metadata": {},
   "outputs": [],
   "source": [
    "16 minutes 13.69 seconds\n",
    "36 minutes 14.65 seconds\n",
    "\n"
   ]
  },
  {
   "cell_type": "code",
   "execution_count": null,
   "metadata": {},
   "outputs": [],
   "source": [
    "20 minutes 44.26 seconds"
   ]
  },
  {
   "cell_type": "code",
   "execution_count": 37,
   "metadata": {},
   "outputs": [],
   "source": [
    "driving_start = nst01_physio_markers['Time(sec.):'][4]\n",
    "driving_end = nst01_physio_markers['Time(sec.):'][5]\n",
    "\n",
    "# convert to minutes \n",
    "\n",
    "\n",
    "nst01_physio = nst01_physio[nst01_physio['min'] >= driving_start]\n",
    "nst01_physio = nst01_physio[nst01_physio['min'] <= driving_end]"
   ]
  },
  {
   "cell_type": "code",
   "execution_count": 38,
   "metadata": {},
   "outputs": [
    {
     "data": {
      "text/plain": [
       "min    19.77190\n",
       "CH1     7.51950\n",
       "CH2     2.64832\n",
       "CH3    15.03754\n",
       "dtype: float64"
      ]
     },
     "execution_count": 38,
     "metadata": {},
     "output_type": "execute_result"
    }
   ],
   "source": [
    "nst01_physio.max() - nst01_physio.min()"
   ]
  },
  {
   "cell_type": "code",
   "execution_count": 32,
   "metadata": {},
   "outputs": [
    {
     "data": {
      "text/plain": [
       "1244.2608"
      ]
     },
     "execution_count": 32,
     "metadata": {},
     "output_type": "execute_result"
    }
   ],
   "source": [
    "nst01_driving.Time.max() - nst01_driving.Time.min()"
   ]
  },
  {
   "cell_type": "code",
   "execution_count": null,
   "metadata": {},
   "outputs": [],
   "source": []
  }
 ],
 "metadata": {
  "kernelspec": {
   "display_name": "Python 3 (ipykernel)",
   "language": "python",
   "name": "python3"
  }
 },
 "nbformat": 4,
 "nbformat_minor": 2
}
