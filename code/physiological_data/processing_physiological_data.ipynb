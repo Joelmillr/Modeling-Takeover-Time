{
 "cells": [
  {
   "cell_type": "code",
   "execution_count": null,
   "metadata": {},
   "outputs": [],
   "source": [
    "import os\n",
    "import sys\n",
    "import pickle\n",
    "import pandas as pd\n",
    "import neurokit2 as nk\n",
    "import matplotlib.pyplot as plt\n",
    "from IPython.display import clear_output\n",
    "\n",
    "sys.path.append(\"../\")\n",
    "from useful_functions.check_for_missing_data import check_for_missing_data\n",
    "from useful_functions.physio_data.pd_dictionary import create_pd_dictionary\n",
    "from useful_functions.physio_data.preprocess_physio_data import preprocess_physio_data\n",
    "from useful_functions.physio_data.process_physio_timestamps import process_physio_timestamps"
   ]
  },
  {
   "cell_type": "markdown",
   "metadata": {},
   "source": [
    "---"
   ]
  },
  {
   "cell_type": "code",
   "execution_count": null,
   "metadata": {},
   "outputs": [],
   "source": [
    "driving_data_folder = \"../../AdVitam/Exp2/Raw/Driving\"\n",
    "physio_data_folder = \"../../AdVitam/Exp2/Raw/Physio/Txt\""
   ]
  },
  {
   "cell_type": "code",
   "execution_count": null,
   "metadata": {},
   "outputs": [],
   "source": [
    "drivers_to_exclude = check_for_missing_data(driving_data_folder, physio_data_folder)\n",
    "drivers_to_exclude.extend([\"NST77\", \"NST11\"]) #, \"ST22\", \"NST87\", \"ST14\", \"ST12\", \"NST73\", \"ST10\"])"
   ]
  },
  {
   "cell_type": "markdown",
   "metadata": {},
   "source": [
    "---"
   ]
  },
  {
   "cell_type": "code",
   "execution_count": null,
   "metadata": {},
   "outputs": [],
   "source": [
    "physio_timestamps = pd.read_csv(\n",
    "    \"../../AdVitam/Exp2/Preprocessed/Physio and Driving/timestamps_obstacles.csv\"\n",
    ")"
   ]
  },
  {
   "cell_type": "code",
   "execution_count": null,
   "metadata": {},
   "outputs": [],
   "source": [
    "physio_timestamps = process_physio_timestamps(physio_timestamps, drivers_to_exclude)"
   ]
  },
  {
   "cell_type": "markdown",
   "metadata": {},
   "source": [
    "---"
   ]
  },
  {
   "cell_type": "code",
   "execution_count": null,
   "metadata": {},
   "outputs": [],
   "source": [
    "phsyiological_data_dictionary = create_pd_dictionary(physio_data_folder, drivers_to_exclude)"
   ]
  },
  {
   "cell_type": "code",
   "execution_count": null,
   "metadata": {},
   "outputs": [],
   "source": [
    "phsyiological_data_dictionary = preprocess_physio_data(phsyiological_data_dictionary)"
   ]
  },
  {
   "cell_type": "code",
   "execution_count": null,
   "metadata": {},
   "outputs": [],
   "source": [
    "# Find Average Beat/Minute\n",
    "ST20 = phsyiological_data_dictionary[\"ST20\"]\n",
    "baseline_data = ST20['baseline']\n",
    "testing_data = ST20['training']\n",
    "driving_data = ST20['driving']"
   ]
  },
  {
   "cell_type": "code",
   "execution_count": null,
   "metadata": {},
   "outputs": [],
   "source": [
    "# sliding window\n",
    "window = 10000  # 10 seconds\n",
    "step_size = 1000  # 1 second\n",
    "\n",
    "hrv_data = pd.DataFrame()\n",
    "for i in range(0, len(baseline_data), step_size):\n",
    "    if i + window > len(baseline_data):\n",
    "        break\n",
    "\n",
    "    # Print progress\n",
    "    print(f\"{i}/{len(baseline_data)} = {i/len(baseline_data)*100}%\")\n",
    "    clear_output(wait=True)\n",
    "\n",
    "    # Get window data\n",
    "    window_data = baseline_data[i : i + window]\n",
    "\n",
    "    # Compute HRV\n",
    "    window_hrv = nk.hrv(baseline_data, sampling_rate=1000)\n",
    "\n",
    "    # Add to dataframe\n",
    "    window_hrv[\"Time\"] = baseline_data[\"Time\"].iloc[i + window]\n",
    "\n",
    "    # Concatenate with hrv_data\n",
    "    hrv_data = pd.concat([hrv_data, window_hrv], ignore_index=True)"
   ]
  },
  {
   "cell_type": "code",
   "execution_count": null,
   "metadata": {},
   "outputs": [],
   "source": [
    "ST20 = phsyiological_data_dictionary[\"ST20\"][\"driving\"]"
   ]
  },
  {
   "cell_type": "code",
   "execution_count": null,
   "metadata": {},
   "outputs": [],
   "source": [
    "# plot the signals\n",
    "fig, ax = plt.subplots(3, 1, figsize=(10, 10), sharex=True)\n",
    "ax[0].plot(ST20[\"ECG_Clean\"], label=\"ECG\")\n",
    "ax[0].set_title(\"ECG\")\n",
    "ax[1].plot(ST20[\"EDA_Clean\"], label=\"EDA\")\n",
    "ax[1].set_title(\"EDA\")\n",
    "ax[2].plot(ST20[\"RSP_Clean\"], label=\"RSP\")\n",
    "ax[2].set_title(\"RSP\")\n",
    "plt.show()"
   ]
  },
  {
   "cell_type": "markdown",
   "metadata": {},
   "source": [
    "---"
   ]
  },
  {
   "cell_type": "code",
   "execution_count": null,
   "metadata": {},
   "outputs": [],
   "source": [
    "os.makedirs(\"../../AdVitam_Processed/Exp2/Processed/Physio\", exist_ok=True)\n",
    "\n",
    "# Loop through physiological data and save as TXT\n",
    "for driver in phsyiological_data_dictionary:\n",
    "    # grab segmented data\n",
    "    baseline_data = phsyiological_data_dictionary[driver][\"baseline\"]\n",
    "    training_data = phsyiological_data_dictionary[driver][\"training\"]\n",
    "    driving_data = phsyiological_data_dictionary[driver][\"driving\"]\n",
    "\n",
    "    # Create the directory if it does not exist\n",
    "    os.makedirs(\"../../AdVitam_Processed/Exp2/Processed/Physio/{driver}\", exist_ok=True)\n",
    "\n",
    "    # save the data as txt\n",
    "    baseline_data.to_csv(f\"../../AdVitam_Processed/Exp2/Processed/Physio/{driver}/{driver}_baseline.txt\", index=False)\n",
    "    training_data.to_csv(f\"../../AdVitam_Processed/Exp2/Processed/Physio/{driver}/{driver}_training.txt\", index=False)\n",
    "    driving_data.to_csv(f\"../../AdVitam_Processed/Exp2/Processed/Physio/{driver}/{driver}_driving.txt\", index=False)\n"
   ]
  },
  {
   "cell_type": "markdown",
   "metadata": {},
   "source": [
    "---"
   ]
  },
  {
   "cell_type": "markdown",
   "metadata": {},
   "source": [
    "# ASIDE:"
   ]
  },
  {
   "cell_type": "markdown",
   "metadata": {},
   "source": [
    "Participants with issues: ST22, NST87, ST14, ST12, NST73, ST10"
   ]
  },
  {
   "cell_type": "markdown",
   "metadata": {},
   "source": [
    "---"
   ]
  },
  {
   "cell_type": "code",
   "execution_count": null,
   "metadata": {},
   "outputs": [],
   "source": []
  }
 ],
 "metadata": {
  "kernelspec": {
   "display_name": "Python 3 (ipykernel)",
   "language": "python",
   "name": "python3"
  },
  "language_info": {
   "codemirror_mode": {
    "name": "ipython",
    "version": 3
   },
   "file_extension": ".py",
   "mimetype": "text/x-python",
   "name": "python",
   "nbconvert_exporter": "python",
   "pygments_lexer": "ipython3",
   "version": "3.9.12"
  }
 },
 "nbformat": 4,
 "nbformat_minor": 2
}
