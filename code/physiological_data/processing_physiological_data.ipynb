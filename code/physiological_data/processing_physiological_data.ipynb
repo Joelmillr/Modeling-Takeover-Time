{
 "cells": [
  {
   "cell_type": "code",
   "execution_count": 1,
   "metadata": {},
   "outputs": [],
   "source": [
    "import os\n",
    "import sys\n",
    "import pickle\n",
    "import pandas as pd\n",
    "import neurokit2 as nk\n",
    "import matplotlib.pyplot as plt\n",
    "from IPython.display import clear_output\n",
    "\n",
    "sys.path.append(\"../\")\n",
    "from useful_functions.check_for_missing_data import check_for_missing_data\n",
    "from useful_functions.physio_data.pd_dictionary import create_pd_dictionary\n",
    "from useful_functions.physio_data.preprocess_physio_data import preprocess_physio_data\n",
    "from useful_functions.physio_data.process_physio_timestamps import process_physio_timestamps"
   ]
  },
  {
   "cell_type": "markdown",
   "metadata": {},
   "source": [
    "---"
   ]
  },
  {
   "cell_type": "code",
   "execution_count": 2,
   "metadata": {},
   "outputs": [],
   "source": [
    "driving_data_folder = \"../../AdVitam/Exp2/Raw/Driving\"\n",
    "physio_data_folder = \"../../AdVitam/Exp2/Raw/Physio/Txt\""
   ]
  },
  {
   "cell_type": "code",
   "execution_count": 3,
   "metadata": {},
   "outputs": [],
   "source": [
    "drivers_to_exclude = check_for_missing_data(driving_data_folder, physio_data_folder)\n",
    "drivers_to_exclude.extend([\"NST77\", \"NST11\"]) #, \"ST22\", \"NST87\", \"ST14\", \"ST12\", \"NST73\", \"ST10\"])"
   ]
  },
  {
   "cell_type": "markdown",
   "metadata": {},
   "source": [
    "---"
   ]
  },
  {
   "cell_type": "code",
   "execution_count": 4,
   "metadata": {},
   "outputs": [],
   "source": [
    "physio_timestamps = pd.read_csv(\n",
    "    \"../../AdVitam/Exp2/Preprocessed/Physio and Driving/timestamps_obstacles.csv\"\n",
    ")"
   ]
  },
  {
   "cell_type": "code",
   "execution_count": 5,
   "metadata": {},
   "outputs": [],
   "source": [
    "physio_timestamps = process_physio_timestamps(physio_timestamps, drivers_to_exclude)"
   ]
  },
  {
   "cell_type": "code",
   "execution_count": 7,
   "metadata": {},
   "outputs": [
    {
     "data": {
      "text/html": [
       "<div>\n",
       "<style scoped>\n",
       "    .dataframe tbody tr th:only-of-type {\n",
       "        vertical-align: middle;\n",
       "    }\n",
       "\n",
       "    .dataframe tbody tr th {\n",
       "        vertical-align: top;\n",
       "    }\n",
       "\n",
       "    .dataframe thead th {\n",
       "        text-align: right;\n",
       "    }\n",
       "</style>\n",
       "<table border=\"1\" class=\"dataframe\">\n",
       "  <thead>\n",
       "    <tr style=\"text-align: right;\">\n",
       "      <th></th>\n",
       "      <th>subject_id</th>\n",
       "      <th>TriggeredObs1</th>\n",
       "      <th>TakeoverObs1</th>\n",
       "      <th>TriggeredObs2</th>\n",
       "      <th>TakeoverObs2</th>\n",
       "      <th>TriggeredObs3</th>\n",
       "      <th>TakeoverObs3</th>\n",
       "      <th>TriggeredObs4</th>\n",
       "      <th>TakeoverObs4</th>\n",
       "      <th>TriggeredObs5</th>\n",
       "      <th>TakeoverObs5</th>\n",
       "      <th>TriggeredObs6</th>\n",
       "      <th>TakeoverObs6</th>\n",
       "      <th>TOTObs1</th>\n",
       "      <th>TOTObs2</th>\n",
       "      <th>TOTObs3</th>\n",
       "      <th>TOTObs4</th>\n",
       "      <th>TOTObs5</th>\n",
       "      <th>TOTObs6</th>\n",
       "    </tr>\n",
       "  </thead>\n",
       "  <tbody>\n",
       "    <tr>\n",
       "      <th>0</th>\n",
       "      <td>NST01</td>\n",
       "      <td>0 days 00:02:56.705100</td>\n",
       "      <td>0 days 00:03:03.523800</td>\n",
       "      <td>0 days 00:06:56.214000</td>\n",
       "      <td>0 days 00:06:58.690200</td>\n",
       "      <td>0 days 00:08:34.815700</td>\n",
       "      <td>NaT</td>\n",
       "      <td>0 days 00:13:06.640800</td>\n",
       "      <td>NaT</td>\n",
       "      <td>0 days 00:16:23.624000</td>\n",
       "      <td>NaT</td>\n",
       "      <td>0 days 00:18:02.245000</td>\n",
       "      <td>NaT</td>\n",
       "      <td>0 days 00:00:06.818700</td>\n",
       "      <td>0 days 00:00:02.476200</td>\n",
       "      <td>NaT</td>\n",
       "      <td>NaT</td>\n",
       "      <td>NaT</td>\n",
       "      <td>NaT</td>\n",
       "    </tr>\n",
       "    <tr>\n",
       "      <th>1</th>\n",
       "      <td>ST02</td>\n",
       "      <td>0 days 00:03:50.756500</td>\n",
       "      <td>0 days 00:03:55.778000</td>\n",
       "      <td>0 days 00:01:49.933400</td>\n",
       "      <td>0 days 00:01:53.351600</td>\n",
       "      <td>0 days 00:10:25.382700</td>\n",
       "      <td>0 days 00:10:29.941600</td>\n",
       "      <td>0 days 00:13:11.720300</td>\n",
       "      <td>0 days 00:13:16.067300</td>\n",
       "      <td>0 days 00:05:57.714400</td>\n",
       "      <td>NaT</td>\n",
       "      <td>0 days 00:07:48.515800</td>\n",
       "      <td>NaT</td>\n",
       "      <td>0 days 00:00:05.021500</td>\n",
       "      <td>0 days 00:00:03.418200</td>\n",
       "      <td>0 days 00:00:04.558900</td>\n",
       "      <td>0 days 00:00:04.347000</td>\n",
       "      <td>NaT</td>\n",
       "      <td>NaT</td>\n",
       "    </tr>\n",
       "    <tr>\n",
       "      <th>2</th>\n",
       "      <td>NST03</td>\n",
       "      <td>0 days 00:13:35.204000</td>\n",
       "      <td>0 days 00:13:39.824400</td>\n",
       "      <td>0 days 00:10:19.808800</td>\n",
       "      <td>0 days 00:10:23.032200</td>\n",
       "      <td>0 days 00:04:19.471200</td>\n",
       "      <td>NaT</td>\n",
       "      <td>0 days 00:17:07.400900</td>\n",
       "      <td>NaT</td>\n",
       "      <td>0 days 00:06:18.340900</td>\n",
       "      <td>NaT</td>\n",
       "      <td>0 days 00:18:35.174900</td>\n",
       "      <td>NaT</td>\n",
       "      <td>0 days 00:00:04.620400</td>\n",
       "      <td>0 days 00:00:03.223400</td>\n",
       "      <td>NaT</td>\n",
       "      <td>NaT</td>\n",
       "      <td>NaT</td>\n",
       "      <td>NaT</td>\n",
       "    </tr>\n",
       "    <tr>\n",
       "      <th>3</th>\n",
       "      <td>ST04</td>\n",
       "      <td>0 days 00:17:20.361900</td>\n",
       "      <td>0 days 00:17:33.047900</td>\n",
       "      <td>0 days 00:11:25.928100</td>\n",
       "      <td>NaT</td>\n",
       "      <td>0 days 00:04:47.372400</td>\n",
       "      <td>NaT</td>\n",
       "      <td>0 days 00:01:59.926600</td>\n",
       "      <td>NaT</td>\n",
       "      <td>0 days 00:06:50.988200</td>\n",
       "      <td>NaT</td>\n",
       "      <td>0 days 00:14:46.936900</td>\n",
       "      <td>NaT</td>\n",
       "      <td>0 days 00:00:12.686000</td>\n",
       "      <td>NaT</td>\n",
       "      <td>NaT</td>\n",
       "      <td>NaT</td>\n",
       "      <td>NaT</td>\n",
       "      <td>NaT</td>\n",
       "    </tr>\n",
       "    <tr>\n",
       "      <th>4</th>\n",
       "      <td>NST05</td>\n",
       "      <td>0 days 00:07:08.961300</td>\n",
       "      <td>0 days 00:07:11.272600</td>\n",
       "      <td>0 days 00:12:23.166400</td>\n",
       "      <td>0 days 00:12:38.273600</td>\n",
       "      <td>0 days 00:14:59.418600</td>\n",
       "      <td>0 days 00:15:02.753600</td>\n",
       "      <td>0 days 00:04:28.071600</td>\n",
       "      <td>0 days 00:04:31.402700</td>\n",
       "      <td>0 days 00:02:23.631400</td>\n",
       "      <td>NaT</td>\n",
       "      <td>0 days 00:10:29.173600</td>\n",
       "      <td>NaT</td>\n",
       "      <td>0 days 00:00:02.311300</td>\n",
       "      <td>0 days 00:00:15.107200</td>\n",
       "      <td>0 days 00:00:03.335000</td>\n",
       "      <td>0 days 00:00:03.331100</td>\n",
       "      <td>NaT</td>\n",
       "      <td>NaT</td>\n",
       "    </tr>\n",
       "  </tbody>\n",
       "</table>\n",
       "</div>"
      ],
      "text/plain": [
       "  subject_id          TriggeredObs1           TakeoverObs1  \\\n",
       "0      NST01 0 days 00:02:56.705100 0 days 00:03:03.523800   \n",
       "1       ST02 0 days 00:03:50.756500 0 days 00:03:55.778000   \n",
       "2      NST03 0 days 00:13:35.204000 0 days 00:13:39.824400   \n",
       "3       ST04 0 days 00:17:20.361900 0 days 00:17:33.047900   \n",
       "4      NST05 0 days 00:07:08.961300 0 days 00:07:11.272600   \n",
       "\n",
       "           TriggeredObs2           TakeoverObs2          TriggeredObs3  \\\n",
       "0 0 days 00:06:56.214000 0 days 00:06:58.690200 0 days 00:08:34.815700   \n",
       "1 0 days 00:01:49.933400 0 days 00:01:53.351600 0 days 00:10:25.382700   \n",
       "2 0 days 00:10:19.808800 0 days 00:10:23.032200 0 days 00:04:19.471200   \n",
       "3 0 days 00:11:25.928100                    NaT 0 days 00:04:47.372400   \n",
       "4 0 days 00:12:23.166400 0 days 00:12:38.273600 0 days 00:14:59.418600   \n",
       "\n",
       "            TakeoverObs3          TriggeredObs4           TakeoverObs4  \\\n",
       "0                    NaT 0 days 00:13:06.640800                    NaT   \n",
       "1 0 days 00:10:29.941600 0 days 00:13:11.720300 0 days 00:13:16.067300   \n",
       "2                    NaT 0 days 00:17:07.400900                    NaT   \n",
       "3                    NaT 0 days 00:01:59.926600                    NaT   \n",
       "4 0 days 00:15:02.753600 0 days 00:04:28.071600 0 days 00:04:31.402700   \n",
       "\n",
       "           TriggeredObs5 TakeoverObs5          TriggeredObs6 TakeoverObs6  \\\n",
       "0 0 days 00:16:23.624000          NaT 0 days 00:18:02.245000          NaT   \n",
       "1 0 days 00:05:57.714400          NaT 0 days 00:07:48.515800          NaT   \n",
       "2 0 days 00:06:18.340900          NaT 0 days 00:18:35.174900          NaT   \n",
       "3 0 days 00:06:50.988200          NaT 0 days 00:14:46.936900          NaT   \n",
       "4 0 days 00:02:23.631400          NaT 0 days 00:10:29.173600          NaT   \n",
       "\n",
       "                 TOTObs1                TOTObs2                TOTObs3  \\\n",
       "0 0 days 00:00:06.818700 0 days 00:00:02.476200                    NaT   \n",
       "1 0 days 00:00:05.021500 0 days 00:00:03.418200 0 days 00:00:04.558900   \n",
       "2 0 days 00:00:04.620400 0 days 00:00:03.223400                    NaT   \n",
       "3 0 days 00:00:12.686000                    NaT                    NaT   \n",
       "4 0 days 00:00:02.311300 0 days 00:00:15.107200 0 days 00:00:03.335000   \n",
       "\n",
       "                 TOTObs4 TOTObs5 TOTObs6  \n",
       "0                    NaT     NaT     NaT  \n",
       "1 0 days 00:00:04.347000     NaT     NaT  \n",
       "2                    NaT     NaT     NaT  \n",
       "3                    NaT     NaT     NaT  \n",
       "4 0 days 00:00:03.331100     NaT     NaT  "
      ]
     },
     "execution_count": 7,
     "metadata": {},
     "output_type": "execute_result"
    }
   ],
   "source": [
    "physio_timestamps.head()"
   ]
  },
  {
   "cell_type": "markdown",
   "metadata": {},
   "source": [
    "---"
   ]
  },
  {
   "cell_type": "code",
   "execution_count": 6,
   "metadata": {},
   "outputs": [],
   "source": [
    "phsyiological_data_dictionary = create_pd_dictionary(physio_data_folder, drivers_to_exclude)"
   ]
  },
  {
   "cell_type": "code",
   "execution_count": null,
   "metadata": {},
   "outputs": [],
   "source": [
    "phsyiological_data_dictionary = preprocess_physio_data(phsyiological_data_dictionary)"
   ]
  },
  {
   "cell_type": "code",
   "execution_count": null,
   "metadata": {},
   "outputs": [],
   "source": [
    "# Find Average Beat/Minute\n",
    "ST20 = phsyiological_data_dictionary[\"ST20\"]\n",
    "baseline_data = ST20['baseline']\n",
    "testing_data = ST20['training']\n",
    "driving_data = ST20['driving']"
   ]
  },
  {
   "cell_type": "code",
   "execution_count": null,
   "metadata": {},
   "outputs": [],
   "source": [
    "# sliding window\n",
    "window = 10000  # 10 seconds\n",
    "step_size = 1000  # 1 second\n",
    "\n",
    "hrv_data = pd.DataFrame()\n",
    "for i in range(0, len(baseline_data), step_size):\n",
    "    if i + window > len(baseline_data):\n",
    "        break\n",
    "\n",
    "    # Print progress\n",
    "    print(f\"{i}/{len(baseline_data)} = {i/len(baseline_data)*100}%\")\n",
    "    clear_output(wait=True)\n",
    "\n",
    "    # Get window data\n",
    "    window_data = baseline_data[i : i + window]\n",
    "\n",
    "    # Compute HRV\n",
    "    window_hrv = nk.hrv(baseline_data, sampling_rate=1000)\n",
    "\n",
    "    # Add to dataframe\n",
    "    window_hrv[\"Time\"] = baseline_data[\"Time\"].iloc[i + window]\n",
    "\n",
    "    # Concatenate with hrv_data\n",
    "    hrv_data = pd.concat([hrv_data, window_hrv], ignore_index=True)"
   ]
  },
  {
   "cell_type": "code",
   "execution_count": null,
   "metadata": {},
   "outputs": [],
   "source": [
    "ST20 = phsyiological_data_dictionary[\"ST20\"][\"driving\"]"
   ]
  },
  {
   "cell_type": "code",
   "execution_count": null,
   "metadata": {},
   "outputs": [],
   "source": [
    "# plot the signals\n",
    "fig, ax = plt.subplots(3, 1, figsize=(10, 10), sharex=True)\n",
    "ax[0].plot(ST20[\"ECG_Clean\"], label=\"ECG\")\n",
    "ax[0].set_title(\"ECG\")\n",
    "ax[1].plot(ST20[\"EDA_Clean\"], label=\"EDA\")\n",
    "ax[1].set_title(\"EDA\")\n",
    "ax[2].plot(ST20[\"RSP_Clean\"], label=\"RSP\")\n",
    "ax[2].set_title(\"RSP\")\n",
    "plt.show()"
   ]
  },
  {
   "cell_type": "markdown",
   "metadata": {},
   "source": [
    "---"
   ]
  },
  {
   "cell_type": "code",
   "execution_count": null,
   "metadata": {},
   "outputs": [],
   "source": [
    "os.makedirs(\"../../AdVitam_Processed/Exp2/Processed/Physio\", exist_ok=True)\n",
    "\n",
    "# Loop through physiological data and save as TXT\n",
    "for driver in phsyiological_data_dictionary:\n",
    "    # grab segmented data\n",
    "    baseline_data = phsyiological_data_dictionary[driver][\"baseline\"]\n",
    "    training_data = phsyiological_data_dictionary[driver][\"training\"]\n",
    "    driving_data = phsyiological_data_dictionary[driver][\"driving\"]\n",
    "\n",
    "    # Create the directory if it does not exist\n",
    "    os.makedirs(\"../../AdVitam_Processed/Exp2/Processed/Physio/{driver}\", exist_ok=True)\n",
    "\n",
    "    # save the data as txt\n",
    "    baseline_data.to_csv(f\"../../AdVitam_Processed/Exp2/Processed/Physio/{driver}/{driver}_baseline.txt\", index=False)\n",
    "    training_data.to_csv(f\"../../AdVitam_Processed/Exp2/Processed/Physio/{driver}/{driver}_training.txt\", index=False)\n",
    "    driving_data.to_csv(f\"../../AdVitam_Processed/Exp2/Processed/Physio/{driver}/{driver}_driving.txt\", index=False)\n"
   ]
  },
  {
   "cell_type": "markdown",
   "metadata": {},
   "source": [
    "---"
   ]
  },
  {
   "cell_type": "markdown",
   "metadata": {},
   "source": [
    "# ASIDE:"
   ]
  },
  {
   "cell_type": "markdown",
   "metadata": {},
   "source": [
    "Participants with issues: ST22, NST87, ST14, ST12, NST73, ST10"
   ]
  },
  {
   "cell_type": "markdown",
   "metadata": {},
   "source": [
    "---"
   ]
  },
  {
   "cell_type": "code",
   "execution_count": null,
   "metadata": {},
   "outputs": [],
   "source": []
  }
 ],
 "metadata": {
  "kernelspec": {
   "display_name": "Python 3 (ipykernel)",
   "language": "python",
   "name": "python3"
  },
  "language_info": {
   "codemirror_mode": {
    "name": "ipython",
    "version": 3
   },
   "file_extension": ".py",
   "mimetype": "text/x-python",
   "name": "python",
   "nbconvert_exporter": "python",
   "pygments_lexer": "ipython3",
   "version": "3.9.12"
  }
 },
 "nbformat": 4,
 "nbformat_minor": 2
}
