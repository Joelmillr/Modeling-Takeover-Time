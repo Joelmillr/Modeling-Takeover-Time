{
 "cells": [
  {
   "cell_type": "code",
   "execution_count": 1,
   "metadata": {},
   "outputs": [],
   "source": [
    "import os\n",
    "import sys\n",
    "import numpy as np\n",
    "import pandas as pd\n",
    "import neurokit2 as nk\n",
    "import matplotlib.pyplot as plt\n",
    "from sklearn.mixture import GaussianMixture\n",
    "from sklearn.model_selection import RandomizedSearchCV\n",
    "\n",
    "\n",
    "sys.path.append(\"../\")\n",
    "from useful_functions.physio_data.process_physio_timestamps import process_physio_timestamps\n",
    "from useful_functions.check_for_missing_data import check_for_missing_data"
   ]
  },
  {
   "cell_type": "markdown",
   "metadata": {},
   "source": [
    "---"
   ]
  },
  {
   "cell_type": "code",
   "execution_count": 2,
   "metadata": {},
   "outputs": [],
   "source": [
    "driving_data_folder = \"../../AdVitam/Exp2/Raw/Driving\"\n",
    "physio_data_folder = \"../../AdVitam/Exp2/Raw/Physio/Txt\""
   ]
  },
  {
   "cell_type": "code",
   "execution_count": 3,
   "metadata": {},
   "outputs": [],
   "source": [
    "drivers_to_exclude = check_for_missing_data(driving_data_folder, physio_data_folder)\n",
    "drivers_to_exclude.extend(\n",
    "    [\"NST77\", \"NST11\"]\n",
    ")  # , \"ST22\", \"NST87\", \"ST14\", \"ST12\", \"NST73\", \"ST10\"])"
   ]
  },
  {
   "cell_type": "markdown",
   "metadata": {},
   "source": [
    "---"
   ]
  },
  {
   "cell_type": "markdown",
   "metadata": {},
   "source": [
    "### Reading in the saved data"
   ]
  },
  {
   "cell_type": "code",
   "execution_count": 4,
   "metadata": {},
   "outputs": [
    {
     "ename": "PermissionError",
     "evalue": "[Errno 1] Operation not permitted: '../../AdVitam_Processed/Exp2/Processed/Physio/ST66'",
     "output_type": "error",
     "traceback": [
      "\u001b[0;31m---------------------------------------------------------------------------\u001b[0m",
      "\u001b[0;31mPermissionError\u001b[0m                           Traceback (most recent call last)",
      "Cell \u001b[0;32mIn [4], line 10\u001b[0m\n\u001b[1;32m      8\u001b[0m \u001b[38;5;28;01mif\u001b[39;00m file\u001b[38;5;241m.\u001b[39mendswith(\u001b[38;5;124m\"\u001b[39m\u001b[38;5;124m.csv\u001b[39m\u001b[38;5;124m\"\u001b[39m):\n\u001b[1;32m      9\u001b[0m      file_path \u001b[38;5;241m=\u001b[39m os\u001b[38;5;241m.\u001b[39mpath\u001b[38;5;241m.\u001b[39mjoin(directory, filename)\n\u001b[0;32m---> 10\u001b[0m      \u001b[43mos\u001b[49m\u001b[38;5;241;43m.\u001b[39;49m\u001b[43mremove\u001b[49m\u001b[43m(\u001b[49m\u001b[43mfile_path\u001b[49m\u001b[43m)\u001b[49m\n",
      "\u001b[0;31mPermissionError\u001b[0m: [Errno 1] Operation not permitted: '../../AdVitam_Processed/Exp2/Processed/Physio/ST66'"
     ]
    }
   ],
   "source": [
    "# directory = \"../../AdVitam_Processed/Exp2/Processed/Physio\"\n",
    "\n",
    "# for filename in os.listdir(directory):\n",
    "#     driver_name = filename\n",
    "\n",
    "#     file_path = os.path.join(directory, filename)\n",
    "#     for file in os.listdir(file_path):\n",
    "#           if file.endswith(\".csv\"):\n",
    "#                file_path = os.path.join(directory, filename)\n",
    "#                os.remove(file_path)"
   ]
  },
  {
   "cell_type": "code",
   "execution_count": 5,
   "metadata": {},
   "outputs": [
    {
     "ename": "",
     "evalue": "",
     "output_type": "error",
     "traceback": [
      "\u001b[1;31mFailed to connect to the remote Jupyter Server 'http://localhost:8889/'. Verify the server is running and reachable."
     ]
    }
   ],
   "source": [
    "# loop through all the files in the directory\n",
    "directory = \"../../AdVitam_Processed/Exp2/Processed/Physio\"\n",
    "\n",
    "baseline_file_name = '_baseline'\n",
    "training_file_name = '_training'\n",
    "driving_file_name = '_driving'\n",
    "\n",
    "physiological_data = {}\n",
    "for filename in os.listdir(directory):\n",
    "    # the name of the folder is the driver's name\n",
    "    driver_name = filename\n",
    "    \n",
    "    # set the file paths\n",
    "    file_path = os.path.join(directory, filename)\n",
    "    driver_baseline_file = file_path + '/' + driver_name + baseline_file_name + '.csv'\n",
    "    driver_training_file = file_path + '/' + driver_name + training_file_name + '.csv'\n",
    "    driver_driving_file = file_path + '/' + driver_name + driving_file_name + '.csv'\n",
    "\n",
    "    # read the csv file\n",
    "    baseline_data = pd.read_csv(driver_baseline_file)\n",
    "    training_data = pd.read_csv(driver_training_file)\n",
    "    driving_data = pd.read_csv(driver_driving_file)\n",
    "\n",
    "    # save the files as txt files\n",
    "    baseline_data.to_csv(driver_baseline_file[:-4] + '.txt', index=False)\n",
    "    training_data.to_csv(driver_training_file[:-4] + '.txt', index=False)\n",
    "    driving_data.to_csv(driver_driving_file[:-4] + '.txt', index=False)\n",
    "\n",
    "    # # save the files in the dictionary\n",
    "    # driver_data = {\n",
    "    #     'baseline': baseline_data,\n",
    "    #     'training': training_data,\n",
    "    #     'driving': driving_data\n",
    "    # }\n",
    "    # physiological_data[driver_name] = driver_data"
   ]
  },
  {
   "cell_type": "markdown",
   "metadata": {},
   "source": [
    "---"
   ]
  },
  {
   "cell_type": "markdown",
   "metadata": {},
   "source": [
    "Steps:\n",
    "1. Train HMM to baseline data\n",
    "    - Using 10 second sliding window\n",
    "2. Train HMM to training data\n",
    "    - Using 10 second sliding window\n",
    "3. Test HMM on driving data\n",
    "    - Using 10 second sliding window"
   ]
  },
  {
   "cell_type": "markdown",
   "metadata": {},
   "source": [
    "---"
   ]
  },
  {
   "cell_type": "code",
   "execution_count": null,
   "metadata": {},
   "outputs": [],
   "source": [
    "# grab the data\n",
    "driver = \"NST51\"\n",
    "\n",
    "# driver data\n",
    "driver_baseline_data = physiological_data[driver][\"baseline\"]\n",
    "driver_baseline_data = driver_baseline_data.drop(columns=driver_baseline_data.columns[0])\n",
    "driver_training_data = physiological_data[driver][\"training\"]\n",
    "driver_training_data = driver_training_data.drop(columns=driver_training_data.columns[0])\n",
    "driver_driving_data = physiological_data[driver][\"driving\"]\n",
    "driver_driving_data = driver_driving_data.drop(columns=driver_driving_data.columns[0])"
   ]
  },
  {
   "cell_type": "code",
   "execution_count": null,
   "metadata": {},
   "outputs": [],
   "source": [
    "# train the model on the baseline data using 10sec sliding windows\n"
   ]
  },
  {
   "cell_type": "code",
   "execution_count": null,
   "metadata": {},
   "outputs": [],
   "source": [
    "# driver timestamps\n",
    "physio_timestamps = pd.read_csv(\n",
    "    \"../../AdVitam/Exp2/Preprocessed/Physio and Driving/timestamps_obstacles.csv\"\n",
    ")\n",
    "physio_timestamps = process_physio_timestamps(physio_timestamps, drivers_to_exclude)\n",
    "driver_timestamps = physio_timestamps[physio_timestamps[\"subject_id\"] == driver]"
   ]
  },
  {
   "cell_type": "code",
   "execution_count": null,
   "metadata": {},
   "outputs": [],
   "source": [
    "# initialize lists to store observations\n",
    "slow_observations = []\n",
    "fast_observations = []"
   ]
  },
  {
   "cell_type": "code",
   "execution_count": null,
   "metadata": {},
   "outputs": [],
   "source": [
    "# construct the observations\n",
    "driver_baseline_data = driver_baseline_data.drop(columns=[\"Time\"])\n",
    "driver_baseline_data = driver_baseline_data.to_numpy()\n",
    "baseline_observations = np.vstack(driver_baseline_data)"
   ]
  },
  {
   "cell_type": "code",
   "execution_count": null,
   "metadata": {},
   "outputs": [],
   "source": [
    "# initializing the hyperparameters\n",
    "n_components = np.arange(1, 11)\n",
    "covariance_type = [\"full\", \"tied\", \"diag\", \"spherical\"]\n",
    "tol = np.arange(0.001, 0.011, 0.001)\n",
    "init_params = [\"kmeans\", \"k-means++\", \"random\", \"random_from_data\"]\n",
    "random_state = np.arange(0, 11)\n",
    "max_iter = np.linspace(100, 10000, 100).astype(int)\n",
    "\n",
    "hyperparametes = {\n",
    "    \"n_components\": n_components,\n",
    "    \"covariance_type\": covariance_type,\n",
    "    \"tol\": tol,\n",
    "    \"init_params\": init_params,\n",
    "    \"random_state\": random_state,\n",
    "    \"max_iter\": max_iter,\n",
    "}\n",
    "\n",
    "# initialize the model\n",
    "gmm = GaussianMixture()\n",
    "\n",
    "# random search\n",
    "gmm_random = RandomizedSearchCV(\n",
    "    estimator=gmm,\n",
    "    param_distributions=hyperparametes,\n",
    "    n_iter=1000,\n",
    "    cv=5,\n",
    "    verbose=2,\n",
    "    n_jobs=-1,\n",
    ")\n",
    "\n",
    "# fit the model\n",
    "gmm_random.fit(baseline_observations)"
   ]
  },
  {
   "cell_type": "code",
   "execution_count": null,
   "metadata": {},
   "outputs": [],
   "source": [
    "gmm = gmm_random.best_estimator_\n",
    "\n",
    "# fit the model\n",
    "gmm.fit(baseline_observations)"
   ]
  },
  {
   "cell_type": "code",
   "execution_count": null,
   "metadata": {},
   "outputs": [],
   "source": [
    "driver_driving_data"
   ]
  },
  {
   "cell_type": "code",
   "execution_count": null,
   "metadata": {},
   "outputs": [],
   "source": [
    "# convert the time to datetime\n",
    "driver_driving_data['Time'] = pd.to_datetime(driver_driving_data['Time'], format='%Y-%m-%d %H:%M:%S.%f')\n"
   ]
  },
  {
   "cell_type": "code",
   "execution_count": null,
   "metadata": {},
   "outputs": [],
   "source": [
    "slow_observations = []\n",
    "fast_observations = []\n",
    "\n",
    "# loop through every takeover\n",
    "for column in driver_timestamps.columns:\n",
    "    if \"TOT\" in column:\n",
    "        # get the obstacle number\n",
    "        obstacle = column.replace(\"TOT\", \"\")\n",
    "\n",
    "        # store the obstacle triggers for driving and physio\n",
    "        physio_obstacle_trigger = driver_timestamps[\"Triggered\" + obstacle].iloc[0]\n",
    "\n",
    "        # check if the obstacle triggers are not null\n",
    "        if pd.isnull(physio_obstacle_trigger):\n",
    "            continue\n",
    "\n",
    "        # trim the data to the 10s before the takeover\n",
    "        physio_data_10_sec = driver_driving_data[\n",
    "            (\n",
    "                driver_driving_data[\"Time\"]\n",
    "                >= (\n",
    "                    driver_driving_data.Time.min()\n",
    "                    + physio_obstacle_trigger\n",
    "                    - pd.to_timedelta(\"10s\")\n",
    "                )\n",
    "            )\n",
    "            & (\n",
    "                driver_driving_data[\"Time\"]\n",
    "                < driver_driving_data.Time.min() + physio_obstacle_trigger\n",
    "            )\n",
    "        ].copy()\n",
    "\n",
    "        # reset the Time index\n",
    "        physio_data_10_sec = physio_data_10_sec.set_index(\"Time\")\n",
    "\n",
    "        # set the index to 0\n",
    "        physio_data_10_sec.index = physio_data_10_sec.index - physio_data_10_sec.index.min()\n",
    "\n",
    "        # reset the index\n",
    "        driver_data.reset_index(inplace=True)\n",
    "\n",
    "        # determine if the takeover was slow or fast\n",
    "        if driver_timestamps[column].iloc[0] > pd.to_timedelta(\"3s\"):\n",
    "            slow_observations.append(driver_data.to_numpy())\n",
    "        else:\n",
    "            fast_observations.append(driver_data.to_numpy())"
   ]
  },
  {
   "cell_type": "code",
   "execution_count": null,
   "metadata": {},
   "outputs": [],
   "source": []
  }
 ],
 "metadata": {
  "kernelspec": {
   "display_name": "Python 3 (ipykernel)",
   "language": "python",
   "name": "python3"
  },
  "language_info": {
   "codemirror_mode": {
    "name": "ipython",
    "version": 3
   },
   "file_extension": ".py",
   "mimetype": "text/x-python",
   "name": "python",
   "nbconvert_exporter": "python",
   "pygments_lexer": "ipython3",
   "version": "3.9.12"
  }
 },
 "nbformat": 4,
 "nbformat_minor": 2
}
