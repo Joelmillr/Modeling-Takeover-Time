{
 "cells": [
  {
   "cell_type": "markdown",
   "metadata": {},
   "source": [
    "# Fitting a GMM to the AdVitam Dataset\n"
   ]
  },
  {
   "cell_type": "markdown",
   "metadata": {},
   "source": [
    "<hr style=\"border-top: 1px solid white;\">\n"
   ]
  },
  {
   "cell_type": "markdown",
   "metadata": {},
   "source": [
    "## Preamble\n"
   ]
  },
  {
   "cell_type": "markdown",
   "metadata": {},
   "source": [
    "Python Libraries\n"
   ]
  },
  {
   "cell_type": "code",
   "execution_count": 1,
   "metadata": {},
   "outputs": [],
   "source": [
    "import numpy as np\n",
    "import pandas as pd\n",
    "import neurokit2 as nk\n",
    "import matplotlib.pyplot as plt\n",
    "from sklearn import preprocessing\n",
    "from sklearn.mixture import GaussianMixture\n",
    "from sklearn.model_selection import (\n",
    "    train_test_split,\n",
    "    GridSearchCV,\n",
    "    RandomizedSearchCV\n",
    ")"
   ]
  },
  {
   "cell_type": "markdown",
   "metadata": {},
   "source": [
    "<br></br>\n"
   ]
  },
  {
   "cell_type": "markdown",
   "metadata": {},
   "source": [
    "Custom Functions\n"
   ]
  },
  {
   "cell_type": "code",
   "execution_count": 3,
   "metadata": {},
   "outputs": [],
   "source": [
    "# in order of appearance\n",
    "from useful_functions.check_for_missing_data import check_for_missing_data\n",
    "\n",
    "# driving data\n",
    "from useful_functions.driving_data.dd_dictionary import create_dd_dictionary\n",
    "from useful_functions.driving_data.process_driving_data import processing_driving_data\n",
    "from useful_functions.takeover_dataframe import create_takeover_timestamps\n",
    "\n",
    "# physio data\n",
    "from useful_functions.physio_data.pd_dictionary import create_pd_dictionary\n",
    "from useful_functions.physio_data.process_physio_timestamps import process_physio_timestamps\n",
    "from useful_functions.physio_data.preprocess_physio_data import preprocess_physio_data\n",
    "\n",
    "from useful_functions.demographic_data.process_driver_demographic_data import (\n",
    "    process_driver_demographic_data,\n",
    ")\n",
    "\n",
    "from useful_functions.construct_observations import construct_observations"
   ]
  },
  {
   "cell_type": "markdown",
   "metadata": {},
   "source": [
    "<br></br>"
   ]
  },
  {
   "cell_type": "markdown",
   "metadata": {},
   "source": [
    "Storing the folder paths to raw data\n"
   ]
  },
  {
   "cell_type": "code",
   "execution_count": 4,
   "metadata": {},
   "outputs": [],
   "source": [
    "driving_data_folder = \"../AdVitam/Exp2/Raw/Driving\"\n",
    "physio_data_folder = \"../AdVitam/Exp2/Raw/Physio/Txt\""
   ]
  },
  {
   "cell_type": "markdown",
   "metadata": {},
   "source": [
    "<br></br>"
   ]
  },
  {
   "cell_type": "markdown",
   "metadata": {},
   "source": [
    "Storing a list of driver files to exclude"
   ]
  },
  {
   "cell_type": "code",
   "execution_count": 5,
   "metadata": {},
   "outputs": [],
   "source": [
    "drivers_to_exclude = check_for_missing_data(driving_data_folder, physio_data_folder)\n",
    "drivers_to_exclude.extend([\"NST77\", \"NST11\", \"ST22\", \"NST87\", \"ST14\", \"ST12\", \"NST73\", \"ST10\"])"
   ]
  },
  {
   "cell_type": "markdown",
   "metadata": {},
   "source": [
    "`check_for_missing_data()` returns a list of any driver that is _not_ in both the `driving` and `physio` folders."
   ]
  },
  {
   "cell_type": "markdown",
   "metadata": {},
   "source": [
    "Participants: ST22, NST87, ST14, ST12, NST73 and ST10 seem to have issues with there physiological data"
   ]
  },
  {
   "cell_type": "markdown",
   "metadata": {},
   "source": [
    "<br></br>\n",
    "<br></br>"
   ]
  },
  {
   "cell_type": "markdown",
   "metadata": {},
   "source": [
    "# Importing Data + Preprocessing\n"
   ]
  },
  {
   "cell_type": "markdown",
   "metadata": {},
   "source": [
    "---\n"
   ]
  },
  {
   "cell_type": "markdown",
   "metadata": {},
   "source": [
    "<br>\n"
   ]
  },
  {
   "cell_type": "markdown",
   "metadata": {},
   "source": [
    "## Driving Data\n"
   ]
  },
  {
   "cell_type": "markdown",
   "metadata": {},
   "source": [
    "<hr style=\"border-top: 1px dashed white; border-bottom: 0px\">\n"
   ]
  },
  {
   "cell_type": "markdown",
   "metadata": {},
   "source": [
    "### Data Description\n"
   ]
  },
  {
   "cell_type": "markdown",
   "metadata": {},
   "source": [
    "**Driver Data:**\n",
    "| Feature | Description | Notes |\n",
    "| --- | --- | --- |\n",
    "| Time | Time elapsed since the software was launched (in seconds) | |\n",
    "| EngineSpeed | Engine speed (in rpm) | Removed |\n",
    "| GearPosActual | Current gear | Removed |\n",
    "| GearPosTarget | Next planned gear | Removed |\n",
    "| AcceleratorPedalPos | Position of gas pedal. | Recording problem, Removed |\n",
    "| DeceleratorPedalPos | Position of brake pedal. | Recording problem, Removed |\n",
    "| SteeringWheelAngle | Steering wheel angle (in degrees) | |\n",
    "| VehicleSpeed | Vehicle speed (in mph) | |\n",
    "| Position X | Vehicle position along the x-axis in the simulated driving environment | |\n",
    "| Position Y | Vehicle position along the y-axis in the simulated driving environment | |\n",
    "| Position Z | Vehicle position along the z-axis in the simulated driving environment | |\n",
    "| Autonomous Mode (T/F) | Autonomous pilot status. The driver is in control of the car when the value of the column \"Autonomous Mode (T/F)\" is False | True = Activated, False = Deactivated (driver in control) |\n",
    "| Obstacles | Events that occurred during the driving simulation. | See Below |\n"
   ]
  },
  {
   "cell_type": "markdown",
   "metadata": {},
   "source": [
    "<br></br>\n"
   ]
  },
  {
   "cell_type": "markdown",
   "metadata": {},
   "source": [
    "**Obstacles:**\n",
    "\n",
    "| Event         | Description                                                                                                                                                                                             |\n",
    "| ------------- | ------------------------------------------------------------------------------------------------------------------------------------------------------------------------------------------------------- |\n",
    "| TriggeredObsX | Time at which each takeover request was triggered by the experimenter                                                                                                                                   |\n",
    "| Obs1          | Deer                                                                                                                                                                                                    |\n",
    "| Obs2          | Traffic cone                                                                                                                                                                                            |\n",
    "| Obs3          | Frog                                                                                                                                                                                                    |\n",
    "| Obs4          | Traffic cone                                                                                                                                                                                            |\n",
    "| Obs5          | False alarm (x2)                                                                                                                                                                                        |\n",
    "| Detected      | Time at which the driver pressed the steering wheel button to notify he/she understood the situation. |\n"
   ]
  },
  {
   "cell_type": "markdown",
   "metadata": {},
   "source": [
    "<br></br>\n"
   ]
  },
  {
   "cell_type": "markdown",
   "metadata": {},
   "source": [
    "### Driving Data Dictionary\n"
   ]
  },
  {
   "cell_type": "markdown",
   "metadata": {},
   "source": [
    "Creates a dictionary of the raw driving data files.\n"
   ]
  },
  {
   "cell_type": "code",
   "execution_count": 6,
   "metadata": {},
   "outputs": [],
   "source": [
    "driving_data_dictionary = create_dd_dictionary(driving_data_folder, drivers_to_exclude)"
   ]
  },
  {
   "cell_type": "markdown",
   "metadata": {},
   "source": [
    "`create_dd_dictionary()` stores every file in the `driving_data_folder` in a dictionary"
   ]
  },
  {
   "cell_type": "code",
   "execution_count": 8,
   "metadata": {},
   "outputs": [
    {
     "data": {
      "text/html": [
       "<div>\n",
       "<style scoped>\n",
       "    .dataframe tbody tr th:only-of-type {\n",
       "        vertical-align: middle;\n",
       "    }\n",
       "\n",
       "    .dataframe tbody tr th {\n",
       "        vertical-align: top;\n",
       "    }\n",
       "\n",
       "    .dataframe thead th {\n",
       "        text-align: right;\n",
       "    }\n",
       "</style>\n",
       "<table border=\"1\" class=\"dataframe\">\n",
       "  <thead>\n",
       "    <tr style=\"text-align: right;\">\n",
       "      <th></th>\n",
       "      <th>Time</th>\n",
       "      <th>SteeringWheelAngle</th>\n",
       "      <th>VehicleSpeed</th>\n",
       "      <th>Autonomous Mode (T/F)</th>\n",
       "      <th>Obstacles</th>\n",
       "    </tr>\n",
       "  </thead>\n",
       "  <tbody>\n",
       "    <tr>\n",
       "      <th>0</th>\n",
       "      <td>102.0442</td>\n",
       "      <td>-51.0</td>\n",
       "      <td>0.0000</td>\n",
       "      <td>False</td>\n",
       "      <td>NaN</td>\n",
       "    </tr>\n",
       "    <tr>\n",
       "      <th>1</th>\n",
       "      <td>102.0442</td>\n",
       "      <td>-51.0</td>\n",
       "      <td>0.0000</td>\n",
       "      <td>False</td>\n",
       "      <td>NaN</td>\n",
       "    </tr>\n",
       "    <tr>\n",
       "      <th>2</th>\n",
       "      <td>102.0642</td>\n",
       "      <td>-51.0</td>\n",
       "      <td>11.1829</td>\n",
       "      <td>False</td>\n",
       "      <td>NaN</td>\n",
       "    </tr>\n",
       "    <tr>\n",
       "      <th>3</th>\n",
       "      <td>102.0739</td>\n",
       "      <td>-51.0</td>\n",
       "      <td>11.1829</td>\n",
       "      <td>False</td>\n",
       "      <td>NaN</td>\n",
       "    </tr>\n",
       "    <tr>\n",
       "      <th>4</th>\n",
       "      <td>102.0782</td>\n",
       "      <td>-51.0</td>\n",
       "      <td>11.1829</td>\n",
       "      <td>False</td>\n",
       "      <td>NaN</td>\n",
       "    </tr>\n",
       "  </tbody>\n",
       "</table>\n",
       "</div>"
      ],
      "text/plain": [
       "       Time  SteeringWheelAngle  VehicleSpeed  Autonomous Mode (T/F) Obstacles\n",
       "0  102.0442               -51.0        0.0000                  False       NaN\n",
       "1  102.0442               -51.0        0.0000                  False       NaN\n",
       "2  102.0642               -51.0       11.1829                  False       NaN\n",
       "3  102.0739               -51.0       11.1829                  False       NaN\n",
       "4  102.0782               -51.0       11.1829                  False       NaN"
      ]
     },
     "execution_count": 8,
     "metadata": {},
     "output_type": "execute_result"
    }
   ],
   "source": [
    "# example usage\n",
    "driving_data_dictionary['NST01'].head()"
   ]
  },
  {
   "cell_type": "markdown",
   "metadata": {},
   "source": [
    "<br></br>\n"
   ]
  },
  {
   "cell_type": "markdown",
   "metadata": {},
   "source": [
    "Processing driving data\n"
   ]
  },
  {
   "cell_type": "code",
   "execution_count": 9,
   "metadata": {},
   "outputs": [],
   "source": [
    "# Fitting a Label Encoder to the `Obstacles` column\n",
    "driver_data = driving_data_dictionary[\"NST01\"]\n",
    "driver_data = driver_data.fillna(\"Nothing\")\n",
    "enc = preprocessing.LabelEncoder()\n",
    "enc.fit(driver_data[\"Obstacles\"])\n",
    "\n",
    "# Processing the driving data\n",
    "driving_data_dictionary = processing_driving_data(driving_data_dictionary, enc)"
   ]
  },
  {
   "cell_type": "code",
   "execution_count": 10,
   "metadata": {},
   "outputs": [
    {
     "data": {
      "text/html": [
       "<div>\n",
       "<style scoped>\n",
       "    .dataframe tbody tr th:only-of-type {\n",
       "        vertical-align: middle;\n",
       "    }\n",
       "\n",
       "    .dataframe tbody tr th {\n",
       "        vertical-align: top;\n",
       "    }\n",
       "\n",
       "    .dataframe thead th {\n",
       "        text-align: right;\n",
       "    }\n",
       "</style>\n",
       "<table border=\"1\" class=\"dataframe\">\n",
       "  <thead>\n",
       "    <tr style=\"text-align: right;\">\n",
       "      <th></th>\n",
       "      <th>Time</th>\n",
       "      <th>SteeringWheelAngle</th>\n",
       "      <th>VehicleSpeed</th>\n",
       "      <th>Autonomous Mode (T/F)</th>\n",
       "      <th>Obstacles</th>\n",
       "    </tr>\n",
       "  </thead>\n",
       "  <tbody>\n",
       "    <tr>\n",
       "      <th>0</th>\n",
       "      <td>0 days 00:01:42.044200</td>\n",
       "      <td>-51.0</td>\n",
       "      <td>0.0000</td>\n",
       "      <td>False</td>\n",
       "      <td>1</td>\n",
       "    </tr>\n",
       "    <tr>\n",
       "      <th>1</th>\n",
       "      <td>0 days 00:01:42.054200</td>\n",
       "      <td>-51.0</td>\n",
       "      <td>0.0000</td>\n",
       "      <td>False</td>\n",
       "      <td>1</td>\n",
       "    </tr>\n",
       "    <tr>\n",
       "      <th>2</th>\n",
       "      <td>0 days 00:01:42.064200</td>\n",
       "      <td>-51.0</td>\n",
       "      <td>11.1829</td>\n",
       "      <td>False</td>\n",
       "      <td>1</td>\n",
       "    </tr>\n",
       "    <tr>\n",
       "      <th>3</th>\n",
       "      <td>0 days 00:01:42.074200</td>\n",
       "      <td>-51.0</td>\n",
       "      <td>11.1829</td>\n",
       "      <td>False</td>\n",
       "      <td>1</td>\n",
       "    </tr>\n",
       "    <tr>\n",
       "      <th>4</th>\n",
       "      <td>0 days 00:01:42.084200</td>\n",
       "      <td>-51.0</td>\n",
       "      <td>7.0143</td>\n",
       "      <td>False</td>\n",
       "      <td>1</td>\n",
       "    </tr>\n",
       "  </tbody>\n",
       "</table>\n",
       "</div>"
      ],
      "text/plain": [
       "                    Time  SteeringWheelAngle  VehicleSpeed  \\\n",
       "0 0 days 00:01:42.044200               -51.0        0.0000   \n",
       "1 0 days 00:01:42.054200               -51.0        0.0000   \n",
       "2 0 days 00:01:42.064200               -51.0       11.1829   \n",
       "3 0 days 00:01:42.074200               -51.0       11.1829   \n",
       "4 0 days 00:01:42.084200               -51.0        7.0143   \n",
       "\n",
       "   Autonomous Mode (T/F)  Obstacles  \n",
       "0                  False          1  \n",
       "1                  False          1  \n",
       "2                  False          1  \n",
       "3                  False          1  \n",
       "4                  False          1  "
      ]
     },
     "execution_count": 10,
     "metadata": {},
     "output_type": "execute_result"
    }
   ],
   "source": [
    "# example usage\n",
    "driving_data_dictionary[\"NST01\"].head()"
   ]
  },
  {
   "cell_type": "markdown",
   "metadata": {},
   "source": [
    "A label Encoder is fit to the `Obstacles` of driver `NST01`\n",
    "\n",
    "`processing_driving_data()`label encodes the `Obstacles` for every driver and resamples the driving data to 10ms (or 100Hz)"
   ]
  },
  {
   "cell_type": "markdown",
   "metadata": {},
   "source": [
    "<br></br>\n"
   ]
  },
  {
   "cell_type": "markdown",
   "metadata": {},
   "source": [
    "Creating driving data takeover timestamps\n"
   ]
  },
  {
   "cell_type": "code",
   "execution_count": 11,
   "metadata": {},
   "outputs": [],
   "source": [
    "driving_timestamps = create_takeover_timestamps(driving_data_dictionary, enc)"
   ]
  },
  {
   "cell_type": "markdown",
   "metadata": {},
   "source": [
    "`create_takeover_timestamps()` extracts timestamps from each driver takeover.\n",
    "\n",
    "Driving Timestamps include:\n",
    "- `TriggeredObsX` : When the takeover request for obstacle X was triggered\n",
    "- `TakeoverObsX`: When the driver tookover the vehicle\n",
    "- `ReleaseObsX`: When the driver released control of the vehicle to the automation\n",
    "- `TOTObsX`: The amount of time it took for the driver to takeover for obstacle X (`TakeoverObsX` - `TriggeredObsX`)\n"
   ]
  },
  {
   "cell_type": "code",
   "execution_count": 12,
   "metadata": {},
   "outputs": [
    {
     "data": {
      "text/html": [
       "<div>\n",
       "<style scoped>\n",
       "    .dataframe tbody tr th:only-of-type {\n",
       "        vertical-align: middle;\n",
       "    }\n",
       "\n",
       "    .dataframe tbody tr th {\n",
       "        vertical-align: top;\n",
       "    }\n",
       "\n",
       "    .dataframe thead th {\n",
       "        text-align: right;\n",
       "    }\n",
       "</style>\n",
       "<table border=\"1\" class=\"dataframe\">\n",
       "  <thead>\n",
       "    <tr style=\"text-align: right;\">\n",
       "      <th></th>\n",
       "      <th>subject_id</th>\n",
       "      <th>TriggeredObs1</th>\n",
       "      <th>TakeoverObs1</th>\n",
       "      <th>ReleaseObs1</th>\n",
       "      <th>TOTObs1</th>\n",
       "      <th>TriggeredObs2</th>\n",
       "      <th>TakeoverObs2</th>\n",
       "      <th>ReleaseObs2</th>\n",
       "      <th>TOTObs2</th>\n",
       "      <th>TriggeredObs3</th>\n",
       "      <th>...</th>\n",
       "      <th>ReleaseObs3</th>\n",
       "      <th>TOTObs3</th>\n",
       "      <th>TriggeredObs4</th>\n",
       "      <th>TakeoverObs4</th>\n",
       "      <th>ReleaseObs4</th>\n",
       "      <th>TOTObs4</th>\n",
       "      <th>TriggeredObs5</th>\n",
       "      <th>TakeoverObs5</th>\n",
       "      <th>ReleaseObs5</th>\n",
       "      <th>TOTObs5</th>\n",
       "    </tr>\n",
       "  </thead>\n",
       "  <tbody>\n",
       "    <tr>\n",
       "      <th>0</th>\n",
       "      <td>NST01</td>\n",
       "      <td>0 days 00:05:11.974200</td>\n",
       "      <td>0 days 00:05:18.804200</td>\n",
       "      <td>0 days 00:05:28.764200</td>\n",
       "      <td>0 days 00:00:06.830000</td>\n",
       "      <td>0 days 00:09:11.494200</td>\n",
       "      <td>0 days 00:09:13.964200</td>\n",
       "      <td>0 days 00:09:23.654200</td>\n",
       "      <td>0 days 00:00:02.470000</td>\n",
       "      <td>0 days 00:10:50.094200</td>\n",
       "      <td>...</td>\n",
       "      <td>0 days 00:10:54.554200</td>\n",
       "      <td>0 days 00:00:04.080000</td>\n",
       "      <td>NaT</td>\n",
       "      <td>NaT</td>\n",
       "      <td>NaT</td>\n",
       "      <td>NaT</td>\n",
       "      <td>NaT</td>\n",
       "      <td>NaT</td>\n",
       "      <td>NaT</td>\n",
       "      <td>NaT</td>\n",
       "    </tr>\n",
       "    <tr>\n",
       "      <th>1</th>\n",
       "      <td>ST02</td>\n",
       "      <td>0 days 00:08:03.979300</td>\n",
       "      <td>0 days 00:08:08.999300</td>\n",
       "      <td>0 days 00:08:17.339300</td>\n",
       "      <td>0 days 00:00:05.020000</td>\n",
       "      <td>0 days 00:06:03.149300</td>\n",
       "      <td>0 days 00:06:06.569300</td>\n",
       "      <td>0 days 00:06:09.769300</td>\n",
       "      <td>0 days 00:00:03.420000</td>\n",
       "      <td>0 days 00:14:38.599300</td>\n",
       "      <td>...</td>\n",
       "      <td>0 days 00:14:44.779300</td>\n",
       "      <td>0 days 00:00:04.560000</td>\n",
       "      <td>0 days 00:17:24.939300</td>\n",
       "      <td>0 days 00:17:29.289300</td>\n",
       "      <td>0 days 00:17:33.199300</td>\n",
       "      <td>0 days 00:00:04.350000</td>\n",
       "      <td>NaT</td>\n",
       "      <td>NaT</td>\n",
       "      <td>NaT</td>\n",
       "      <td>NaT</td>\n",
       "    </tr>\n",
       "    <tr>\n",
       "      <th>2</th>\n",
       "      <td>NST03</td>\n",
       "      <td>0 days 00:16:04.013200</td>\n",
       "      <td>0 days 00:16:08.633200</td>\n",
       "      <td>0 days 00:16:41.013200</td>\n",
       "      <td>0 days 00:00:04.620000</td>\n",
       "      <td>0 days 00:12:48.623200</td>\n",
       "      <td>0 days 00:12:51.843200</td>\n",
       "      <td>0 days 00:13:24.443200</td>\n",
       "      <td>0 days 00:00:03.220000</td>\n",
       "      <td>NaT</td>\n",
       "      <td>...</td>\n",
       "      <td>NaT</td>\n",
       "      <td>NaT</td>\n",
       "      <td>NaT</td>\n",
       "      <td>NaT</td>\n",
       "      <td>NaT</td>\n",
       "      <td>NaT</td>\n",
       "      <td>NaT</td>\n",
       "      <td>NaT</td>\n",
       "      <td>NaT</td>\n",
       "      <td>NaT</td>\n",
       "    </tr>\n",
       "    <tr>\n",
       "      <th>3</th>\n",
       "      <td>ST04</td>\n",
       "      <td>0 days 00:19:23.934300</td>\n",
       "      <td>0 days 00:19:36.624300</td>\n",
       "      <td>0 days 00:19:54.174300</td>\n",
       "      <td>0 days 00:00:12.690000</td>\n",
       "      <td>0 days 00:13:29.504300</td>\n",
       "      <td>0 days 00:13:32.174300</td>\n",
       "      <td>0 days 00:13:39.614300</td>\n",
       "      <td>0 days 00:00:02.670000</td>\n",
       "      <td>NaT</td>\n",
       "      <td>...</td>\n",
       "      <td>NaT</td>\n",
       "      <td>NaT</td>\n",
       "      <td>NaT</td>\n",
       "      <td>NaT</td>\n",
       "      <td>NaT</td>\n",
       "      <td>NaT</td>\n",
       "      <td>NaT</td>\n",
       "      <td>NaT</td>\n",
       "      <td>NaT</td>\n",
       "      <td>NaT</td>\n",
       "    </tr>\n",
       "    <tr>\n",
       "      <th>4</th>\n",
       "      <td>NST05</td>\n",
       "      <td>0 days 00:10:02.164780</td>\n",
       "      <td>0 days 00:10:04.474780</td>\n",
       "      <td>0 days 00:10:06.294780</td>\n",
       "      <td>0 days 00:00:02.310000</td>\n",
       "      <td>0 days 00:15:16.364780</td>\n",
       "      <td>0 days 00:15:31.474780</td>\n",
       "      <td>0 days 00:15:36.064780</td>\n",
       "      <td>0 days 00:00:15.110000</td>\n",
       "      <td>0 days 00:17:52.614780</td>\n",
       "      <td>...</td>\n",
       "      <td>0 days 00:18:00.284780</td>\n",
       "      <td>0 days 00:00:03.340000</td>\n",
       "      <td>0 days 00:07:21.274780</td>\n",
       "      <td>0 days 00:07:24.604780</td>\n",
       "      <td>0 days 00:07:27.654780</td>\n",
       "      <td>0 days 00:00:03.330000</td>\n",
       "      <td>NaT</td>\n",
       "      <td>NaT</td>\n",
       "      <td>NaT</td>\n",
       "      <td>NaT</td>\n",
       "    </tr>\n",
       "  </tbody>\n",
       "</table>\n",
       "<p>5 rows × 21 columns</p>\n",
       "</div>"
      ],
      "text/plain": [
       "  subject_id          TriggeredObs1           TakeoverObs1  \\\n",
       "0      NST01 0 days 00:05:11.974200 0 days 00:05:18.804200   \n",
       "1       ST02 0 days 00:08:03.979300 0 days 00:08:08.999300   \n",
       "2      NST03 0 days 00:16:04.013200 0 days 00:16:08.633200   \n",
       "3       ST04 0 days 00:19:23.934300 0 days 00:19:36.624300   \n",
       "4      NST05 0 days 00:10:02.164780 0 days 00:10:04.474780   \n",
       "\n",
       "             ReleaseObs1                TOTObs1          TriggeredObs2  \\\n",
       "0 0 days 00:05:28.764200 0 days 00:00:06.830000 0 days 00:09:11.494200   \n",
       "1 0 days 00:08:17.339300 0 days 00:00:05.020000 0 days 00:06:03.149300   \n",
       "2 0 days 00:16:41.013200 0 days 00:00:04.620000 0 days 00:12:48.623200   \n",
       "3 0 days 00:19:54.174300 0 days 00:00:12.690000 0 days 00:13:29.504300   \n",
       "4 0 days 00:10:06.294780 0 days 00:00:02.310000 0 days 00:15:16.364780   \n",
       "\n",
       "            TakeoverObs2            ReleaseObs2                TOTObs2  \\\n",
       "0 0 days 00:09:13.964200 0 days 00:09:23.654200 0 days 00:00:02.470000   \n",
       "1 0 days 00:06:06.569300 0 days 00:06:09.769300 0 days 00:00:03.420000   \n",
       "2 0 days 00:12:51.843200 0 days 00:13:24.443200 0 days 00:00:03.220000   \n",
       "3 0 days 00:13:32.174300 0 days 00:13:39.614300 0 days 00:00:02.670000   \n",
       "4 0 days 00:15:31.474780 0 days 00:15:36.064780 0 days 00:00:15.110000   \n",
       "\n",
       "           TriggeredObs3  ...            ReleaseObs3                TOTObs3  \\\n",
       "0 0 days 00:10:50.094200  ... 0 days 00:10:54.554200 0 days 00:00:04.080000   \n",
       "1 0 days 00:14:38.599300  ... 0 days 00:14:44.779300 0 days 00:00:04.560000   \n",
       "2                    NaT  ...                    NaT                    NaT   \n",
       "3                    NaT  ...                    NaT                    NaT   \n",
       "4 0 days 00:17:52.614780  ... 0 days 00:18:00.284780 0 days 00:00:03.340000   \n",
       "\n",
       "           TriggeredObs4           TakeoverObs4            ReleaseObs4  \\\n",
       "0                    NaT                    NaT                    NaT   \n",
       "1 0 days 00:17:24.939300 0 days 00:17:29.289300 0 days 00:17:33.199300   \n",
       "2                    NaT                    NaT                    NaT   \n",
       "3                    NaT                    NaT                    NaT   \n",
       "4 0 days 00:07:21.274780 0 days 00:07:24.604780 0 days 00:07:27.654780   \n",
       "\n",
       "                 TOTObs4 TriggeredObs5 TakeoverObs5 ReleaseObs5 TOTObs5  \n",
       "0                    NaT           NaT          NaT         NaT     NaT  \n",
       "1 0 days 00:00:04.350000           NaT          NaT         NaT     NaT  \n",
       "2                    NaT           NaT          NaT         NaT     NaT  \n",
       "3                    NaT           NaT          NaT         NaT     NaT  \n",
       "4 0 days 00:00:03.330000           NaT          NaT         NaT     NaT  \n",
       "\n",
       "[5 rows x 21 columns]"
      ]
     },
     "execution_count": 12,
     "metadata": {},
     "output_type": "execute_result"
    }
   ],
   "source": [
    "driving_timestamps.head()"
   ]
  },
  {
   "cell_type": "markdown",
   "metadata": {},
   "source": [
    "<br></br>\n",
    "<br></br>\n"
   ]
  },
  {
   "cell_type": "markdown",
   "metadata": {},
   "source": [
    "## Physiological Signals & Markers\n"
   ]
  },
  {
   "cell_type": "markdown",
   "metadata": {},
   "source": [
    "<hr style=\"border-top: 1px dashed white; border-bottom: 0px\">\n"
   ]
  },
  {
   "cell_type": "markdown",
   "metadata": {},
   "source": [
    "### Data Description\n"
   ]
  },
  {
   "cell_type": "markdown",
   "metadata": {},
   "source": [
    "**Signals:**\n",
    "\n",
    "| Feature | Description            | Notes  |\n",
    "| ------- | ---------------------- | ------ |\n",
    "| min     | Time Elapsed           |        |\n",
    "| ECG     | Electrocardiogram      | 1000Hz |\n",
    "| EDA     | Electrodermal Activity | 1000Hz |\n",
    "| RESP    | Resperatory            | 1000Hz |\n"
   ]
  },
  {
   "cell_type": "markdown",
   "metadata": {},
   "source": [
    "<br></br>\n"
   ]
  },
  {
   "cell_type": "markdown",
   "metadata": {},
   "source": [
    "**Markers:**\n",
    "\n",
    "Contains the timestamps for each period of the experiment.\n",
    "\n",
    "- Training1 = Baseline phase\n",
    "- Training2 = Practice phase in the driving simulator\n",
    "- Driving = Main driving session in conditionally automated driving.\n",
    "\n",
    "Be careful, the timestamps are here in seconds while they are in minutes in the raw data.\n"
   ]
  },
  {
   "cell_type": "markdown",
   "metadata": {},
   "source": [
    "<br></br>\n"
   ]
  },
  {
   "cell_type": "markdown",
   "metadata": {},
   "source": [
    "**Timestamps:**\n",
    "\n",
    "Time elapsed (in seconds) between the start of the main driving session and the appearance of the obstacles.\n",
    "\n",
    "- TrigObsX: the time when the driver pressed the button to report having understood the situation\n",
    "- DetObsX: and the time when the driver actually took over control\n",
    "- RepObsX: X corresponds to one of obstacle or the false alarm.\n"
   ]
  },
  {
   "cell_type": "markdown",
   "metadata": {},
   "source": [
    "<br></br>\n"
   ]
  },
  {
   "cell_type": "markdown",
   "metadata": {},
   "source": [
    "### Physio data dictionary\n"
   ]
  },
  {
   "cell_type": "markdown",
   "metadata": {},
   "source": [
    "Creates a dictionary of the raw physiological data and their markers\n"
   ]
  },
  {
   "cell_type": "code",
   "execution_count": 13,
   "metadata": {},
   "outputs": [],
   "source": [
    "phsyiological_data_dictionary = create_pd_dictionary(physio_data_folder, drivers_to_exclude)"
   ]
  },
  {
   "cell_type": "markdown",
   "metadata": {},
   "source": [
    "`create_pd_dictionary()` stores every file in the `physio_data_folder` in a dictionary"
   ]
  },
  {
   "cell_type": "code",
   "execution_count": 16,
   "metadata": {},
   "outputs": [
    {
     "data": {
      "text/html": [
       "<div>\n",
       "<style scoped>\n",
       "    .dataframe tbody tr th:only-of-type {\n",
       "        vertical-align: middle;\n",
       "    }\n",
       "\n",
       "    .dataframe tbody tr th {\n",
       "        vertical-align: top;\n",
       "    }\n",
       "\n",
       "    .dataframe thead th {\n",
       "        text-align: right;\n",
       "    }\n",
       "</style>\n",
       "<table border=\"1\" class=\"dataframe\">\n",
       "  <thead>\n",
       "    <tr style=\"text-align: right;\">\n",
       "      <th></th>\n",
       "      <th>min</th>\n",
       "      <th>CH1</th>\n",
       "      <th>CH2</th>\n",
       "      <th>CH3</th>\n",
       "    </tr>\n",
       "  </thead>\n",
       "  <tbody>\n",
       "    <tr>\n",
       "      <th>0</th>\n",
       "      <td>0.000000</td>\n",
       "      <td>15.7639</td>\n",
       "      <td>7.09503</td>\n",
       "      <td>-0.310669</td>\n",
       "    </tr>\n",
       "    <tr>\n",
       "      <th>1</th>\n",
       "      <td>0.000017</td>\n",
       "      <td>15.7639</td>\n",
       "      <td>7.08344</td>\n",
       "      <td>-0.310974</td>\n",
       "    </tr>\n",
       "    <tr>\n",
       "      <th>2</th>\n",
       "      <td>0.000033</td>\n",
       "      <td>15.7639</td>\n",
       "      <td>7.07001</td>\n",
       "      <td>-0.311584</td>\n",
       "    </tr>\n",
       "    <tr>\n",
       "      <th>3</th>\n",
       "      <td>0.000050</td>\n",
       "      <td>15.7623</td>\n",
       "      <td>7.05414</td>\n",
       "      <td>-0.311890</td>\n",
       "    </tr>\n",
       "    <tr>\n",
       "      <th>4</th>\n",
       "      <td>0.000067</td>\n",
       "      <td>15.7593</td>\n",
       "      <td>7.03644</td>\n",
       "      <td>-0.312500</td>\n",
       "    </tr>\n",
       "  </tbody>\n",
       "</table>\n",
       "</div>"
      ],
      "text/plain": [
       "        min      CH1      CH2       CH3\n",
       "0  0.000000  15.7639  7.09503 -0.310669\n",
       "1  0.000017  15.7639  7.08344 -0.310974\n",
       "2  0.000033  15.7639  7.07001 -0.311584\n",
       "3  0.000050  15.7623  7.05414 -0.311890\n",
       "4  0.000067  15.7593  7.03644 -0.312500"
      ]
     },
     "execution_count": 16,
     "metadata": {},
     "output_type": "execute_result"
    }
   ],
   "source": [
    "phsyiological_data_dictionary[\"NST01\"].head()"
   ]
  },
  {
   "cell_type": "code",
   "execution_count": 17,
   "metadata": {},
   "outputs": [
    {
     "data": {
      "text/html": [
       "<div>\n",
       "<style scoped>\n",
       "    .dataframe tbody tr th:only-of-type {\n",
       "        vertical-align: middle;\n",
       "    }\n",
       "\n",
       "    .dataframe tbody tr th {\n",
       "        vertical-align: top;\n",
       "    }\n",
       "\n",
       "    .dataframe thead th {\n",
       "        text-align: right;\n",
       "    }\n",
       "</style>\n",
       "<table border=\"1\" class=\"dataframe\">\n",
       "  <thead>\n",
       "    <tr style=\"text-align: right;\">\n",
       "      <th></th>\n",
       "      <th>Marker Index:</th>\n",
       "      <th>Time(sec.):</th>\n",
       "      <th>Label:</th>\n",
       "    </tr>\n",
       "  </thead>\n",
       "  <tbody>\n",
       "    <tr>\n",
       "      <th>0</th>\n",
       "      <td>Event 1:</td>\n",
       "      <td>4.095</td>\n",
       "      <td>Training 1 Start, 08:13:59</td>\n",
       "    </tr>\n",
       "    <tr>\n",
       "      <th>1</th>\n",
       "      <td>Event 2:</td>\n",
       "      <td>305.320</td>\n",
       "      <td>Training 1 End, 08:19:00</td>\n",
       "    </tr>\n",
       "    <tr>\n",
       "      <th>2</th>\n",
       "      <td>Event 3:</td>\n",
       "      <td>534.260</td>\n",
       "      <td>Training 2 Start, 08:22:49</td>\n",
       "    </tr>\n",
       "    <tr>\n",
       "      <th>3</th>\n",
       "      <td>Event 4:</td>\n",
       "      <td>794.405</td>\n",
       "      <td>Training 2 End, 08:27:09</td>\n",
       "    </tr>\n",
       "    <tr>\n",
       "      <th>4</th>\n",
       "      <td>Event 5:</td>\n",
       "      <td>973.685</td>\n",
       "      <td>Driving Start, 08:30:08</td>\n",
       "    </tr>\n",
       "  </tbody>\n",
       "</table>\n",
       "</div>"
      ],
      "text/plain": [
       "  Marker Index:  Time(sec.):                      Label:\n",
       "0      Event 1:        4.095  Training 1 Start, 08:13:59\n",
       "1      Event 2:      305.320    Training 1 End, 08:19:00\n",
       "2      Event 3:      534.260  Training 2 Start, 08:22:49\n",
       "3      Event 4:      794.405    Training 2 End, 08:27:09\n",
       "4      Event 5:      973.685     Driving Start, 08:30:08"
      ]
     },
     "execution_count": 17,
     "metadata": {},
     "output_type": "execute_result"
    }
   ],
   "source": [
    "phsyiological_data_dictionary[\"NST01-markers\"].head()"
   ]
  },
  {
   "cell_type": "markdown",
   "metadata": {},
   "source": [
    "<br></br>\n"
   ]
  },
  {
   "cell_type": "markdown",
   "metadata": {},
   "source": [
    "Processing the Physiological data\n"
   ]
  },
  {
   "cell_type": "code",
   "execution_count": 18,
   "metadata": {},
   "outputs": [],
   "source": [
    "phsyiological_data_dictionary = preprocess_physio_data(phsyiological_data_dictionary)"
   ]
  },
  {
   "cell_type": "markdown",
   "metadata": {},
   "source": [
    "`process_physio_data()` resamples the data to 10ms (100Hz) and then segments the data into each experimental phase (Baseline, Training, Driving)\n"
   ]
  },
  {
   "cell_type": "markdown",
   "metadata": {},
   "source": [
    "<br></br>\n"
   ]
  },
  {
   "cell_type": "markdown",
   "metadata": {},
   "source": [
    "### Physio timestamps\n"
   ]
  },
  {
   "cell_type": "markdown",
   "metadata": {},
   "source": [
    "A dataframe to store the trigger time, takeover time, release time, and TOT for each obstacle, for every driver. Similar to `driver_timestamps`.\n"
   ]
  },
  {
   "cell_type": "code",
   "execution_count": 19,
   "metadata": {},
   "outputs": [],
   "source": [
    "physio_timestamps = pd.read_csv(\n",
    "    \"../AdVitam/Exp2/Preprocessed/Physio and Driving/timestamps_obstacles.csv\"\n",
    ")"
   ]
  },
  {
   "cell_type": "code",
   "execution_count": 20,
   "metadata": {},
   "outputs": [
    {
     "data": {
      "text/html": [
       "<div>\n",
       "<style scoped>\n",
       "    .dataframe tbody tr th:only-of-type {\n",
       "        vertical-align: middle;\n",
       "    }\n",
       "\n",
       "    .dataframe tbody tr th {\n",
       "        vertical-align: top;\n",
       "    }\n",
       "\n",
       "    .dataframe thead th {\n",
       "        text-align: right;\n",
       "    }\n",
       "</style>\n",
       "<table border=\"1\" class=\"dataframe\">\n",
       "  <thead>\n",
       "    <tr style=\"text-align: right;\">\n",
       "      <th></th>\n",
       "      <th>subject_id</th>\n",
       "      <th>label_st</th>\n",
       "      <th>TrigObsDeer</th>\n",
       "      <th>DetObsDeer</th>\n",
       "      <th>RepObsDeer</th>\n",
       "      <th>TrigObsCone</th>\n",
       "      <th>DetObsCone</th>\n",
       "      <th>RepObsCone</th>\n",
       "      <th>TrigObsFrog</th>\n",
       "      <th>DetObsFrog</th>\n",
       "      <th>RepObsFrog</th>\n",
       "      <th>TrigObsCan</th>\n",
       "      <th>DetObsCan</th>\n",
       "      <th>RepObsCan</th>\n",
       "      <th>TrigObsFA1</th>\n",
       "      <th>DetObsFA1</th>\n",
       "      <th>RepObsFA1</th>\n",
       "      <th>TrigObsFA2</th>\n",
       "      <th>DetObsFA2</th>\n",
       "      <th>RepObsFA2</th>\n",
       "    </tr>\n",
       "  </thead>\n",
       "  <tbody>\n",
       "    <tr>\n",
       "      <th>0</th>\n",
       "      <td>NST1</td>\n",
       "      <td>0</td>\n",
       "      <td>176.7051</td>\n",
       "      <td>179.0932</td>\n",
       "      <td>183.5238</td>\n",
       "      <td>416.2140</td>\n",
       "      <td>418.5109</td>\n",
       "      <td>418.6902</td>\n",
       "      <td>514.8157</td>\n",
       "      <td>518.8456</td>\n",
       "      <td>NaN</td>\n",
       "      <td>786.6408</td>\n",
       "      <td>792.8591</td>\n",
       "      <td>NaN</td>\n",
       "      <td>983.6240</td>\n",
       "      <td>NaN</td>\n",
       "      <td>NaN</td>\n",
       "      <td>1082.2450</td>\n",
       "      <td>1086.3630</td>\n",
       "      <td>NaN</td>\n",
       "    </tr>\n",
       "    <tr>\n",
       "      <th>1</th>\n",
       "      <td>ST2</td>\n",
       "      <td>1</td>\n",
       "      <td>230.7565</td>\n",
       "      <td>234.5881</td>\n",
       "      <td>235.7780</td>\n",
       "      <td>109.9334</td>\n",
       "      <td>112.2556</td>\n",
       "      <td>113.3516</td>\n",
       "      <td>625.3827</td>\n",
       "      <td>628.3633</td>\n",
       "      <td>629.9416</td>\n",
       "      <td>791.7203</td>\n",
       "      <td>793.7173</td>\n",
       "      <td>796.0673</td>\n",
       "      <td>357.7144</td>\n",
       "      <td>360.2164</td>\n",
       "      <td>NaN</td>\n",
       "      <td>468.5158</td>\n",
       "      <td>470.4113</td>\n",
       "      <td>NaN</td>\n",
       "    </tr>\n",
       "    <tr>\n",
       "      <th>2</th>\n",
       "      <td>NST3</td>\n",
       "      <td>0</td>\n",
       "      <td>815.2040</td>\n",
       "      <td>818.4693</td>\n",
       "      <td>819.8244</td>\n",
       "      <td>619.8088</td>\n",
       "      <td>621.8167</td>\n",
       "      <td>623.0322</td>\n",
       "      <td>259.4712</td>\n",
       "      <td>263.7890</td>\n",
       "      <td>NaN</td>\n",
       "      <td>1027.4009</td>\n",
       "      <td>1030.7859</td>\n",
       "      <td>NaN</td>\n",
       "      <td>378.3409</td>\n",
       "      <td>NaN</td>\n",
       "      <td>NaN</td>\n",
       "      <td>1115.1749</td>\n",
       "      <td>1122.8189</td>\n",
       "      <td>NaN</td>\n",
       "    </tr>\n",
       "    <tr>\n",
       "      <th>3</th>\n",
       "      <td>ST4</td>\n",
       "      <td>1</td>\n",
       "      <td>1040.3619</td>\n",
       "      <td>1042.3819</td>\n",
       "      <td>1053.0479</td>\n",
       "      <td>685.9281</td>\n",
       "      <td>NaN</td>\n",
       "      <td>NaN</td>\n",
       "      <td>287.3724</td>\n",
       "      <td>289.5112</td>\n",
       "      <td>NaN</td>\n",
       "      <td>119.9266</td>\n",
       "      <td>120.5600</td>\n",
       "      <td>NaN</td>\n",
       "      <td>410.9882</td>\n",
       "      <td>462.7615</td>\n",
       "      <td>NaN</td>\n",
       "      <td>886.9369</td>\n",
       "      <td>889.8139</td>\n",
       "      <td>NaN</td>\n",
       "    </tr>\n",
       "    <tr>\n",
       "      <th>4</th>\n",
       "      <td>NST5</td>\n",
       "      <td>0</td>\n",
       "      <td>428.9613</td>\n",
       "      <td>430.7424</td>\n",
       "      <td>431.2726</td>\n",
       "      <td>743.1664</td>\n",
       "      <td>744.4617</td>\n",
       "      <td>758.2736</td>\n",
       "      <td>899.4186</td>\n",
       "      <td>900.7246</td>\n",
       "      <td>902.7536</td>\n",
       "      <td>268.0716</td>\n",
       "      <td>269.9875</td>\n",
       "      <td>271.4027</td>\n",
       "      <td>143.6314</td>\n",
       "      <td>144.7424</td>\n",
       "      <td>NaN</td>\n",
       "      <td>629.1736</td>\n",
       "      <td>630.4212</td>\n",
       "      <td>NaN</td>\n",
       "    </tr>\n",
       "  </tbody>\n",
       "</table>\n",
       "</div>"
      ],
      "text/plain": [
       "  subject_id  label_st  TrigObsDeer  DetObsDeer  RepObsDeer  TrigObsCone  \\\n",
       "0       NST1         0     176.7051    179.0932    183.5238     416.2140   \n",
       "1        ST2         1     230.7565    234.5881    235.7780     109.9334   \n",
       "2       NST3         0     815.2040    818.4693    819.8244     619.8088   \n",
       "3        ST4         1    1040.3619   1042.3819   1053.0479     685.9281   \n",
       "4       NST5         0     428.9613    430.7424    431.2726     743.1664   \n",
       "\n",
       "   DetObsCone  RepObsCone  TrigObsFrog  DetObsFrog  RepObsFrog  TrigObsCan  \\\n",
       "0    418.5109    418.6902     514.8157    518.8456         NaN    786.6408   \n",
       "1    112.2556    113.3516     625.3827    628.3633    629.9416    791.7203   \n",
       "2    621.8167    623.0322     259.4712    263.7890         NaN   1027.4009   \n",
       "3         NaN         NaN     287.3724    289.5112         NaN    119.9266   \n",
       "4    744.4617    758.2736     899.4186    900.7246    902.7536    268.0716   \n",
       "\n",
       "   DetObsCan  RepObsCan  TrigObsFA1  DetObsFA1  RepObsFA1  TrigObsFA2  \\\n",
       "0   792.8591        NaN    983.6240        NaN        NaN   1082.2450   \n",
       "1   793.7173   796.0673    357.7144   360.2164        NaN    468.5158   \n",
       "2  1030.7859        NaN    378.3409        NaN        NaN   1115.1749   \n",
       "3   120.5600        NaN    410.9882   462.7615        NaN    886.9369   \n",
       "4   269.9875   271.4027    143.6314   144.7424        NaN    629.1736   \n",
       "\n",
       "   DetObsFA2  RepObsFA2  \n",
       "0  1086.3630        NaN  \n",
       "1   470.4113        NaN  \n",
       "2  1122.8189        NaN  \n",
       "3   889.8139        NaN  \n",
       "4   630.4212        NaN  "
      ]
     },
     "execution_count": 20,
     "metadata": {},
     "output_type": "execute_result"
    }
   ],
   "source": [
    "physio_timestamps.head()"
   ]
  },
  {
   "cell_type": "markdown",
   "metadata": {},
   "source": [
    "<br></br>\n"
   ]
  },
  {
   "cell_type": "markdown",
   "metadata": {},
   "source": [
    "### Processing the Physio Timestamps\n",
    "\n",
    "Steps:\n",
    "\n",
    "1. Change column names to match driving timestamps\n",
    "1. Remove preselected drivers\n",
    "1. Reformat subject id to match\n",
    "1. Transfrom timestamps into timedelta objects\n"
   ]
  },
  {
   "cell_type": "code",
   "execution_count": 21,
   "metadata": {},
   "outputs": [],
   "source": [
    "physio_timestamps = process_physio_timestamps(physio_timestamps, drivers_to_exclude)"
   ]
  },
  {
   "cell_type": "code",
   "execution_count": 22,
   "metadata": {},
   "outputs": [
    {
     "data": {
      "text/html": [
       "<div>\n",
       "<style scoped>\n",
       "    .dataframe tbody tr th:only-of-type {\n",
       "        vertical-align: middle;\n",
       "    }\n",
       "\n",
       "    .dataframe tbody tr th {\n",
       "        vertical-align: top;\n",
       "    }\n",
       "\n",
       "    .dataframe thead th {\n",
       "        text-align: right;\n",
       "    }\n",
       "</style>\n",
       "<table border=\"1\" class=\"dataframe\">\n",
       "  <thead>\n",
       "    <tr style=\"text-align: right;\">\n",
       "      <th></th>\n",
       "      <th>subject_id</th>\n",
       "      <th>TriggeredObs1</th>\n",
       "      <th>TakeoverObs1</th>\n",
       "      <th>TriggeredObs2</th>\n",
       "      <th>TakeoverObs2</th>\n",
       "      <th>TriggeredObs3</th>\n",
       "      <th>TakeoverObs3</th>\n",
       "      <th>TriggeredObs4</th>\n",
       "      <th>TakeoverObs4</th>\n",
       "      <th>TriggeredObs5</th>\n",
       "      <th>TakeoverObs5</th>\n",
       "      <th>TriggeredObs6</th>\n",
       "      <th>TakeoverObs6</th>\n",
       "      <th>TOTObs1</th>\n",
       "      <th>TOTObs2</th>\n",
       "      <th>TOTObs3</th>\n",
       "      <th>TOTObs4</th>\n",
       "      <th>TOTObs5</th>\n",
       "      <th>TOTObs6</th>\n",
       "    </tr>\n",
       "  </thead>\n",
       "  <tbody>\n",
       "    <tr>\n",
       "      <th>0</th>\n",
       "      <td>NST01</td>\n",
       "      <td>0 days 00:02:56.705100</td>\n",
       "      <td>0 days 00:03:03.523800</td>\n",
       "      <td>0 days 00:06:56.214000</td>\n",
       "      <td>0 days 00:06:58.690200</td>\n",
       "      <td>0 days 00:08:34.815700</td>\n",
       "      <td>NaT</td>\n",
       "      <td>0 days 00:13:06.640800</td>\n",
       "      <td>NaT</td>\n",
       "      <td>0 days 00:16:23.624000</td>\n",
       "      <td>NaT</td>\n",
       "      <td>0 days 00:18:02.245000</td>\n",
       "      <td>NaT</td>\n",
       "      <td>0 days 00:00:06.818700</td>\n",
       "      <td>0 days 00:00:02.476200</td>\n",
       "      <td>NaT</td>\n",
       "      <td>NaT</td>\n",
       "      <td>NaT</td>\n",
       "      <td>NaT</td>\n",
       "    </tr>\n",
       "    <tr>\n",
       "      <th>1</th>\n",
       "      <td>ST02</td>\n",
       "      <td>0 days 00:03:50.756500</td>\n",
       "      <td>0 days 00:03:55.778000</td>\n",
       "      <td>0 days 00:01:49.933400</td>\n",
       "      <td>0 days 00:01:53.351600</td>\n",
       "      <td>0 days 00:10:25.382700</td>\n",
       "      <td>0 days 00:10:29.941600</td>\n",
       "      <td>0 days 00:13:11.720300</td>\n",
       "      <td>0 days 00:13:16.067300</td>\n",
       "      <td>0 days 00:05:57.714400</td>\n",
       "      <td>NaT</td>\n",
       "      <td>0 days 00:07:48.515800</td>\n",
       "      <td>NaT</td>\n",
       "      <td>0 days 00:00:05.021500</td>\n",
       "      <td>0 days 00:00:03.418200</td>\n",
       "      <td>0 days 00:00:04.558900</td>\n",
       "      <td>0 days 00:00:04.347000</td>\n",
       "      <td>NaT</td>\n",
       "      <td>NaT</td>\n",
       "    </tr>\n",
       "    <tr>\n",
       "      <th>2</th>\n",
       "      <td>NST03</td>\n",
       "      <td>0 days 00:13:35.204000</td>\n",
       "      <td>0 days 00:13:39.824400</td>\n",
       "      <td>0 days 00:10:19.808800</td>\n",
       "      <td>0 days 00:10:23.032200</td>\n",
       "      <td>0 days 00:04:19.471200</td>\n",
       "      <td>NaT</td>\n",
       "      <td>0 days 00:17:07.400900</td>\n",
       "      <td>NaT</td>\n",
       "      <td>0 days 00:06:18.340900</td>\n",
       "      <td>NaT</td>\n",
       "      <td>0 days 00:18:35.174900</td>\n",
       "      <td>NaT</td>\n",
       "      <td>0 days 00:00:04.620400</td>\n",
       "      <td>0 days 00:00:03.223400</td>\n",
       "      <td>NaT</td>\n",
       "      <td>NaT</td>\n",
       "      <td>NaT</td>\n",
       "      <td>NaT</td>\n",
       "    </tr>\n",
       "    <tr>\n",
       "      <th>3</th>\n",
       "      <td>ST04</td>\n",
       "      <td>0 days 00:17:20.361900</td>\n",
       "      <td>0 days 00:17:33.047900</td>\n",
       "      <td>0 days 00:11:25.928100</td>\n",
       "      <td>NaT</td>\n",
       "      <td>0 days 00:04:47.372400</td>\n",
       "      <td>NaT</td>\n",
       "      <td>0 days 00:01:59.926600</td>\n",
       "      <td>NaT</td>\n",
       "      <td>0 days 00:06:50.988200</td>\n",
       "      <td>NaT</td>\n",
       "      <td>0 days 00:14:46.936900</td>\n",
       "      <td>NaT</td>\n",
       "      <td>0 days 00:00:12.686000</td>\n",
       "      <td>NaT</td>\n",
       "      <td>NaT</td>\n",
       "      <td>NaT</td>\n",
       "      <td>NaT</td>\n",
       "      <td>NaT</td>\n",
       "    </tr>\n",
       "    <tr>\n",
       "      <th>4</th>\n",
       "      <td>NST05</td>\n",
       "      <td>0 days 00:07:08.961300</td>\n",
       "      <td>0 days 00:07:11.272600</td>\n",
       "      <td>0 days 00:12:23.166400</td>\n",
       "      <td>0 days 00:12:38.273600</td>\n",
       "      <td>0 days 00:14:59.418600</td>\n",
       "      <td>0 days 00:15:02.753600</td>\n",
       "      <td>0 days 00:04:28.071600</td>\n",
       "      <td>0 days 00:04:31.402700</td>\n",
       "      <td>0 days 00:02:23.631400</td>\n",
       "      <td>NaT</td>\n",
       "      <td>0 days 00:10:29.173600</td>\n",
       "      <td>NaT</td>\n",
       "      <td>0 days 00:00:02.311300</td>\n",
       "      <td>0 days 00:00:15.107200</td>\n",
       "      <td>0 days 00:00:03.335000</td>\n",
       "      <td>0 days 00:00:03.331100</td>\n",
       "      <td>NaT</td>\n",
       "      <td>NaT</td>\n",
       "    </tr>\n",
       "  </tbody>\n",
       "</table>\n",
       "</div>"
      ],
      "text/plain": [
       "  subject_id          TriggeredObs1           TakeoverObs1  \\\n",
       "0      NST01 0 days 00:02:56.705100 0 days 00:03:03.523800   \n",
       "1       ST02 0 days 00:03:50.756500 0 days 00:03:55.778000   \n",
       "2      NST03 0 days 00:13:35.204000 0 days 00:13:39.824400   \n",
       "3       ST04 0 days 00:17:20.361900 0 days 00:17:33.047900   \n",
       "4      NST05 0 days 00:07:08.961300 0 days 00:07:11.272600   \n",
       "\n",
       "           TriggeredObs2           TakeoverObs2          TriggeredObs3  \\\n",
       "0 0 days 00:06:56.214000 0 days 00:06:58.690200 0 days 00:08:34.815700   \n",
       "1 0 days 00:01:49.933400 0 days 00:01:53.351600 0 days 00:10:25.382700   \n",
       "2 0 days 00:10:19.808800 0 days 00:10:23.032200 0 days 00:04:19.471200   \n",
       "3 0 days 00:11:25.928100                    NaT 0 days 00:04:47.372400   \n",
       "4 0 days 00:12:23.166400 0 days 00:12:38.273600 0 days 00:14:59.418600   \n",
       "\n",
       "            TakeoverObs3          TriggeredObs4           TakeoverObs4  \\\n",
       "0                    NaT 0 days 00:13:06.640800                    NaT   \n",
       "1 0 days 00:10:29.941600 0 days 00:13:11.720300 0 days 00:13:16.067300   \n",
       "2                    NaT 0 days 00:17:07.400900                    NaT   \n",
       "3                    NaT 0 days 00:01:59.926600                    NaT   \n",
       "4 0 days 00:15:02.753600 0 days 00:04:28.071600 0 days 00:04:31.402700   \n",
       "\n",
       "           TriggeredObs5 TakeoverObs5          TriggeredObs6 TakeoverObs6  \\\n",
       "0 0 days 00:16:23.624000          NaT 0 days 00:18:02.245000          NaT   \n",
       "1 0 days 00:05:57.714400          NaT 0 days 00:07:48.515800          NaT   \n",
       "2 0 days 00:06:18.340900          NaT 0 days 00:18:35.174900          NaT   \n",
       "3 0 days 00:06:50.988200          NaT 0 days 00:14:46.936900          NaT   \n",
       "4 0 days 00:02:23.631400          NaT 0 days 00:10:29.173600          NaT   \n",
       "\n",
       "                 TOTObs1                TOTObs2                TOTObs3  \\\n",
       "0 0 days 00:00:06.818700 0 days 00:00:02.476200                    NaT   \n",
       "1 0 days 00:00:05.021500 0 days 00:00:03.418200 0 days 00:00:04.558900   \n",
       "2 0 days 00:00:04.620400 0 days 00:00:03.223400                    NaT   \n",
       "3 0 days 00:00:12.686000                    NaT                    NaT   \n",
       "4 0 days 00:00:02.311300 0 days 00:00:15.107200 0 days 00:00:03.335000   \n",
       "\n",
       "                 TOTObs4 TOTObs5 TOTObs6  \n",
       "0                    NaT     NaT     NaT  \n",
       "1 0 days 00:00:04.347000     NaT     NaT  \n",
       "2                    NaT     NaT     NaT  \n",
       "3                    NaT     NaT     NaT  \n",
       "4 0 days 00:00:03.331100     NaT     NaT  "
      ]
     },
     "execution_count": 22,
     "metadata": {},
     "output_type": "execute_result"
    }
   ],
   "source": [
    "physio_timestamps.head()"
   ]
  },
  {
   "cell_type": "markdown",
   "metadata": {},
   "source": [
    "<br></br>\n"
   ]
  },
  {
   "cell_type": "markdown",
   "metadata": {},
   "source": [
    "## Driver Demographic Data\n"
   ]
  },
  {
   "cell_type": "markdown",
   "metadata": {},
   "source": [
    "<hr style=\"border-top: 1px dashed white; border-bottom: 0px\">\n"
   ]
  },
  {
   "cell_type": "markdown",
   "metadata": {},
   "source": [
    "### Data Description\n"
   ]
  },
  {
   "cell_type": "markdown",
   "metadata": {},
   "source": [
    "**Driver Demographic Data Description:**\n",
    "| Feature | Description | Note |\n",
    "| --- | --- | --- |\n",
    "| code | Code of driver Secondary Task (ST) vs No ST (NST) + unique id (1,2,...) | In the form (ST/NST)# |\n",
    "| date | Day of data collection | Removed |\n",
    "| time | Hour of data collection | Removed |\n",
    "| condition | Experimental condition for mental workload | Removed (contained in driver code |\n",
    "| sex | driver sex | |\n",
    "| age | Age of drivers in years | |\n",
    "| mothertongue | drivers first language | |\n",
    "| education | Highest education degree | |\n",
    "| driving_license | Year of obtenstion of driving license | |\n",
    "| km_year | Number of kilometers covered per year in average | |\n",
    "| accidents | Number of accidents during the last 3 years | |\n",
    "| nasa_tlx_N | Answer to the NASA TLX for question N | Removed |\n",
    "| danger_O | Subjective ranking of the danger of obstacle O | Removed |\n",
    "| realism_O | Subjective ranking of the realism of obstacle O | Removed |\n",
    "| sart_N_O | Subjective answer to the sart for question N related to obstacle O | Removed |\n",
    "| demand_O | Demands on attentional resources (complexity, variability, and instability of the situation) | Removed |\n",
    "| supply_O | Supply of attentional resources (division of attention, arousal, concentration, and spare mental capacity) | Removed |\n",
    "| understanding_O | Understanding of the situation (information quantity, information quality and familiarity). | Removed |\n"
   ]
  },
  {
   "cell_type": "markdown",
   "metadata": {},
   "source": [
    "<br></br>\n"
   ]
  },
  {
   "cell_type": "markdown",
   "metadata": {},
   "source": [
    "### Driver Demographic Data\n"
   ]
  },
  {
   "cell_type": "markdown",
   "metadata": {},
   "source": [
    "Grabbing the driver demographic data\n"
   ]
  },
  {
   "cell_type": "code",
   "execution_count": 23,
   "metadata": {},
   "outputs": [],
   "source": [
    "driver_demographic_data = pd.read_csv(\n",
    "    \"../AdVitam/Exp2/Preprocessed/Questionnaires/Exp2_Database.csv\",\n",
    "    usecols=[\n",
    "        \"code\",\n",
    "        \"sex\",\n",
    "        \"age\",\n",
    "        \"mothertongue\",\n",
    "        \"education\",\n",
    "        \"driving_license\",\n",
    "        \"km_year\",\n",
    "        \"accidents\",\n",
    "    ],\n",
    ")"
   ]
  },
  {
   "cell_type": "code",
   "execution_count": 24,
   "metadata": {},
   "outputs": [
    {
     "data": {
      "text/html": [
       "<div>\n",
       "<style scoped>\n",
       "    .dataframe tbody tr th:only-of-type {\n",
       "        vertical-align: middle;\n",
       "    }\n",
       "\n",
       "    .dataframe tbody tr th {\n",
       "        vertical-align: top;\n",
       "    }\n",
       "\n",
       "    .dataframe thead th {\n",
       "        text-align: right;\n",
       "    }\n",
       "</style>\n",
       "<table border=\"1\" class=\"dataframe\">\n",
       "  <thead>\n",
       "    <tr style=\"text-align: right;\">\n",
       "      <th></th>\n",
       "      <th>code</th>\n",
       "      <th>sex</th>\n",
       "      <th>age</th>\n",
       "      <th>mothertongue</th>\n",
       "      <th>education</th>\n",
       "      <th>driving_license</th>\n",
       "      <th>km_year</th>\n",
       "      <th>accidents</th>\n",
       "    </tr>\n",
       "  </thead>\n",
       "  <tbody>\n",
       "    <tr>\n",
       "      <th>0</th>\n",
       "      <td>NST1</td>\n",
       "      <td>1</td>\n",
       "      <td>19</td>\n",
       "      <td>1</td>\n",
       "      <td>1</td>\n",
       "      <td>2017</td>\n",
       "      <td>200</td>\n",
       "      <td>1</td>\n",
       "    </tr>\n",
       "    <tr>\n",
       "      <th>1</th>\n",
       "      <td>ST2</td>\n",
       "      <td>1</td>\n",
       "      <td>19</td>\n",
       "      <td>1</td>\n",
       "      <td>1</td>\n",
       "      <td>2017</td>\n",
       "      <td>5000</td>\n",
       "      <td>0</td>\n",
       "    </tr>\n",
       "    <tr>\n",
       "      <th>2</th>\n",
       "      <td>NST3</td>\n",
       "      <td>1</td>\n",
       "      <td>19</td>\n",
       "      <td>1</td>\n",
       "      <td>1</td>\n",
       "      <td>2017</td>\n",
       "      <td>1000</td>\n",
       "      <td>0</td>\n",
       "    </tr>\n",
       "    <tr>\n",
       "      <th>3</th>\n",
       "      <td>ST4</td>\n",
       "      <td>1</td>\n",
       "      <td>21</td>\n",
       "      <td>3</td>\n",
       "      <td>2</td>\n",
       "      <td>2016</td>\n",
       "      <td>1500</td>\n",
       "      <td>0</td>\n",
       "    </tr>\n",
       "    <tr>\n",
       "      <th>4</th>\n",
       "      <td>NST5</td>\n",
       "      <td>1</td>\n",
       "      <td>22</td>\n",
       "      <td>1</td>\n",
       "      <td>1</td>\n",
       "      <td>2017</td>\n",
       "      <td>1500</td>\n",
       "      <td>0</td>\n",
       "    </tr>\n",
       "  </tbody>\n",
       "</table>\n",
       "</div>"
      ],
      "text/plain": [
       "   code  sex  age  mothertongue  education  driving_license  km_year  \\\n",
       "0  NST1    1   19             1          1             2017      200   \n",
       "1   ST2    1   19             1          1             2017     5000   \n",
       "2  NST3    1   19             1          1             2017     1000   \n",
       "3   ST4    1   21             3          2             2016     1500   \n",
       "4  NST5    1   22             1          1             2017     1500   \n",
       "\n",
       "   accidents  \n",
       "0          1  \n",
       "1          0  \n",
       "2          0  \n",
       "3          0  \n",
       "4          0  "
      ]
     },
     "execution_count": 24,
     "metadata": {},
     "output_type": "execute_result"
    }
   ],
   "source": [
    "driver_demographic_data.head()"
   ]
  },
  {
   "cell_type": "markdown",
   "metadata": {},
   "source": [
    "<br></br>\n"
   ]
  },
  {
   "cell_type": "markdown",
   "metadata": {},
   "source": [
    "### Processing driver demographic data\n"
   ]
  },
  {
   "cell_type": "markdown",
   "metadata": {},
   "source": [
    "Steps:\n",
    "\n",
    "1. Remove preselected drivers\n",
    "2. Reformat code to match data\n",
    "3. Coverting driving licence from year obtained to of years obtained\n",
    "4. Normalize km/y\n"
   ]
  },
  {
   "cell_type": "code",
   "execution_count": 25,
   "metadata": {},
   "outputs": [],
   "source": [
    "driver_demographic_data = process_driver_demographic_data(\n",
    "    driver_demographic_data, drivers_to_exclude\n",
    ")"
   ]
  },
  {
   "cell_type": "code",
   "execution_count": 26,
   "metadata": {},
   "outputs": [
    {
     "data": {
      "text/html": [
       "<div>\n",
       "<style scoped>\n",
       "    .dataframe tbody tr th:only-of-type {\n",
       "        vertical-align: middle;\n",
       "    }\n",
       "\n",
       "    .dataframe tbody tr th {\n",
       "        vertical-align: top;\n",
       "    }\n",
       "\n",
       "    .dataframe thead th {\n",
       "        text-align: right;\n",
       "    }\n",
       "</style>\n",
       "<table border=\"1\" class=\"dataframe\">\n",
       "  <thead>\n",
       "    <tr style=\"text-align: right;\">\n",
       "      <th></th>\n",
       "      <th>code</th>\n",
       "      <th>sex</th>\n",
       "      <th>age</th>\n",
       "      <th>mothertongue</th>\n",
       "      <th>education</th>\n",
       "      <th>driving_license</th>\n",
       "      <th>km_year</th>\n",
       "      <th>accidents</th>\n",
       "      <th>NDRT</th>\n",
       "    </tr>\n",
       "  </thead>\n",
       "  <tbody>\n",
       "    <tr>\n",
       "      <th>0</th>\n",
       "      <td>NST01</td>\n",
       "      <td>1</td>\n",
       "      <td>19</td>\n",
       "      <td>1</td>\n",
       "      <td>1</td>\n",
       "      <td>1</td>\n",
       "      <td>200</td>\n",
       "      <td>1</td>\n",
       "      <td>False</td>\n",
       "    </tr>\n",
       "    <tr>\n",
       "      <th>1</th>\n",
       "      <td>ST02</td>\n",
       "      <td>1</td>\n",
       "      <td>19</td>\n",
       "      <td>1</td>\n",
       "      <td>1</td>\n",
       "      <td>1</td>\n",
       "      <td>5000</td>\n",
       "      <td>0</td>\n",
       "      <td>True</td>\n",
       "    </tr>\n",
       "    <tr>\n",
       "      <th>2</th>\n",
       "      <td>NST03</td>\n",
       "      <td>1</td>\n",
       "      <td>19</td>\n",
       "      <td>1</td>\n",
       "      <td>1</td>\n",
       "      <td>1</td>\n",
       "      <td>1000</td>\n",
       "      <td>0</td>\n",
       "      <td>False</td>\n",
       "    </tr>\n",
       "    <tr>\n",
       "      <th>3</th>\n",
       "      <td>ST04</td>\n",
       "      <td>1</td>\n",
       "      <td>21</td>\n",
       "      <td>3</td>\n",
       "      <td>2</td>\n",
       "      <td>2</td>\n",
       "      <td>1500</td>\n",
       "      <td>0</td>\n",
       "      <td>True</td>\n",
       "    </tr>\n",
       "    <tr>\n",
       "      <th>4</th>\n",
       "      <td>NST05</td>\n",
       "      <td>1</td>\n",
       "      <td>22</td>\n",
       "      <td>1</td>\n",
       "      <td>1</td>\n",
       "      <td>1</td>\n",
       "      <td>1500</td>\n",
       "      <td>0</td>\n",
       "      <td>False</td>\n",
       "    </tr>\n",
       "  </tbody>\n",
       "</table>\n",
       "</div>"
      ],
      "text/plain": [
       "    code  sex  age  mothertongue  education  driving_license  km_year  \\\n",
       "0  NST01    1   19             1          1                1      200   \n",
       "1   ST02    1   19             1          1                1     5000   \n",
       "2  NST03    1   19             1          1                1     1000   \n",
       "3   ST04    1   21             3          2                2     1500   \n",
       "4  NST05    1   22             1          1                1     1500   \n",
       "\n",
       "   accidents   NDRT  \n",
       "0          1  False  \n",
       "1          0   True  \n",
       "2          0  False  \n",
       "3          0   True  \n",
       "4          0  False  "
      ]
     },
     "execution_count": 26,
     "metadata": {},
     "output_type": "execute_result"
    }
   ],
   "source": [
    "driver_demographic_data.head()"
   ]
  },
  {
   "cell_type": "markdown",
   "metadata": {},
   "source": [
    "<br></br>\n"
   ]
  },
  {
   "cell_type": "markdown",
   "metadata": {},
   "source": [
    "# Constructing Sequence of Observations\n"
   ]
  },
  {
   "cell_type": "markdown",
   "metadata": {},
   "source": [
    "---\n"
   ]
  },
  {
   "cell_type": "markdown",
   "metadata": {},
   "source": [
    "The idea is to train 2 HMM trained to observations assosiated with a 'slow' takeover, and a 'fast' takeover.\n"
   ]
  },
  {
   "cell_type": "code",
   "execution_count": 27,
   "metadata": {},
   "outputs": [],
   "source": [
    "slow_observations, fast_observations, observations = construct_observations(\n",
    "    driving_data_dictionary,\n",
    "    phsyiological_data_dictionary,\n",
    "    driving_timestamps,\n",
    "    physio_timestamps,\n",
    "    driver_demographic_data,\n",
    ")"
   ]
  },
  {
   "cell_type": "code",
   "execution_count": 28,
   "metadata": {},
   "outputs": [
    {
     "name": "stdout",
     "output_type": "stream",
     "text": [
      "Index(['SteeringWheelAngle', 'VehicleSpeed', 'ECG_Clean', 'ECG_Rate',\n",
      "       'ECG_Quality', 'ECG_R_Peaks', 'ECG_P_Peaks', 'ECG_P_Onsets',\n",
      "       'ECG_P_Offsets', 'ECG_Q_Peaks', 'ECG_R_Onsets', 'ECG_R_Offsets',\n",
      "       'ECG_S_Peaks', 'ECG_T_Peaks', 'ECG_T_Onsets', 'ECG_T_Offsets',\n",
      "       'ECG_Phase_Atrial', 'ECG_Phase_Completion_Atrial',\n",
      "       'ECG_Phase_Ventricular', 'ECG_Phase_Completion_Ventricular',\n",
      "       'RSP_Clean', 'RSP_Amplitude', 'RSP_Rate', 'RSP_RVT', 'RSP_Phase',\n",
      "       'RSP_Phase_Completion', 'RSP_Symmetry_PeakTrough',\n",
      "       'RSP_Symmetry_RiseDecay', 'RSP_Peaks', 'RSP_Troughs', 'EDA_Clean',\n",
      "       'EDA_Tonic', 'EDA_Phasic', 'SCR_Onsets', 'SCR_Peaks', 'SCR_Height',\n",
      "       'SCR_Amplitude', 'SCR_RiseTime', 'SCR_Recovery', 'SCR_RecoveryTime',\n",
      "       'RSA_P2T', 'RSA_Gates', 'code', 'sex', 'age', 'mothertongue',\n",
      "       'education', 'driving_license', 'km_year', 'accidents', 'NDRT'],\n",
      "      dtype='object')\n"
     ]
    }
   ],
   "source": [
    "print(observations)"
   ]
  },
  {
   "cell_type": "markdown",
   "metadata": {},
   "source": [
    "<br>\n",
    "<br>\n"
   ]
  },
  {
   "cell_type": "markdown",
   "metadata": {},
   "source": [
    "# Training the HMMs\n"
   ]
  },
  {
   "cell_type": "markdown",
   "metadata": {},
   "source": [
    "---\n"
   ]
  },
  {
   "cell_type": "markdown",
   "metadata": {},
   "source": [
    "**Train/Validate/Test Split**"
   ]
  },
  {
   "cell_type": "code",
   "execution_count": 29,
   "metadata": {},
   "outputs": [],
   "source": [
    "slow_observations_train, slow_observations_test = train_test_split(\n",
    "    slow_observations, test_size=0.1\n",
    ")\n",
    "\n",
    "fast_observations_train, fast_observations_test = train_test_split(\n",
    "    fast_observations, test_size=0.1\n",
    ")"
   ]
  },
  {
   "cell_type": "markdown",
   "metadata": {},
   "source": [
    "<br>\n",
    "<br>\n"
   ]
  },
  {
   "cell_type": "markdown",
   "metadata": {},
   "source": [
    "# Hyperparameters\n"
   ]
  },
  {
   "cell_type": "markdown",
   "metadata": {},
   "source": [
    "---\n"
   ]
  },
  {
   "cell_type": "code",
   "execution_count": 30,
   "metadata": {},
   "outputs": [
    {
     "name": "stderr",
     "output_type": "stream",
     "text": [
      "/opt/miniconda3/lib/python3.9/site-packages/joblib/externals/loky/process_executor.py:702: UserWarning: A worker stopped while some jobs were given to the executor. This can be caused by a too short worker timeout or by a memory leak.\n",
      "  warnings.warn(\n"
     ]
    },
    {
     "data": {
      "text/html": [
       "<style>#sk-container-id-1 {color: black;background-color: white;}#sk-container-id-1 pre{padding: 0;}#sk-container-id-1 div.sk-toggleable {background-color: white;}#sk-container-id-1 label.sk-toggleable__label {cursor: pointer;display: block;width: 100%;margin-bottom: 0;padding: 0.3em;box-sizing: border-box;text-align: center;}#sk-container-id-1 label.sk-toggleable__label-arrow:before {content: \"▸\";float: left;margin-right: 0.25em;color: #696969;}#sk-container-id-1 label.sk-toggleable__label-arrow:hover:before {color: black;}#sk-container-id-1 div.sk-estimator:hover label.sk-toggleable__label-arrow:before {color: black;}#sk-container-id-1 div.sk-toggleable__content {max-height: 0;max-width: 0;overflow: hidden;text-align: left;background-color: #f0f8ff;}#sk-container-id-1 div.sk-toggleable__content pre {margin: 0.2em;color: black;border-radius: 0.25em;background-color: #f0f8ff;}#sk-container-id-1 input.sk-toggleable__control:checked~div.sk-toggleable__content {max-height: 200px;max-width: 100%;overflow: auto;}#sk-container-id-1 input.sk-toggleable__control:checked~label.sk-toggleable__label-arrow:before {content: \"▾\";}#sk-container-id-1 div.sk-estimator input.sk-toggleable__control:checked~label.sk-toggleable__label {background-color: #d4ebff;}#sk-container-id-1 div.sk-label input.sk-toggleable__control:checked~label.sk-toggleable__label {background-color: #d4ebff;}#sk-container-id-1 input.sk-hidden--visually {border: 0;clip: rect(1px 1px 1px 1px);clip: rect(1px, 1px, 1px, 1px);height: 1px;margin: -1px;overflow: hidden;padding: 0;position: absolute;width: 1px;}#sk-container-id-1 div.sk-estimator {font-family: monospace;background-color: #f0f8ff;border: 1px dotted black;border-radius: 0.25em;box-sizing: border-box;margin-bottom: 0.5em;}#sk-container-id-1 div.sk-estimator:hover {background-color: #d4ebff;}#sk-container-id-1 div.sk-parallel-item::after {content: \"\";width: 100%;border-bottom: 1px solid gray;flex-grow: 1;}#sk-container-id-1 div.sk-label:hover label.sk-toggleable__label {background-color: #d4ebff;}#sk-container-id-1 div.sk-serial::before {content: \"\";position: absolute;border-left: 1px solid gray;box-sizing: border-box;top: 0;bottom: 0;left: 50%;z-index: 0;}#sk-container-id-1 div.sk-serial {display: flex;flex-direction: column;align-items: center;background-color: white;padding-right: 0.2em;padding-left: 0.2em;position: relative;}#sk-container-id-1 div.sk-item {position: relative;z-index: 1;}#sk-container-id-1 div.sk-parallel {display: flex;align-items: stretch;justify-content: center;background-color: white;position: relative;}#sk-container-id-1 div.sk-item::before, #sk-container-id-1 div.sk-parallel-item::before {content: \"\";position: absolute;border-left: 1px solid gray;box-sizing: border-box;top: 0;bottom: 0;left: 50%;z-index: -1;}#sk-container-id-1 div.sk-parallel-item {display: flex;flex-direction: column;z-index: 1;position: relative;background-color: white;}#sk-container-id-1 div.sk-parallel-item:first-child::after {align-self: flex-end;width: 50%;}#sk-container-id-1 div.sk-parallel-item:last-child::after {align-self: flex-start;width: 50%;}#sk-container-id-1 div.sk-parallel-item:only-child::after {width: 0;}#sk-container-id-1 div.sk-dashed-wrapped {border: 1px dashed gray;margin: 0 0.4em 0.5em 0.4em;box-sizing: border-box;padding-bottom: 0.4em;background-color: white;}#sk-container-id-1 div.sk-label label {font-family: monospace;font-weight: bold;display: inline-block;line-height: 1.2em;}#sk-container-id-1 div.sk-label-container {text-align: center;}#sk-container-id-1 div.sk-container {/* jupyter's `normalize.less` sets `[hidden] { display: none; }` but bootstrap.min.css set `[hidden] { display: none !important; }` so we also need the `!important` here to be able to override the default hidden behavior on the sphinx rendered scikit-learn.org. See: https://github.com/scikit-learn/scikit-learn/issues/21755 */display: inline-block !important;position: relative;}#sk-container-id-1 div.sk-text-repr-fallback {display: none;}</style><div id=\"sk-container-id-1\" class=\"sk-top-container\"><div class=\"sk-text-repr-fallback\"><pre>RandomizedSearchCV(cv=5, error_score=&#x27;raise&#x27;,\n",
       "                   estimator=GaussianMixture(reg_covar=0.0001), n_iter=1000,\n",
       "                   n_jobs=-1,\n",
       "                   param_distributions={&#x27;covariance_type&#x27;: [&#x27;full&#x27;, &#x27;tied&#x27;,\n",
       "                                                            &#x27;diag&#x27;,\n",
       "                                                            &#x27;spherical&#x27;],\n",
       "                                        &#x27;init_params&#x27;: [&#x27;kmeans&#x27;, &#x27;k-means++&#x27;,\n",
       "                                                        &#x27;random&#x27;,\n",
       "                                                        &#x27;random_from_data&#x27;],\n",
       "                                        &#x27;max_iter&#x27;: array([  100,   200,   300,   400,   500,   600,   700,   800,   900,\n",
       "        1000,  1100,  1200,  1300,  1400,  1500,  1600,  1700,  1800,\n",
       "        19...\n",
       "        6400,  6500,  6600,  6700,  6800,  6900,  7000,  7100,  7200,\n",
       "        7300,  7400,  7500,  7600,  7700,  7800,  7900,  8000,  8100,\n",
       "        8200,  8300,  8400,  8500,  8600,  8700,  8800,  8900,  9000,\n",
       "        9100,  9200,  9300,  9400,  9500,  9600,  9700,  9800,  9900,\n",
       "       10000]),\n",
       "                                        &#x27;n_components&#x27;: array([ 1,  2,  3,  4,  5,  6,  7,  8,  9, 10]),\n",
       "                                        &#x27;random_state&#x27;: array([ 0,  1,  2,  3,  4,  5,  6,  7,  8,  9, 10]),\n",
       "                                        &#x27;tol&#x27;: array([0.001, 0.002, 0.003, 0.004, 0.005, 0.006, 0.007, 0.008, 0.009,\n",
       "       0.01 ])})</pre><b>In a Jupyter environment, please rerun this cell to show the HTML representation or trust the notebook. <br />On GitHub, the HTML representation is unable to render, please try loading this page with nbviewer.org.</b></div><div class=\"sk-container\" hidden><div class=\"sk-item sk-dashed-wrapped\"><div class=\"sk-label-container\"><div class=\"sk-label sk-toggleable\"><input class=\"sk-toggleable__control sk-hidden--visually\" id=\"sk-estimator-id-1\" type=\"checkbox\" ><label for=\"sk-estimator-id-1\" class=\"sk-toggleable__label sk-toggleable__label-arrow\">RandomizedSearchCV</label><div class=\"sk-toggleable__content\"><pre>RandomizedSearchCV(cv=5, error_score=&#x27;raise&#x27;,\n",
       "                   estimator=GaussianMixture(reg_covar=0.0001), n_iter=1000,\n",
       "                   n_jobs=-1,\n",
       "                   param_distributions={&#x27;covariance_type&#x27;: [&#x27;full&#x27;, &#x27;tied&#x27;,\n",
       "                                                            &#x27;diag&#x27;,\n",
       "                                                            &#x27;spherical&#x27;],\n",
       "                                        &#x27;init_params&#x27;: [&#x27;kmeans&#x27;, &#x27;k-means++&#x27;,\n",
       "                                                        &#x27;random&#x27;,\n",
       "                                                        &#x27;random_from_data&#x27;],\n",
       "                                        &#x27;max_iter&#x27;: array([  100,   200,   300,   400,   500,   600,   700,   800,   900,\n",
       "        1000,  1100,  1200,  1300,  1400,  1500,  1600,  1700,  1800,\n",
       "        19...\n",
       "        6400,  6500,  6600,  6700,  6800,  6900,  7000,  7100,  7200,\n",
       "        7300,  7400,  7500,  7600,  7700,  7800,  7900,  8000,  8100,\n",
       "        8200,  8300,  8400,  8500,  8600,  8700,  8800,  8900,  9000,\n",
       "        9100,  9200,  9300,  9400,  9500,  9600,  9700,  9800,  9900,\n",
       "       10000]),\n",
       "                                        &#x27;n_components&#x27;: array([ 1,  2,  3,  4,  5,  6,  7,  8,  9, 10]),\n",
       "                                        &#x27;random_state&#x27;: array([ 0,  1,  2,  3,  4,  5,  6,  7,  8,  9, 10]),\n",
       "                                        &#x27;tol&#x27;: array([0.001, 0.002, 0.003, 0.004, 0.005, 0.006, 0.007, 0.008, 0.009,\n",
       "       0.01 ])})</pre></div></div></div><div class=\"sk-parallel\"><div class=\"sk-parallel-item\"><div class=\"sk-item\"><div class=\"sk-label-container\"><div class=\"sk-label sk-toggleable\"><input class=\"sk-toggleable__control sk-hidden--visually\" id=\"sk-estimator-id-2\" type=\"checkbox\" ><label for=\"sk-estimator-id-2\" class=\"sk-toggleable__label sk-toggleable__label-arrow\">estimator: GaussianMixture</label><div class=\"sk-toggleable__content\"><pre>GaussianMixture(reg_covar=0.0001)</pre></div></div></div><div class=\"sk-serial\"><div class=\"sk-item\"><div class=\"sk-estimator sk-toggleable\"><input class=\"sk-toggleable__control sk-hidden--visually\" id=\"sk-estimator-id-3\" type=\"checkbox\" ><label for=\"sk-estimator-id-3\" class=\"sk-toggleable__label sk-toggleable__label-arrow\">GaussianMixture</label><div class=\"sk-toggleable__content\"><pre>GaussianMixture(reg_covar=0.0001)</pre></div></div></div></div></div></div></div></div></div></div>"
      ],
      "text/plain": [
       "RandomizedSearchCV(cv=5, error_score='raise',\n",
       "                   estimator=GaussianMixture(reg_covar=0.0001), n_iter=1000,\n",
       "                   n_jobs=-1,\n",
       "                   param_distributions={'covariance_type': ['full', 'tied',\n",
       "                                                            'diag',\n",
       "                                                            'spherical'],\n",
       "                                        'init_params': ['kmeans', 'k-means++',\n",
       "                                                        'random',\n",
       "                                                        'random_from_data'],\n",
       "                                        'max_iter': array([  100,   200,   300,   400,   500,   600,   700,   800,   900,\n",
       "        1000,  1100,  1200,  1300,  1400,  1500,  1600,  1700,  1800,\n",
       "        19...\n",
       "        6400,  6500,  6600,  6700,  6800,  6900,  7000,  7100,  7200,\n",
       "        7300,  7400,  7500,  7600,  7700,  7800,  7900,  8000,  8100,\n",
       "        8200,  8300,  8400,  8500,  8600,  8700,  8800,  8900,  9000,\n",
       "        9100,  9200,  9300,  9400,  9500,  9600,  9700,  9800,  9900,\n",
       "       10000]),\n",
       "                                        'n_components': array([ 1,  2,  3,  4,  5,  6,  7,  8,  9, 10]),\n",
       "                                        'random_state': array([ 0,  1,  2,  3,  4,  5,  6,  7,  8,  9, 10]),\n",
       "                                        'tol': array([0.001, 0.002, 0.003, 0.004, 0.005, 0.006, 0.007, 0.008, 0.009,\n",
       "       0.01 ])})"
      ]
     },
     "execution_count": 30,
     "metadata": {},
     "output_type": "execute_result"
    }
   ],
   "source": [
    "# initializing the hyperparameters\n",
    "n_components = np.arange(1, 11)\n",
    "covariance_type = [\"full\", \"tied\", \"diag\", \"spherical\"]\n",
    "tol = np.arange(0.001, 0.011, 0.001)\n",
    "init_params = [\"kmeans\", \"k-means++\", \"random\", \"random_from_data\"]\n",
    "random_state = np.arange(0, 11)\n",
    "max_iter = np.linspace(100, 10000, 100).astype(int)\n",
    "\n",
    "hyperparametes = {\n",
    "    \"n_components\": n_components,\n",
    "    \"covariance_type\": covariance_type,\n",
    "    \"tol\": tol,\n",
    "    \"init_params\": init_params,\n",
    "    \"random_state\": random_state,\n",
    "    \"max_iter\": max_iter,\n",
    "}\n",
    "\n",
    "# initialize the model\n",
    "slow_model = GaussianMixture(reg_covar=1e-4)\n",
    "fast_model = GaussianMixture(reg_covar=1e-4)\n",
    "\n",
    "# initialize the random search\n",
    "slow_random_search = RandomizedSearchCV(\n",
    "    slow_model, hyperparametes, n_iter=1000, cv=5, n_jobs=-1, error_score='raise'\n",
    ")\n",
    "fast_random_search = RandomizedSearchCV(\n",
    "    fast_model, hyperparametes, n_iter=1000, cv=5,  n_jobs=-1, error_score='raise'\n",
    ")\n",
    "\n",
    "# fit the model\n",
    "s = np.vstack(slow_observations_train)\n",
    "slow_random_search.fit(s)\n",
    "f = np.vstack(fast_observations_train)\n",
    "fast_random_search.fit(f)"
   ]
  },
  {
   "cell_type": "code",
   "execution_count": 31,
   "metadata": {},
   "outputs": [
    {
     "data": {
      "text/html": [
       "<style>#sk-container-id-2 {color: black;background-color: white;}#sk-container-id-2 pre{padding: 0;}#sk-container-id-2 div.sk-toggleable {background-color: white;}#sk-container-id-2 label.sk-toggleable__label {cursor: pointer;display: block;width: 100%;margin-bottom: 0;padding: 0.3em;box-sizing: border-box;text-align: center;}#sk-container-id-2 label.sk-toggleable__label-arrow:before {content: \"▸\";float: left;margin-right: 0.25em;color: #696969;}#sk-container-id-2 label.sk-toggleable__label-arrow:hover:before {color: black;}#sk-container-id-2 div.sk-estimator:hover label.sk-toggleable__label-arrow:before {color: black;}#sk-container-id-2 div.sk-toggleable__content {max-height: 0;max-width: 0;overflow: hidden;text-align: left;background-color: #f0f8ff;}#sk-container-id-2 div.sk-toggleable__content pre {margin: 0.2em;color: black;border-radius: 0.25em;background-color: #f0f8ff;}#sk-container-id-2 input.sk-toggleable__control:checked~div.sk-toggleable__content {max-height: 200px;max-width: 100%;overflow: auto;}#sk-container-id-2 input.sk-toggleable__control:checked~label.sk-toggleable__label-arrow:before {content: \"▾\";}#sk-container-id-2 div.sk-estimator input.sk-toggleable__control:checked~label.sk-toggleable__label {background-color: #d4ebff;}#sk-container-id-2 div.sk-label input.sk-toggleable__control:checked~label.sk-toggleable__label {background-color: #d4ebff;}#sk-container-id-2 input.sk-hidden--visually {border: 0;clip: rect(1px 1px 1px 1px);clip: rect(1px, 1px, 1px, 1px);height: 1px;margin: -1px;overflow: hidden;padding: 0;position: absolute;width: 1px;}#sk-container-id-2 div.sk-estimator {font-family: monospace;background-color: #f0f8ff;border: 1px dotted black;border-radius: 0.25em;box-sizing: border-box;margin-bottom: 0.5em;}#sk-container-id-2 div.sk-estimator:hover {background-color: #d4ebff;}#sk-container-id-2 div.sk-parallel-item::after {content: \"\";width: 100%;border-bottom: 1px solid gray;flex-grow: 1;}#sk-container-id-2 div.sk-label:hover label.sk-toggleable__label {background-color: #d4ebff;}#sk-container-id-2 div.sk-serial::before {content: \"\";position: absolute;border-left: 1px solid gray;box-sizing: border-box;top: 0;bottom: 0;left: 50%;z-index: 0;}#sk-container-id-2 div.sk-serial {display: flex;flex-direction: column;align-items: center;background-color: white;padding-right: 0.2em;padding-left: 0.2em;position: relative;}#sk-container-id-2 div.sk-item {position: relative;z-index: 1;}#sk-container-id-2 div.sk-parallel {display: flex;align-items: stretch;justify-content: center;background-color: white;position: relative;}#sk-container-id-2 div.sk-item::before, #sk-container-id-2 div.sk-parallel-item::before {content: \"\";position: absolute;border-left: 1px solid gray;box-sizing: border-box;top: 0;bottom: 0;left: 50%;z-index: -1;}#sk-container-id-2 div.sk-parallel-item {display: flex;flex-direction: column;z-index: 1;position: relative;background-color: white;}#sk-container-id-2 div.sk-parallel-item:first-child::after {align-self: flex-end;width: 50%;}#sk-container-id-2 div.sk-parallel-item:last-child::after {align-self: flex-start;width: 50%;}#sk-container-id-2 div.sk-parallel-item:only-child::after {width: 0;}#sk-container-id-2 div.sk-dashed-wrapped {border: 1px dashed gray;margin: 0 0.4em 0.5em 0.4em;box-sizing: border-box;padding-bottom: 0.4em;background-color: white;}#sk-container-id-2 div.sk-label label {font-family: monospace;font-weight: bold;display: inline-block;line-height: 1.2em;}#sk-container-id-2 div.sk-label-container {text-align: center;}#sk-container-id-2 div.sk-container {/* jupyter's `normalize.less` sets `[hidden] { display: none; }` but bootstrap.min.css set `[hidden] { display: none !important; }` so we also need the `!important` here to be able to override the default hidden behavior on the sphinx rendered scikit-learn.org. See: https://github.com/scikit-learn/scikit-learn/issues/21755 */display: inline-block !important;position: relative;}#sk-container-id-2 div.sk-text-repr-fallback {display: none;}</style><div id=\"sk-container-id-2\" class=\"sk-top-container\"><div class=\"sk-text-repr-fallback\"><pre>GaussianMixture(init_params=&#x27;random&#x27;, max_iter=7200, n_components=5,\n",
       "                random_state=5, reg_covar=0.0001, tol=0.002)</pre><b>In a Jupyter environment, please rerun this cell to show the HTML representation or trust the notebook. <br />On GitHub, the HTML representation is unable to render, please try loading this page with nbviewer.org.</b></div><div class=\"sk-container\" hidden><div class=\"sk-item\"><div class=\"sk-estimator sk-toggleable\"><input class=\"sk-toggleable__control sk-hidden--visually\" id=\"sk-estimator-id-4\" type=\"checkbox\" checked><label for=\"sk-estimator-id-4\" class=\"sk-toggleable__label sk-toggleable__label-arrow\">GaussianMixture</label><div class=\"sk-toggleable__content\"><pre>GaussianMixture(init_params=&#x27;random&#x27;, max_iter=7200, n_components=5,\n",
       "                random_state=5, reg_covar=0.0001, tol=0.002)</pre></div></div></div></div></div>"
      ],
      "text/plain": [
       "GaussianMixture(init_params='random', max_iter=7200, n_components=5,\n",
       "                random_state=5, reg_covar=0.0001, tol=0.002)"
      ]
     },
     "execution_count": 31,
     "metadata": {},
     "output_type": "execute_result"
    }
   ],
   "source": [
    "slow_model = slow_random_search.best_estimator_\n",
    "fast_model = fast_random_search.best_estimator_\n",
    "\n",
    "slow_model.fit(s)\n",
    "fast_model.fit(f)"
   ]
  },
  {
   "cell_type": "code",
   "execution_count": 32,
   "metadata": {},
   "outputs": [
    {
     "name": "stdout",
     "output_type": "stream",
     "text": [
      "Accuracy:  0.5161290322580645\n"
     ]
    }
   ],
   "source": [
    "# test the HMM\n",
    "accuracy = 0\n",
    "\n",
    "for obs in slow_observations_test:\n",
    "    if slow_model.score(obs) > fast_model.score(obs):\n",
    "        accuracy += 1\n",
    "\n",
    "for obs in fast_observations_test:\n",
    "    if fast_model.score(obs) > slow_model.score(obs):\n",
    "        accuracy += 1\n",
    "\n",
    "accuracy = accuracy / (len(slow_observations_test) + len(fast_observations_test))\n",
    "print(\"Accuracy: \", accuracy)"
   ]
  },
  {
   "cell_type": "code",
   "execution_count": 20,
   "metadata": {},
   "outputs": [
    {
     "data": {
      "text/plain": [
       "'\\n# initialize the grid search cv\\nslow_grid = GridSearchCV(slow_model, hyperparametes, cv=5, n_jobs=-1, verbose=1)\\nfast_grid = GridSearchCV(fast_model, hyperparametes, cv=5, n_jobs=-1, verbose=1)\\n\\n# fit the model\\ns = np.vstack(slow_observations_train)\\nslow_grid.fit(s)\\nf = np.vstack(fast_observations_train)\\nfast_grid.fit(f)\\n\\n# get the best estimators\\nslow_hmm = slow_grid.best_estimator_\\nfast_hmm = fast_grid.best_estimator_\\n\\nslow_hmm.fit(s)\\nfast_hmm.fit(f)\\n\\n# test the HMM\\naccuracy = 0\\n\\nfor obs in slow_observations_test:\\n    if slow_hmm.score(obs) > fast_hmm.score(obs):\\n        accuracy += 1\\n\\nfor obs in fast_observations_test:\\n    if fast_hmm.score(obs) > slow_hmm.score(obs):\\n        accuracy += 1\\n\\naccuracy = accuracy / (len(slow_observations_test) + len(fast_observations_test))\\nprint(\"Accuracy: \", accuracy)\\n'"
      ]
     },
     "execution_count": 20,
     "metadata": {},
     "output_type": "execute_result"
    }
   ],
   "source": [
    "\"\"\"\n",
    "# initialize the grid search cv\n",
    "slow_grid = GridSearchCV(slow_model, hyperparametes, cv=5, n_jobs=-1, verbose=1)\n",
    "fast_grid = GridSearchCV(fast_model, hyperparametes, cv=5, n_jobs=-1, verbose=1)\n",
    "\n",
    "# fit the model\n",
    "s = np.vstack(slow_observations_train)\n",
    "slow_grid.fit(s)\n",
    "f = np.vstack(fast_observations_train)\n",
    "fast_grid.fit(f)\n",
    "\n",
    "# get the best estimators\n",
    "slow_hmm = slow_grid.best_estimator_\n",
    "fast_hmm = fast_grid.best_estimator_\n",
    "\n",
    "slow_hmm.fit(s)\n",
    "fast_hmm.fit(f)\n",
    "\n",
    "# test the HMM\n",
    "accuracy = 0\n",
    "\n",
    "for obs in slow_observations_test:\n",
    "    if slow_hmm.score(obs) > fast_hmm.score(obs):\n",
    "        accuracy += 1\n",
    "\n",
    "for obs in fast_observations_test:\n",
    "    if fast_hmm.score(obs) > slow_hmm.score(obs):\n",
    "        accuracy += 1\n",
    "\n",
    "accuracy = accuracy / (len(slow_observations_test) + len(fast_observations_test))\n",
    "print(\"Accuracy: \", accuracy)\n",
    "\"\"\""
   ]
  },
  {
   "cell_type": "markdown",
   "metadata": {},
   "source": [
    "Initial Accuracy Including Every Feature:\n",
    "51.61%\n"
   ]
  },
  {
   "cell_type": "markdown",
   "metadata": {},
   "source": []
  }
 ],
 "metadata": {
  "kernelspec": {
   "display_name": "Python 3 (ipykernel)",
   "language": "python",
   "name": "python3"
  },
  "language_info": {
   "codemirror_mode": {
    "name": "ipython",
    "version": 3
   },
   "file_extension": ".py",
   "mimetype": "text/x-python",
   "name": "python",
   "nbconvert_exporter": "python",
   "pygments_lexer": "ipython3",
   "version": "3.9.12"
  }
 },
 "nbformat": 4,
 "nbformat_minor": 2
}
