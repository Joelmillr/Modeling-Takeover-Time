{
 "cells": [
  {
   "cell_type": "markdown",
   "metadata": {},
   "source": [
    "# Fitting a HMM to the AdVitam Dataset"
   ]
  },
  {
   "cell_type": "markdown",
   "metadata": {},
   "source": [
    "## Notebook Overview:"
   ]
  },
  {
   "cell_type": "markdown",
   "metadata": {},
   "source": [
    "Fitting a [Hidden Markov Model (HMM)](https://en.wikipedia.org/wiki/Hidden_Markov_model) to the [AdVitam](https://doi.org/10.1016/j.dib.2023.109027) dataset.\n",
    "- HMM was implemented using the [hmmlearn](https://hmmlearn.readthedocs.io/en/latest/index.html) python library.\n",
    "\n",
    "<br></br>\n",
    "\n",
    "**Defining Takeover Quality Quantitatively**\n",
    "\n",
    "This is typically done using one or more of these 3 metrics:\n",
    "- Takeover Time (TOT)\n",
    "- Sudden Vehicle Deviation\n",
    "- Response Budget\n",
    "\n",
    "\n",
    "<br></br>\n",
    "\n",
    "**References:**\n",
    "- Lawrence R. Rabiner “A tutorial on hidden Markov models and selected applications in speech recognition”, Proceedings of the IEEE 77.2, pp. 257-286, 1989.\n",
    "- Jeff A. Bilmes, “A gentle tutorial of the EM algorithm and its application to parameter estimation for Gaussian mixture and hidden Markov models.”, 1998.\n",
    "- Mark Stamp. “[A revealing introduction to hidden Markov models]((http://www.cs.sjsu.edu/~stamp/RUA/HMM.pdf))”. Tech. rep. Department of Computer Science, San Jose State University, 2018.\n"
   ]
  },
  {
   "cell_type": "markdown",
   "metadata": {},
   "source": [
    "<br></br>"
   ]
  },
  {
   "cell_type": "markdown",
   "metadata": {},
   "source": [
    "<hr style=\"border-top: 1px solid white;\">"
   ]
  },
  {
   "cell_type": "markdown",
   "metadata": {},
   "source": [
    "## Preamble"
   ]
  },
  {
   "cell_type": "markdown",
   "metadata": {},
   "source": [
    "Python Libraries\n"
   ]
  },
  {
   "cell_type": "code",
   "execution_count": 1,
   "metadata": {},
   "outputs": [],
   "source": [
    "# import os\n",
    "import numpy as np\n",
    "import pandas as pd\n",
    "import matplotlib.pyplot as plt\n",
    "from sklearn import preprocessing\n",
    "import hmmlearn.hmm as hmm\n",
    "from sklearn.model_selection import train_test_split"
   ]
  },
  {
   "cell_type": "markdown",
   "metadata": {},
   "source": [
    "<br></br>"
   ]
  },
  {
   "cell_type": "markdown",
   "metadata": {},
   "source": [
    "Custom Functions\n"
   ]
  },
  {
   "cell_type": "code",
   "execution_count": 2,
   "metadata": {},
   "outputs": [],
   "source": [
    "from useful_functions.driving_data.dd_dictionary import create_dd_dictionary\n",
    "from useful_functions.driving_data.process_driving_data import processing_driving_data\n",
    "\n",
    "from useful_functions.physio_data.pd_dictionary import create_pd_dictionary\n",
    "from useful_functions.physio_data.process_physio_timestamps import process_physio_timestamps\n",
    "from useful_functions.physio_data.process_physio_data import process_physio_data\n",
    "\n",
    "from useful_functions.demographic_data.process_driver_demographic_data import process_driver_demographic_data\n",
    "\n",
    "from useful_functions.takeover_dataframe import create_takeover_timestamps\n",
    "from useful_functions.check_for_missing_data import check_for_missing_data"
   ]
  },
  {
   "cell_type": "markdown",
   "metadata": {},
   "source": [
    "<br></br>\n",
    "<br></br>"
   ]
  },
  {
   "cell_type": "markdown",
   "metadata": {},
   "source": [
    "# Importing Data + Preprocessing"
   ]
  },
  {
   "cell_type": "markdown",
   "metadata": {},
   "source": [
    "---"
   ]
  },
  {
   "cell_type": "markdown",
   "metadata": {},
   "source": [
    "Storing the folder paths to raw data"
   ]
  },
  {
   "cell_type": "code",
   "execution_count": 3,
   "metadata": {},
   "outputs": [],
   "source": [
    "driving_data_folder = \"../AdVitam/Exp2/Raw/Driving\"\n",
    "physio_data_folder = \"../AdVitam/Exp2/Raw/Physio/Txt\""
   ]
  },
  {
   "cell_type": "markdown",
   "metadata": {},
   "source": [
    "<br></br>"
   ]
  },
  {
   "cell_type": "markdown",
   "metadata": {},
   "source": [
    "Storing a list of participants to exclude"
   ]
  },
  {
   "cell_type": "code",
   "execution_count": 4,
   "metadata": {},
   "outputs": [],
   "source": [
    "participants_to_exclude = check_for_missing_data(\n",
    "    driving_data_folder, physio_data_folder\n",
    ")\n",
    "participants_to_exclude.append(\"NST77\")"
   ]
  },
  {
   "cell_type": "markdown",
   "metadata": {},
   "source": [
    "<br></br>"
   ]
  },
  {
   "cell_type": "markdown",
   "metadata": {},
   "source": [
    "**Participants Excluded:**"
   ]
  },
  {
   "cell_type": "markdown",
   "metadata": {},
   "source": [
    "| Participant | Reason |\n",
    "| --- | --- |\n",
    "| NST77 | Driving file contains obstacles = \"TriggeredObs2TriggeredObs3\" and \"TriggeredObs3TriggeredObs4\" |\n",
    "| NST91, ST84, ST60 | Does not contain a physio file |"
   ]
  },
  {
   "cell_type": "markdown",
   "metadata": {},
   "source": [
    "<br></br>\n",
    "<br></br>"
   ]
  },
  {
   "cell_type": "markdown",
   "metadata": {},
   "source": [
    "## Driving Data"
   ]
  },
  {
   "cell_type": "markdown",
   "metadata": {},
   "source": [
    "<hr style=\"border-top: 1px dashed white; border-bottom: 0px\">"
   ]
  },
  {
   "cell_type": "markdown",
   "metadata": {},
   "source": [
    "### Data Description"
   ]
  },
  {
   "cell_type": "markdown",
   "metadata": {},
   "source": [
    "**Driver Data:**\n",
    "| Feature | Description | Notes |\n",
    "| --- | --- | --- |\n",
    "| Time | Time elapsed since the software was launched (in seconds) |  |\n",
    "| EngineSpeed | Engine speed (in rpm) | Removed |\n",
    "| GearPosActual | Current gear | Removed |\n",
    "| GearPosTarget | Next planned gear | Removed |\n",
    "| AcceleratorPedalPos | Position of gas pedal. | Recording problem, Removed |\n",
    "| DeceleratorPedalPos | Position of brake pedal. | Recording problem, Removed |\n",
    "| SteeringWheelAngle | Steering wheel angle (in degrees) |  |\n",
    "| VehicleSpeed | Vehicle speed (in mph) |  |\n",
    "| Position X | Vehicle position along the x-axis in the simulated driving environment |  |\n",
    "| Position Y | Vehicle position along the y-axis in the simulated driving environment |  |\n",
    "| Position Z | Vehicle position along the z-axis in the simulated driving environment |  |\n",
    "| Autonomous Mode (T/F) | Autonomous pilot status. | True = Activated, False = Deactivated (driver in control) |\n",
    "| Obstacles | Events that occurred during the driving simulation. | See Below |"
   ]
  },
  {
   "cell_type": "markdown",
   "metadata": {},
   "source": [
    "<br></br>"
   ]
  },
  {
   "cell_type": "markdown",
   "metadata": {},
   "source": [
    "**Obstacles:**\n",
    "\n",
    "| Event | Description |\n",
    "| --- | --- |\n",
    "| TriggeredObsX | Time at which each takeover request was triggered by the experimenter |\n",
    "| Obs1 | Deer |\n",
    "| Obs2 | Traffic cone |\n",
    "| Obs3 | Frog |\n",
    "| Obs4 | Traffic cone |\n",
    "| Obs5 | False alarm (x2) |\n",
    "| Detected | Time at which the driver pressed the steering wheel button to notify he/she understood the situation. The driver is in control of the car when the value of the column \"Autonomous Mode (T/F)\" is False |"
   ]
  },
  {
   "cell_type": "markdown",
   "metadata": {},
   "source": [
    "<br></br>"
   ]
  },
  {
   "cell_type": "markdown",
   "metadata": {},
   "source": [
    "### Driving Data Dictionary"
   ]
  },
  {
   "cell_type": "markdown",
   "metadata": {},
   "source": [
    "Creates a dictionary of the raw driving data files."
   ]
  },
  {
   "cell_type": "code",
   "execution_count": 5,
   "metadata": {},
   "outputs": [],
   "source": [
    "driving_data_dictionary = create_dd_dictionary(\n",
    "    driving_data_folder, participants_to_exclude\n",
    ")"
   ]
  },
  {
   "cell_type": "markdown",
   "metadata": {},
   "source": [
    "<br></br>"
   ]
  },
  {
   "cell_type": "markdown",
   "metadata": {},
   "source": [
    "### Processing driving data"
   ]
  },
  {
   "cell_type": "markdown",
   "metadata": {},
   "source": [
    "Steps Taken\n",
    "1. Label encode the `Obstacles` column\n",
    "2. Fill `Obstacles` column with `Nothing`\n",
    "3. Convert `Time` column to pandas timedelta\n",
    "4. Resample driver data to 10ms (100Hz)"
   ]
  },
  {
   "cell_type": "code",
   "execution_count": 6,
   "metadata": {},
   "outputs": [],
   "source": [
    "# Fitting a Label Encoder to the Obstacles\n",
    "driver_data = driving_data_dictionary[\"NST01\"]\n",
    "driver_data = driver_data.fillna(\"Nothing\")\n",
    "enc = preprocessing.LabelEncoder()\n",
    "enc.fit(driver_data[\"Obstacles\"])\n",
    "\n",
    "# Processing the Driving Data\n",
    "driving_data_dictionary = processing_driving_data(driving_data_dictionary, enc)"
   ]
  },
  {
   "cell_type": "markdown",
   "metadata": {},
   "source": [
    "<br></br>"
   ]
  },
  {
   "cell_type": "markdown",
   "metadata": {},
   "source": [
    "### Creating driving data takeover timestamps"
   ]
  },
  {
   "cell_type": "markdown",
   "metadata": {},
   "source": [
    "Created a dataframe to store the trigger time, takeover time, release time, and TOT for each obstacle, for every participant."
   ]
  },
  {
   "cell_type": "code",
   "execution_count": 7,
   "metadata": {},
   "outputs": [],
   "source": [
    "driving_timestamps = create_takeover_timestamps(driving_data_dictionary, enc)"
   ]
  },
  {
   "cell_type": "markdown",
   "metadata": {},
   "source": [
    "<br></br>\n",
    "<br></br>"
   ]
  },
  {
   "cell_type": "markdown",
   "metadata": {},
   "source": [
    "## Physiological Signals & Markers"
   ]
  },
  {
   "cell_type": "markdown",
   "metadata": {},
   "source": [
    "<hr style=\"border-top: 1px dashed white; border-bottom: 0px\">"
   ]
  },
  {
   "cell_type": "markdown",
   "metadata": {},
   "source": [
    "### Data Description"
   ]
  },
  {
   "cell_type": "markdown",
   "metadata": {},
   "source": [
    "**Signals:**\n",
    "\n",
    "| Feature | Description | Notes |\n",
    "| --- | --- | --- |\n",
    "| min | Time Elapsed |  |\n",
    "| ECG | Electrocardiogram | 1000Hz |\n",
    "| EDA | Electrodermal Activity | 1000Hz |\n",
    "| RESP | Resperatory | 1000Hz |"
   ]
  },
  {
   "cell_type": "markdown",
   "metadata": {},
   "source": [
    "<br></br>"
   ]
  },
  {
   "cell_type": "markdown",
   "metadata": {},
   "source": [
    "**Markers:**\n",
    "\n",
    "Contains the timestamps for each period of the experiment.\n",
    "\n",
    "- Training1 = Baseline phase\n",
    "- Training2 = Practice phase in the driving simulator\n",
    "- Driving = Main driving session in conditionally automated driving.\n",
    "\n",
    "Be careful, the timestamps are here in seconds while they are in minutes in the raw data."
   ]
  },
  {
   "cell_type": "markdown",
   "metadata": {},
   "source": [
    "<br></br>"
   ]
  },
  {
   "cell_type": "markdown",
   "metadata": {},
   "source": [
    "**Timestamps:**\n",
    "\n",
    "Time elapsed (in seconds) between the start of the main driving session and the appearance of the obstacles.\n",
    "- TrigObsX: the time when the driver pressed the button to report having understood the situation \n",
    "- DetObsX: and the time when the driver actually took over control \n",
    "- RepObsX: X corresponds to one of obstacle or the false alarm."
   ]
  },
  {
   "cell_type": "markdown",
   "metadata": {},
   "source": [
    "<br></br>"
   ]
  },
  {
   "cell_type": "markdown",
   "metadata": {},
   "source": [
    "### Physio data dictionary"
   ]
  },
  {
   "cell_type": "markdown",
   "metadata": {},
   "source": [
    "Creates a dictionary of the raw physiological data and their markers"
   ]
  },
  {
   "cell_type": "code",
   "execution_count": 8,
   "metadata": {},
   "outputs": [],
   "source": [
    "phsyiological_data_dictionary = create_pd_dictionary(\n",
    "    physio_data_folder, participants_to_exclude\n",
    ")"
   ]
  },
  {
   "cell_type": "markdown",
   "metadata": {},
   "source": [
    "<br></br>"
   ]
  },
  {
   "cell_type": "markdown",
   "metadata": {},
   "source": [
    "### Physio timestamps"
   ]
  },
  {
   "cell_type": "markdown",
   "metadata": {},
   "source": [
    "A dataframe to store the trigger time, takeover time, release time, and TOT for each obstacle, for every participant. Similar to `driver_timestamps`."
   ]
  },
  {
   "cell_type": "code",
   "execution_count": 9,
   "metadata": {},
   "outputs": [],
   "source": [
    "physio_timestamps = pd.read_csv(\n",
    "    \"../AdVitam/Exp2/Preprocessed/Physio and Driving/timestamps_obstacles.csv\"\n",
    ")"
   ]
  },
  {
   "cell_type": "markdown",
   "metadata": {},
   "source": [
    "<br></br>"
   ]
  },
  {
   "cell_type": "markdown",
   "metadata": {},
   "source": [
    "### Processing the Physio Timestamps\n",
    "Steps: \n",
    "1. Change column names to match driving timestamps\n",
    "1. Remove preselected participants\n",
    "2. Reformat subject id to match\n",
    "3. Transfrom timestamps into timedelta objects"
   ]
  },
  {
   "cell_type": "code",
   "execution_count": 10,
   "metadata": {},
   "outputs": [],
   "source": [
    "physio_timestamps = process_physio_timestamps(physio_timestamps, participants_to_exclude)"
   ]
  },
  {
   "cell_type": "markdown",
   "metadata": {},
   "source": [
    "<br></br>"
   ]
  },
  {
   "cell_type": "markdown",
   "metadata": {},
   "source": [
    "### Processing the Physiological data"
   ]
  },
  {
   "cell_type": "markdown",
   "metadata": {},
   "source": [
    "Steps:\n",
    "1. Resampled data to 10ms (100Hz)\n",
    "2. Trimmed the data down to each experimental phase (Baseline, Training, Driving)"
   ]
  },
  {
   "cell_type": "code",
   "execution_count": 11,
   "metadata": {},
   "outputs": [],
   "source": [
    "phsyiological_data_dictionary = process_physio_data(phsyiological_data_dictionary)"
   ]
  },
  {
   "cell_type": "markdown",
   "metadata": {},
   "source": [
    "<br></br>"
   ]
  },
  {
   "cell_type": "markdown",
   "metadata": {},
   "source": [
    "## Driver Demographic Data\n"
   ]
  },
  {
   "cell_type": "markdown",
   "metadata": {},
   "source": [
    "<hr style=\"border-top: 1px dashed white; border-bottom: 0px\">"
   ]
  },
  {
   "cell_type": "markdown",
   "metadata": {},
   "source": [
    "### Data Description"
   ]
  },
  {
   "cell_type": "markdown",
   "metadata": {},
   "source": [
    "**Driver Demographic Data Description:**\n",
    "| Feature | Description | Note |\n",
    "| --- | --- | --- |\n",
    "| code | Code of participant Secondary Task (ST) vs No ST (NST) + unique id (1,2,...) | In the form (ST/NST)# |\n",
    "| date | Day of data collection |  Removed |\n",
    "| time | Hour of data collection | Removed |\n",
    "| condition | Experimental condition for mental workload | Removed (contained in participant code |\n",
    "| sex | Participant sex | |\n",
    "| age | Age of participants in years | |\n",
    "| mothertongue | Participants first language | |\n",
    "| education | Highest education degree | |\n",
    "| driving_license | Year of obtenstion of driving license | |\n",
    "| km_year | Number of kilometers covered per year in average | |\n",
    "| accidents | Number of accidents during the last 3 years | |\n",
    "| nasa_tlx_N | Answer to the NASA TLX for question N | Removed |\n",
    "| danger_O | Subjective ranking of the danger of obstacle O | Removed |\n",
    "| realism_O | Subjective ranking of the realism of obstacle O | Removed |\n",
    "| sart_N_O | Subjective answer to the sart for question N related to obstacle O | Removed |\n",
    "| demand_O | Demands on attentional resources (complexity, variability, and instability of the situation) | Removed |\n",
    "| supply_O | Supply of attentional resources (division of attention, arousal, concentration, and spare mental capacity) | Removed |\n",
    "| understanding_O | Understanding of the situation (information quantity, information quality and familiarity). |  Removed |\n"
   ]
  },
  {
   "cell_type": "markdown",
   "metadata": {},
   "source": [
    "<br></br>"
   ]
  },
  {
   "cell_type": "markdown",
   "metadata": {},
   "source": [
    "### Driver Demographic Data"
   ]
  },
  {
   "cell_type": "markdown",
   "metadata": {},
   "source": [
    "Grabbing the driver demographic data"
   ]
  },
  {
   "cell_type": "code",
   "execution_count": 12,
   "metadata": {},
   "outputs": [],
   "source": [
    "driver_demographic_data = pd.read_csv(\n",
    "    \"../AdVitam/Exp2/Preprocessed/Questionnaires/Exp2_Database.csv\",\n",
    "    usecols=[\n",
    "        'code',\n",
    "        'sex',\n",
    "        'age',\n",
    "        'mothertongue',\n",
    "        'education',\n",
    "        'driving_license',\n",
    "        'km_year',\n",
    "        'accidents',\n",
    "    ],\n",
    ")"
   ]
  },
  {
   "cell_type": "markdown",
   "metadata": {},
   "source": [
    "<br></br>"
   ]
  },
  {
   "cell_type": "markdown",
   "metadata": {},
   "source": [
    "### Processing driver demographic data"
   ]
  },
  {
   "cell_type": "markdown",
   "metadata": {},
   "source": [
    "Steps:\n",
    "1. Remove preselected participants\n",
    "2. Reformat code to match data\n",
    "3. Coverting driving licence from year obtained to  of years obtained\n",
    "4. Normalize km/y"
   ]
  },
  {
   "cell_type": "code",
   "execution_count": 14,
   "metadata": {},
   "outputs": [],
   "source": [
    "driver_demographic_data = process_driver_demographic_data(\n",
    "    driver_demographic_data, participants_to_exclude\n",
    ")"
   ]
  },
  {
   "cell_type": "markdown",
   "metadata": {},
   "source": [
    "<br></br>"
   ]
  },
  {
   "cell_type": "markdown",
   "metadata": {},
   "source": [
    "# Constructing Sequence of Observations"
   ]
  },
  {
   "cell_type": "markdown",
   "metadata": {},
   "source": [
    "---"
   ]
  },
  {
   "cell_type": "markdown",
   "metadata": {},
   "source": [
    "The idea is to train 2 HMM trained to observations assosiated with a 'slow' takeover, and a 'fast' takeover."
   ]
  },
  {
   "cell_type": "code",
   "execution_count": 15,
   "metadata": {},
   "outputs": [],
   "source": [
    "slow_observations = []\n",
    "fast_observations = []\n",
    "\n",
    "for driver in driving_data_dictionary.keys():\n",
    "    # driver data\n",
    "    driver_driving_data = driving_data_dictionary[driver]\n",
    "    driver_physio_data = phsyiological_data_dictionary[driver][\"driving\"]\n",
    "    # timestamps\n",
    "    driver_driving_timestamps = driving_timestamps[\n",
    "        driving_timestamps[\"subject_id\"] == driver\n",
    "    ]\n",
    "    driver_physio_timestamps = physio_timestamps[\n",
    "        physio_timestamps[\"subject_id\"] == driver\n",
    "    ]\n",
    "\n",
    "    # loop through every TOT\n",
    "    for column in driver_driving_timestamps.columns:\n",
    "        if \"TOT\" in column:\n",
    "            # get the obstacle number\n",
    "            obstacle = column.replace(\"TOT\", \"\")\n",
    "\n",
    "            # store the obstacle triggers for driving and physio\n",
    "            driving_obstacle_trigger = driver_driving_timestamps[\n",
    "                \"Triggered\" + obstacle\n",
    "            ].iloc[0]\n",
    "            physio_obstacle_trigger = driver_physio_timestamps[\n",
    "                \"Triggered\" + obstacle\n",
    "            ].iloc[0]\n",
    "\n",
    "            # check if the obstacle triggers are not null\n",
    "            if pd.isnull(driving_obstacle_trigger) or pd.isnull(\n",
    "                physio_obstacle_trigger\n",
    "            ):\n",
    "                continue\n",
    "\n",
    "            # trim the data to the 10s before the takeover\n",
    "            driving_data_10_sec = driver_driving_data[\n",
    "                (\n",
    "                    driver_driving_data[\"Time\"]\n",
    "                    >= driving_obstacle_trigger - pd.to_timedelta(\"10s\")\n",
    "                )\n",
    "                & (driver_driving_data[\"Time\"] < driving_obstacle_trigger)\n",
    "            ]\n",
    "\n",
    "            physio_data_10_sec = driver_physio_data[\n",
    "                (\n",
    "                    driver_physio_data[\"Time\"]\n",
    "                    >= driver_physio_data.Time.min()\n",
    "                    + physio_obstacle_trigger\n",
    "                    - pd.to_timedelta(\"10s\")\n",
    "                )\n",
    "                & (\n",
    "                    driver_physio_data[\"Time\"]\n",
    "                    < driver_physio_data.Time.min() + physio_obstacle_trigger\n",
    "                )\n",
    "            ]\n",
    "\n",
    "            # reset the Time index\n",
    "            driving_data_10_sec = driving_data_10_sec.set_index(\"Time\")\n",
    "            physio_data_10_sec = physio_data_10_sec.set_index(\"Time\")\n",
    "\n",
    "            # set the index to 0\n",
    "            driving_data_10_sec.index = (\n",
    "                driving_data_10_sec.index - driving_data_10_sec.index.min()\n",
    "            )\n",
    "            physio_data_10_sec.index = (\n",
    "                physio_data_10_sec.index - physio_data_10_sec.index.min()\n",
    "            )\n",
    "\n",
    "            # merge the data\n",
    "            driver_data = pd.merge(\n",
    "                driving_data_10_sec,\n",
    "                physio_data_10_sec,\n",
    "                left_index=True,\n",
    "                right_index=True,\n",
    "            )\n",
    "\n",
    "            # reset the index\n",
    "            driver_data.reset_index(inplace=True)\n",
    "\n",
    "            # Remove Time, Position X, Position Y, Position Z, Autonomous Mode (T/F), Obstacles\n",
    "            driver_data = driver_data.drop(\n",
    "                columns=[\n",
    "                    \"Time\",\n",
    "                    \" Position X\",\n",
    "                    \"Position Y\",\n",
    "                    \"Position Z\",\n",
    "                    \"Autonomous Mode (T/F)\",\n",
    "                    \"Obstacles\",\n",
    "                ]\n",
    "            )\n",
    "\n",
    "            # grab driver demogrpahic data\n",
    "            demo_data = driver_demographic_data[\n",
    "                driver_demographic_data[\"code\"] == driver\n",
    "            ]\n",
    "\n",
    "            # Broadcast to repeat the static data for each row of the dynamic data\n",
    "            demo_data = pd.concat([demo_data] * len(driver_data), ignore_index=True)\n",
    "\n",
    "            # merge the data\n",
    "            driver_data = pd.merge(\n",
    "                driver_data, demo_data, left_index=True, right_index=True\n",
    "            )\n",
    "\n",
    "            # change the code value to the driver id\n",
    "            driver_data[\"code\"] = driver_data[\"code\"].apply(lambda x: x.split(\"T\")[1])\n",
    "            # cast code to int\n",
    "            driver_data[\"code\"] = driver_data[\"code\"].astype(int)\n",
    "\n",
    "            if len(driver_data) != 1000:\n",
    "                    print(driver)\n",
    "            \n",
    "            # determine if the takeover was slow or fast\n",
    "            if driver_driving_timestamps[column].iloc[0] > pd.to_timedelta(\"3s\"):\n",
    "                slow_observations.append(driver_data.to_numpy())\n",
    "            else:\n",
    "                fast_observations.append(driver_data.to_numpy())"
   ]
  },
  {
   "cell_type": "code",
   "execution_count": 16,
   "metadata": {},
   "outputs": [
    {
     "name": "stdout",
     "output_type": "stream",
     "text": [
      "Accuracy:  0.696969696969697\n"
     ]
    }
   ],
   "source": [
    "# train test split\n",
    "slow_observations_train, slow_observations_test = train_test_split(\n",
    "    slow_observations, test_size=0.1, random_state=42\n",
    ")\n",
    "\n",
    "fast_observations_train, fast_observations_test = train_test_split(\n",
    "    fast_observations, test_size=0.1, random_state=42\n",
    ")\n",
    "\n",
    "# create a length array\n",
    "slow_lengths_train = np.array([len(obs) for obs in slow_observations_train])\n",
    "slow_lengths_test = np.array([len(obs) for obs in slow_observations_test])\n",
    "\n",
    "fast_lengths_train = np.array([len(obs) for obs in fast_observations_train])\n",
    "fast_lengths_test = np.array([len(obs) for obs in fast_observations_test])\n",
    "s = np.vstack(slow_observations_train)\n",
    "f = np.vstack(fast_observations_train)\n",
    "\n",
    "# train the HMM\n",
    "slow_hmm = hmm.GaussianHMM(\n",
    "    n_components=1,\n",
    "    random_state=3,\n",
    ")\n",
    "slow_hmm.fit(s, slow_lengths_train)\n",
    "\n",
    "fast_hmm = hmm.GaussianHMM(\n",
    "    n_components=1,\n",
    "    random_state=3,\n",
    ")\n",
    "fast_hmm.fit(f, fast_lengths_train)\n",
    "\n",
    "# test the HMM\n",
    "accuracy = 0\n",
    "\n",
    "for obs in slow_observations_test:\n",
    "    if slow_hmm.score(obs) > fast_hmm.score(obs):\n",
    "        accuracy += 1\n",
    "\n",
    "for obs in fast_observations_test:\n",
    "    if fast_hmm.score(obs) > slow_hmm.score(obs):\n",
    "        accuracy += 1\n",
    "\n",
    "accuracy = accuracy / (len(slow_observations_test) + len(fast_observations_test))\n",
    "print(\"Accuracy: \", accuracy)"
   ]
  },
  {
   "cell_type": "markdown",
   "metadata": {},
   "source": [
    "| Random State | Components | Accuracy |\n",
    "| ------------ | ---------- | -------- |\n",
    "| 1 | 1 | 0.70 |\n",
    "| 1 | 2 | 0.48 |\n",
    "| 1 | 3 | 0.37 |\n",
    "| 1 | 4 | 0.64 |\n",
    "| 1 | 5 | 0.56 |\n",
    "| | |\n",
    "| 2 | 1 | 0.70 |\n",
    "| 2 | 2 | 0.50 |\n",
    "| 2 | 3 | 0.37 |\n",
    "| 2 | 4 | 0.39 |\n",
    "| 2 | 5 | 0.42 |\n",
    "| | |\n"
   ]
  },
  {
   "cell_type": "code",
   "execution_count": 17,
   "metadata": {},
   "outputs": [
    {
     "data": {
      "text/plain": [
       "33"
      ]
     },
     "execution_count": 17,
     "metadata": {},
     "output_type": "execute_result"
    }
   ],
   "source": [
    "(len(slow_observations_test) + len(fast_observations_test))"
   ]
  }
 ],
 "metadata": {
  "kernelspec": {
   "display_name": "Python 3 (ipykernel)",
   "language": "python",
   "name": "python3"
  },
  "language_info": {
   "codemirror_mode": {
    "name": "ipython",
    "version": 3
   },
   "file_extension": ".py",
   "mimetype": "text/x-python",
   "name": "python",
   "nbconvert_exporter": "python",
   "pygments_lexer": "ipython3",
   "version": "3.9.12"
  }
 },
 "nbformat": 4,
 "nbformat_minor": 2
}
