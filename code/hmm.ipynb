{
 "cells": [
  {
   "cell_type": "markdown",
   "metadata": {},
   "source": [
    "# Preamble\n"
   ]
  },
  {
   "cell_type": "markdown",
   "metadata": {},
   "source": [
    "Python Libraries\n"
   ]
  },
  {
   "cell_type": "code",
   "execution_count": 1,
   "metadata": {},
   "outputs": [],
   "source": [
    "# import os\n",
    "# import numpy as np\n",
    "import pandas as pd\n",
    "import matplotlib.pyplot as plt\n",
    "from sklearn import preprocessing"
   ]
  },
  {
   "cell_type": "markdown",
   "metadata": {},
   "source": [
    "Custom Functions\n"
   ]
  },
  {
   "cell_type": "code",
   "execution_count": 2,
   "metadata": {},
   "outputs": [],
   "source": [
    "from useful_functions.dd_dictionary import create_dd_dictionary\n",
    "from useful_functions.pd_dictionary import create_pd_dictionary\n",
    "from useful_functions.takeover_dataframe import create_takeover_timestamps\n",
    "from useful_functions.check_for_missing_data import check_for_missing_data"
   ]
  },
  {
   "cell_type": "code",
   "execution_count": null,
   "metadata": {},
   "outputs": [],
   "source": []
  },
  {
   "cell_type": "markdown",
   "metadata": {},
   "source": [
    "<br></br>"
   ]
  },
  {
   "cell_type": "markdown",
   "metadata": {},
   "source": [
    "# Importing Data + PreProcessing"
   ]
  },
  {
   "cell_type": "markdown",
   "metadata": {},
   "source": [
    "---"
   ]
  },
  {
   "cell_type": "markdown",
   "metadata": {},
   "source": [
    "### Raw data folders"
   ]
  },
  {
   "cell_type": "code",
   "execution_count": 3,
   "metadata": {},
   "outputs": [],
   "source": [
    "driving_data_folder = \"../AdVitam/Exp2/Raw/Driving\"\n",
    "physio_data_folder = \"../AdVitam/Exp2/Raw/Physio/Txt\""
   ]
  },
  {
   "cell_type": "code",
   "execution_count": null,
   "metadata": {},
   "outputs": [],
   "source": []
  },
  {
   "cell_type": "markdown",
   "metadata": {},
   "source": [
    "### Participants to Exclude"
   ]
  },
  {
   "cell_type": "markdown",
   "metadata": {},
   "source": [
    "| Participant | Reason |\n",
    "| --- | --- |\n",
    "| NST77 | Driving file contains obstacles = \"TriggeredObs2TriggeredObs3\" and \"TriggeredObs3TriggeredObs4\" |\n",
    "| NST91, ST84, ST60 | Does not contain a physio file |"
   ]
  },
  {
   "cell_type": "code",
   "execution_count": 4,
   "metadata": {},
   "outputs": [
    {
     "data": {
      "text/plain": [
       "['NST91.txt', 'ST84.txt', 'ST60.txt']"
      ]
     },
     "execution_count": 4,
     "metadata": {},
     "output_type": "execute_result"
    }
   ],
   "source": [
    "check_for_missing_data(driving_data_folder, physio_data_folder)"
   ]
  },
  {
   "cell_type": "code",
   "execution_count": 5,
   "metadata": {},
   "outputs": [],
   "source": [
    "participants_to_exclude = [\"NST77\", 'NST91', 'ST84', 'ST60']"
   ]
  },
  {
   "cell_type": "code",
   "execution_count": null,
   "metadata": {},
   "outputs": [],
   "source": []
  },
  {
   "cell_type": "markdown",
   "metadata": {},
   "source": [
    "<br></br>"
   ]
  },
  {
   "cell_type": "markdown",
   "metadata": {},
   "source": [
    "## Driving Data"
   ]
  },
  {
   "cell_type": "markdown",
   "metadata": {},
   "source": [
    "---"
   ]
  },
  {
   "cell_type": "markdown",
   "metadata": {},
   "source": [
    "### Data Description"
   ]
  },
  {
   "cell_type": "markdown",
   "metadata": {},
   "source": [
    "| Feature | Description | Notes |\n",
    "| --- | --- | --- |\n",
    "| Time | Time elapsed since the software was launched (in seconds) |  |\n",
    "| EngineSpeed | Engine speed (in rpm) | Removed |\n",
    "| GearPosActual | Current gear | Removed |\n",
    "| GearPosTarget | Next planned gear | Removed |\n",
    "| AcceleratorPedalPos | Position of gas pedal. | Recording problem, Removed |\n",
    "| DeceleratorPedalPos | Position of brake pedal. | Recording problem, Removed |\n",
    "| SteeringWheelAngle | Steering wheel angle (in degrees) |  |\n",
    "| VehicleSpeed | Vehicle speed (in mph) |  |\n",
    "| Position X | Vehicle position along the x-axis in the simulated driving environment |  |\n",
    "| Position Y | Vehicle position along the y-axis in the simulated driving environment |  |\n",
    "| Position Z | Vehicle position along the z-axis in the simulated driving environment |  |\n",
    "| Autonomous Mode (T/F) | Autonomous pilot status. | True = autonomous pilot activated, False = autonomous pilot deactivated (driver in control of the car) |\n",
    "| Obstacles | Events that occurred during the driving simulation. | See Below |\n",
    "\n",
    "- Obstacles: Events that occurred during the driving simulation.\n",
    "  - TriggeredObsX = Time at which each takeover request was triggered by the experimenter..\n",
    "  - Obs1 = deer, Obs2 = traffic cone, Obs3 = frog, Obs4 = traffic cone, Obs5 = false alarm (x2).\n",
    "  - Detected = Time at which the driver pressed the steering wheel button to notify he/she understood the situation. The driver is in control of the car when the value of the column \"Autonomous Mode (T/F)\" is False."
   ]
  },
  {
   "cell_type": "markdown",
   "metadata": {},
   "source": [
    "### Driving Data Dictionary"
   ]
  },
  {
   "cell_type": "code",
   "execution_count": 6,
   "metadata": {},
   "outputs": [],
   "source": [
    "driving_data_dictionary = create_dd_dictionary(\n",
    "    driving_data_folder, participants_to_exclude\n",
    ")"
   ]
  },
  {
   "cell_type": "code",
   "execution_count": null,
   "metadata": {},
   "outputs": [],
   "source": []
  },
  {
   "cell_type": "markdown",
   "metadata": {},
   "source": [
    "### Processing driving data"
   ]
  },
  {
   "cell_type": "markdown",
   "metadata": {},
   "source": [
    "Steps Taken\n",
    "1. Label encode the `Obstacles` column\n",
    "2. Convert `Time` column to pandas timedelta\n",
    "2. Resample driver data to 10ms"
   ]
  },
  {
   "cell_type": "code",
   "execution_count": 7,
   "metadata": {},
   "outputs": [],
   "source": [
    "# Fitting a Label Encoder to the Obstacles\n",
    "driver_data =driving_data_dictionary['NST01']\n",
    "enc = preprocessing.LabelEncoder()\n",
    "enc.fit(driver_data[\"Obstacles\"])\n",
    "\n",
    "# Preprocessing the driving data\n",
    "for driver in driving_data_dictionary.keys():\n",
    "    driver_data = driving_data_dictionary[driver]\n",
    "\n",
    "    # label encoding\n",
    "    driver_data[\"Obstacles\"] = enc.transform(driver_data[\"Obstacles\"])\n",
    "\n",
    "    # resampling\n",
    "    driver_data[\"Time\"] = pd.to_timedelta(driver_data[\"Time\"], unit=\"s\")\n",
    "    driver_data = driver_data.drop_duplicates(subset=\"Time\")\n",
    "    driver_data = driver_data.set_index(\"Time\")\n",
    "    driver_data = driver_data.resample(\"10ms\").ffill()\n",
    "    driver_data = driver_data.reset_index()\n",
    "\n",
    "    # replacing the dictionary value\n",
    "    driving_data_dictionary[driver] = driver_data"
   ]
  },
  {
   "cell_type": "code",
   "execution_count": null,
   "metadata": {},
   "outputs": [],
   "source": []
  },
  {
   "cell_type": "markdown",
   "metadata": {},
   "source": [
    "### Creating driving data takeover timestamps"
   ]
  },
  {
   "cell_type": "code",
   "execution_count": 8,
   "metadata": {},
   "outputs": [
    {
     "data": {
      "text/html": [
       "<div>\n",
       "<style scoped>\n",
       "    .dataframe tbody tr th:only-of-type {\n",
       "        vertical-align: middle;\n",
       "    }\n",
       "\n",
       "    .dataframe tbody tr th {\n",
       "        vertical-align: top;\n",
       "    }\n",
       "\n",
       "    .dataframe thead th {\n",
       "        text-align: right;\n",
       "    }\n",
       "</style>\n",
       "<table border=\"1\" class=\"dataframe\">\n",
       "  <thead>\n",
       "    <tr style=\"text-align: right;\">\n",
       "      <th></th>\n",
       "      <th>index</th>\n",
       "      <th>TriggeredObs1</th>\n",
       "      <th>TakeoverObs1</th>\n",
       "      <th>ReleaseObs1</th>\n",
       "      <th>TOTObs1</th>\n",
       "      <th>TriggeredObs2</th>\n",
       "      <th>TakeoverObs2</th>\n",
       "      <th>ReleaseObs2</th>\n",
       "      <th>TOTObs2</th>\n",
       "      <th>TriggeredObs3</th>\n",
       "      <th>...</th>\n",
       "      <th>ReleaseObs3</th>\n",
       "      <th>TOTObs3</th>\n",
       "      <th>TriggeredObs4</th>\n",
       "      <th>TakeoverObs4</th>\n",
       "      <th>ReleaseObs4</th>\n",
       "      <th>TOTObs4</th>\n",
       "      <th>TriggeredObs5</th>\n",
       "      <th>TakeoverObs5</th>\n",
       "      <th>ReleaseObs5</th>\n",
       "      <th>TOTObs5</th>\n",
       "    </tr>\n",
       "  </thead>\n",
       "  <tbody>\n",
       "    <tr>\n",
       "      <th>0</th>\n",
       "      <td>NST01</td>\n",
       "      <td>0 days 00:05:11.974200</td>\n",
       "      <td>0 days 00:05:18.804200</td>\n",
       "      <td>0 days 00:05:28.764200</td>\n",
       "      <td>0 days 00:00:06.830000</td>\n",
       "      <td>0 days 00:09:11.494200</td>\n",
       "      <td>0 days 00:09:13.964200</td>\n",
       "      <td>0 days 00:09:23.654200</td>\n",
       "      <td>0 days 00:00:02.470000</td>\n",
       "      <td>0 days 00:10:50.094200</td>\n",
       "      <td>...</td>\n",
       "      <td>0 days 00:10:54.554200</td>\n",
       "      <td>0 days 00:00:04.080000</td>\n",
       "      <td>NaT</td>\n",
       "      <td>NaT</td>\n",
       "      <td>NaT</td>\n",
       "      <td>NaT</td>\n",
       "      <td>NaT</td>\n",
       "      <td>NaT</td>\n",
       "      <td>NaT</td>\n",
       "      <td>NaT</td>\n",
       "    </tr>\n",
       "    <tr>\n",
       "      <th>1</th>\n",
       "      <td>ST02</td>\n",
       "      <td>0 days 00:08:03.979300</td>\n",
       "      <td>0 days 00:08:08.999300</td>\n",
       "      <td>0 days 00:08:17.339300</td>\n",
       "      <td>0 days 00:00:05.020000</td>\n",
       "      <td>0 days 00:06:03.149300</td>\n",
       "      <td>0 days 00:06:06.569300</td>\n",
       "      <td>0 days 00:06:09.769300</td>\n",
       "      <td>0 days 00:00:03.420000</td>\n",
       "      <td>0 days 00:14:38.599300</td>\n",
       "      <td>...</td>\n",
       "      <td>0 days 00:14:44.779300</td>\n",
       "      <td>0 days 00:00:04.560000</td>\n",
       "      <td>0 days 00:17:24.939300</td>\n",
       "      <td>0 days 00:17:29.289300</td>\n",
       "      <td>0 days 00:17:33.199300</td>\n",
       "      <td>0 days 00:00:04.350000</td>\n",
       "      <td>NaT</td>\n",
       "      <td>NaT</td>\n",
       "      <td>NaT</td>\n",
       "      <td>NaT</td>\n",
       "    </tr>\n",
       "    <tr>\n",
       "      <th>2</th>\n",
       "      <td>NST03</td>\n",
       "      <td>0 days 00:16:04.013200</td>\n",
       "      <td>0 days 00:16:08.633200</td>\n",
       "      <td>0 days 00:16:41.013200</td>\n",
       "      <td>0 days 00:00:04.620000</td>\n",
       "      <td>0 days 00:12:48.623200</td>\n",
       "      <td>0 days 00:12:51.843200</td>\n",
       "      <td>0 days 00:13:24.443200</td>\n",
       "      <td>0 days 00:00:03.220000</td>\n",
       "      <td>NaT</td>\n",
       "      <td>...</td>\n",
       "      <td>NaT</td>\n",
       "      <td>NaT</td>\n",
       "      <td>NaT</td>\n",
       "      <td>NaT</td>\n",
       "      <td>NaT</td>\n",
       "      <td>NaT</td>\n",
       "      <td>NaT</td>\n",
       "      <td>NaT</td>\n",
       "      <td>NaT</td>\n",
       "      <td>NaT</td>\n",
       "    </tr>\n",
       "    <tr>\n",
       "      <th>3</th>\n",
       "      <td>ST04</td>\n",
       "      <td>0 days 00:19:23.934300</td>\n",
       "      <td>0 days 00:19:36.624300</td>\n",
       "      <td>0 days 00:19:54.174300</td>\n",
       "      <td>0 days 00:00:12.690000</td>\n",
       "      <td>0 days 00:13:29.504300</td>\n",
       "      <td>0 days 00:13:32.174300</td>\n",
       "      <td>0 days 00:13:39.614300</td>\n",
       "      <td>0 days 00:00:02.670000</td>\n",
       "      <td>NaT</td>\n",
       "      <td>...</td>\n",
       "      <td>NaT</td>\n",
       "      <td>NaT</td>\n",
       "      <td>NaT</td>\n",
       "      <td>NaT</td>\n",
       "      <td>NaT</td>\n",
       "      <td>NaT</td>\n",
       "      <td>NaT</td>\n",
       "      <td>NaT</td>\n",
       "      <td>NaT</td>\n",
       "      <td>NaT</td>\n",
       "    </tr>\n",
       "    <tr>\n",
       "      <th>4</th>\n",
       "      <td>NST05</td>\n",
       "      <td>0 days 00:10:02.164780</td>\n",
       "      <td>0 days 00:10:04.474780</td>\n",
       "      <td>0 days 00:10:06.294780</td>\n",
       "      <td>0 days 00:00:02.310000</td>\n",
       "      <td>0 days 00:15:16.364780</td>\n",
       "      <td>0 days 00:15:31.474780</td>\n",
       "      <td>0 days 00:15:36.064780</td>\n",
       "      <td>0 days 00:00:15.110000</td>\n",
       "      <td>0 days 00:17:52.614780</td>\n",
       "      <td>...</td>\n",
       "      <td>0 days 00:18:00.284780</td>\n",
       "      <td>0 days 00:00:03.340000</td>\n",
       "      <td>0 days 00:07:21.274780</td>\n",
       "      <td>0 days 00:07:24.604780</td>\n",
       "      <td>0 days 00:07:27.654780</td>\n",
       "      <td>0 days 00:00:03.330000</td>\n",
       "      <td>NaT</td>\n",
       "      <td>NaT</td>\n",
       "      <td>NaT</td>\n",
       "      <td>NaT</td>\n",
       "    </tr>\n",
       "  </tbody>\n",
       "</table>\n",
       "<p>5 rows × 21 columns</p>\n",
       "</div>"
      ],
      "text/plain": [
       "   index          TriggeredObs1           TakeoverObs1            ReleaseObs1  \\\n",
       "0  NST01 0 days 00:05:11.974200 0 days 00:05:18.804200 0 days 00:05:28.764200   \n",
       "1   ST02 0 days 00:08:03.979300 0 days 00:08:08.999300 0 days 00:08:17.339300   \n",
       "2  NST03 0 days 00:16:04.013200 0 days 00:16:08.633200 0 days 00:16:41.013200   \n",
       "3   ST04 0 days 00:19:23.934300 0 days 00:19:36.624300 0 days 00:19:54.174300   \n",
       "4  NST05 0 days 00:10:02.164780 0 days 00:10:04.474780 0 days 00:10:06.294780   \n",
       "\n",
       "                 TOTObs1          TriggeredObs2           TakeoverObs2  \\\n",
       "0 0 days 00:00:06.830000 0 days 00:09:11.494200 0 days 00:09:13.964200   \n",
       "1 0 days 00:00:05.020000 0 days 00:06:03.149300 0 days 00:06:06.569300   \n",
       "2 0 days 00:00:04.620000 0 days 00:12:48.623200 0 days 00:12:51.843200   \n",
       "3 0 days 00:00:12.690000 0 days 00:13:29.504300 0 days 00:13:32.174300   \n",
       "4 0 days 00:00:02.310000 0 days 00:15:16.364780 0 days 00:15:31.474780   \n",
       "\n",
       "             ReleaseObs2                TOTObs2          TriggeredObs3  ...  \\\n",
       "0 0 days 00:09:23.654200 0 days 00:00:02.470000 0 days 00:10:50.094200  ...   \n",
       "1 0 days 00:06:09.769300 0 days 00:00:03.420000 0 days 00:14:38.599300  ...   \n",
       "2 0 days 00:13:24.443200 0 days 00:00:03.220000                    NaT  ...   \n",
       "3 0 days 00:13:39.614300 0 days 00:00:02.670000                    NaT  ...   \n",
       "4 0 days 00:15:36.064780 0 days 00:00:15.110000 0 days 00:17:52.614780  ...   \n",
       "\n",
       "             ReleaseObs3                TOTObs3          TriggeredObs4  \\\n",
       "0 0 days 00:10:54.554200 0 days 00:00:04.080000                    NaT   \n",
       "1 0 days 00:14:44.779300 0 days 00:00:04.560000 0 days 00:17:24.939300   \n",
       "2                    NaT                    NaT                    NaT   \n",
       "3                    NaT                    NaT                    NaT   \n",
       "4 0 days 00:18:00.284780 0 days 00:00:03.340000 0 days 00:07:21.274780   \n",
       "\n",
       "            TakeoverObs4            ReleaseObs4                TOTObs4  \\\n",
       "0                    NaT                    NaT                    NaT   \n",
       "1 0 days 00:17:29.289300 0 days 00:17:33.199300 0 days 00:00:04.350000   \n",
       "2                    NaT                    NaT                    NaT   \n",
       "3                    NaT                    NaT                    NaT   \n",
       "4 0 days 00:07:24.604780 0 days 00:07:27.654780 0 days 00:00:03.330000   \n",
       "\n",
       "  TriggeredObs5 TakeoverObs5 ReleaseObs5 TOTObs5  \n",
       "0           NaT          NaT         NaT     NaT  \n",
       "1           NaT          NaT         NaT     NaT  \n",
       "2           NaT          NaT         NaT     NaT  \n",
       "3           NaT          NaT         NaT     NaT  \n",
       "4           NaT          NaT         NaT     NaT  \n",
       "\n",
       "[5 rows x 21 columns]"
      ]
     },
     "execution_count": 8,
     "metadata": {},
     "output_type": "execute_result"
    }
   ],
   "source": [
    "driving_timestamps = create_takeover_timestamps(driving_data_dictionary, enc)\n",
    "driving_timestamps.head()"
   ]
  },
  {
   "cell_type": "code",
   "execution_count": null,
   "metadata": {},
   "outputs": [],
   "source": []
  },
  {
   "cell_type": "markdown",
   "metadata": {},
   "source": [
    "<br></br>"
   ]
  },
  {
   "cell_type": "markdown",
   "metadata": {},
   "source": [
    "## Physiological Signals & Markers"
   ]
  },
  {
   "cell_type": "markdown",
   "metadata": {},
   "source": [
    "---"
   ]
  },
  {
   "cell_type": "markdown",
   "metadata": {},
   "source": [
    "### Data Description"
   ]
  },
  {
   "cell_type": "markdown",
   "metadata": {},
   "source": [
    "**Signals:**\n",
    "\n",
    "| Feature | Description | Notes |\n",
    "| --- | --- | --- |\n",
    "| min | Time Elapsed |  |\n",
    "| ECG | Electrocardiogram | 1000Hz |\n",
    "| EDA | Electrodermal Activity | 1000Hz |\n",
    "| RESP | Resperatory | 1000Hz |"
   ]
  },
  {
   "cell_type": "markdown",
   "metadata": {},
   "source": [
    "<br></br>"
   ]
  },
  {
   "cell_type": "markdown",
   "metadata": {},
   "source": [
    "**Markers:**\n",
    "\n",
    "Contains the timestamps for each period of the experiment.\n",
    "\n",
    "- Training1 = Baseline phase\n",
    "- Training2 = Practice phase in the driving simulator\n",
    "- Driving = Main driving session in conditionally automated driving.\n",
    "\n",
    "Be careful, the timestamps are here in seconds while they are in minutes in the raw data."
   ]
  },
  {
   "cell_type": "markdown",
   "metadata": {},
   "source": [
    "<br></br>"
   ]
  },
  {
   "cell_type": "markdown",
   "metadata": {},
   "source": [
    "**Timestamps:**\n",
    "\n",
    "Time elapsed (in seconds) between the start of the main driving session and the appearance of the obstacles.\n",
    "- TrigObsX: the time when the driver pressed the button to report having understood the situation \n",
    "- DetObsX: and the time when the driver actually took over control \n",
    "- RepObsX: X corresponds to one of obstacle or the false alarm."
   ]
  },
  {
   "cell_type": "markdown",
   "metadata": {},
   "source": [
    "### Physio data dictionary"
   ]
  },
  {
   "cell_type": "code",
   "execution_count": 9,
   "metadata": {},
   "outputs": [],
   "source": [
    "phsyiological_data_dictionary = create_pd_dictionary(\n",
    "    physio_data_folder, participants_to_exclude\n",
    ")"
   ]
  },
  {
   "cell_type": "code",
   "execution_count": null,
   "metadata": {},
   "outputs": [],
   "source": []
  },
  {
   "cell_type": "markdown",
   "metadata": {},
   "source": [
    "### Physio timestamps"
   ]
  },
  {
   "cell_type": "code",
   "execution_count": 10,
   "metadata": {},
   "outputs": [],
   "source": [
    "physio_timestamps = pd.read_csv(\n",
    "    \"../AdVitam/Exp2/Preprocessed/Physio and Driving/timestamps_obstacles.csv\"\n",
    ")"
   ]
  },
  {
   "cell_type": "code",
   "execution_count": null,
   "metadata": {},
   "outputs": [],
   "source": []
  },
  {
   "cell_type": "markdown",
   "metadata": {},
   "source": [
    "### Processing the Physio Timestamps\n",
    "Steps: \n",
    "1. Change column names to match driving timestamps\n",
    "1. Remove preselected participants\n",
    "2. Reformat subject id to match\n",
    "3. Transfrom timestamps into timedelta objects"
   ]
  },
  {
   "cell_type": "code",
   "execution_count": 11,
   "metadata": {},
   "outputs": [
    {
     "data": {
      "text/html": [
       "<div>\n",
       "<style scoped>\n",
       "    .dataframe tbody tr th:only-of-type {\n",
       "        vertical-align: middle;\n",
       "    }\n",
       "\n",
       "    .dataframe tbody tr th {\n",
       "        vertical-align: top;\n",
       "    }\n",
       "\n",
       "    .dataframe thead th {\n",
       "        text-align: right;\n",
       "    }\n",
       "</style>\n",
       "<table border=\"1\" class=\"dataframe\">\n",
       "  <thead>\n",
       "    <tr style=\"text-align: right;\">\n",
       "      <th></th>\n",
       "      <th>subject_id</th>\n",
       "      <th>label_st</th>\n",
       "      <th>TriggeredObs1</th>\n",
       "      <th>TakeoverObs1</th>\n",
       "      <th>TriggeredObs2</th>\n",
       "      <th>TakeoverObs2</th>\n",
       "      <th>TriggeredObs3</th>\n",
       "      <th>TakeoverObs3</th>\n",
       "      <th>TriggeredObs4</th>\n",
       "      <th>TakeoverObs4</th>\n",
       "      <th>TriggeredObs5</th>\n",
       "      <th>TakeoverObs5</th>\n",
       "      <th>TriggeredObs6</th>\n",
       "      <th>TakeoverObs6</th>\n",
       "      <th>TOTObs1</th>\n",
       "      <th>TOTObs2</th>\n",
       "      <th>TOTObs3</th>\n",
       "      <th>TOTObs4</th>\n",
       "      <th>TOTObs5</th>\n",
       "      <th>TOTObs6</th>\n",
       "    </tr>\n",
       "  </thead>\n",
       "  <tbody>\n",
       "    <tr>\n",
       "      <th>0</th>\n",
       "      <td>NST01</td>\n",
       "      <td>0</td>\n",
       "      <td>0 days 00:02:56.705100</td>\n",
       "      <td>0 days 00:03:03.523800</td>\n",
       "      <td>0 days 00:06:56.214000</td>\n",
       "      <td>0 days 00:06:58.690200</td>\n",
       "      <td>0 days 00:08:34.815700</td>\n",
       "      <td>NaT</td>\n",
       "      <td>0 days 00:13:06.640800</td>\n",
       "      <td>NaT</td>\n",
       "      <td>0 days 00:16:23.624000</td>\n",
       "      <td>NaT</td>\n",
       "      <td>0 days 00:18:02.245000</td>\n",
       "      <td>NaT</td>\n",
       "      <td>0 days 00:00:06.818700</td>\n",
       "      <td>0 days 00:00:02.476200</td>\n",
       "      <td>NaT</td>\n",
       "      <td>NaT</td>\n",
       "      <td>NaT</td>\n",
       "      <td>NaT</td>\n",
       "    </tr>\n",
       "    <tr>\n",
       "      <th>1</th>\n",
       "      <td>ST02</td>\n",
       "      <td>1</td>\n",
       "      <td>0 days 00:03:50.756500</td>\n",
       "      <td>0 days 00:03:55.778000</td>\n",
       "      <td>0 days 00:01:49.933400</td>\n",
       "      <td>0 days 00:01:53.351600</td>\n",
       "      <td>0 days 00:10:25.382700</td>\n",
       "      <td>0 days 00:10:29.941600</td>\n",
       "      <td>0 days 00:13:11.720300</td>\n",
       "      <td>0 days 00:13:16.067300</td>\n",
       "      <td>0 days 00:05:57.714400</td>\n",
       "      <td>NaT</td>\n",
       "      <td>0 days 00:07:48.515800</td>\n",
       "      <td>NaT</td>\n",
       "      <td>0 days 00:00:05.021500</td>\n",
       "      <td>0 days 00:00:03.418200</td>\n",
       "      <td>0 days 00:00:04.558900</td>\n",
       "      <td>0 days 00:00:04.347000</td>\n",
       "      <td>NaT</td>\n",
       "      <td>NaT</td>\n",
       "    </tr>\n",
       "    <tr>\n",
       "      <th>2</th>\n",
       "      <td>NST03</td>\n",
       "      <td>0</td>\n",
       "      <td>0 days 00:13:35.204000</td>\n",
       "      <td>0 days 00:13:39.824400</td>\n",
       "      <td>0 days 00:10:19.808800</td>\n",
       "      <td>0 days 00:10:23.032200</td>\n",
       "      <td>0 days 00:04:19.471200</td>\n",
       "      <td>NaT</td>\n",
       "      <td>0 days 00:17:07.400900</td>\n",
       "      <td>NaT</td>\n",
       "      <td>0 days 00:06:18.340900</td>\n",
       "      <td>NaT</td>\n",
       "      <td>0 days 00:18:35.174900</td>\n",
       "      <td>NaT</td>\n",
       "      <td>0 days 00:00:04.620400</td>\n",
       "      <td>0 days 00:00:03.223400</td>\n",
       "      <td>NaT</td>\n",
       "      <td>NaT</td>\n",
       "      <td>NaT</td>\n",
       "      <td>NaT</td>\n",
       "    </tr>\n",
       "    <tr>\n",
       "      <th>3</th>\n",
       "      <td>ST04</td>\n",
       "      <td>1</td>\n",
       "      <td>0 days 00:17:20.361900</td>\n",
       "      <td>0 days 00:17:33.047900</td>\n",
       "      <td>0 days 00:11:25.928100</td>\n",
       "      <td>NaT</td>\n",
       "      <td>0 days 00:04:47.372400</td>\n",
       "      <td>NaT</td>\n",
       "      <td>0 days 00:01:59.926600</td>\n",
       "      <td>NaT</td>\n",
       "      <td>0 days 00:06:50.988200</td>\n",
       "      <td>NaT</td>\n",
       "      <td>0 days 00:14:46.936900</td>\n",
       "      <td>NaT</td>\n",
       "      <td>0 days 00:00:12.686000</td>\n",
       "      <td>NaT</td>\n",
       "      <td>NaT</td>\n",
       "      <td>NaT</td>\n",
       "      <td>NaT</td>\n",
       "      <td>NaT</td>\n",
       "    </tr>\n",
       "    <tr>\n",
       "      <th>4</th>\n",
       "      <td>NST05</td>\n",
       "      <td>0</td>\n",
       "      <td>0 days 00:07:08.961300</td>\n",
       "      <td>0 days 00:07:11.272600</td>\n",
       "      <td>0 days 00:12:23.166400</td>\n",
       "      <td>0 days 00:12:38.273600</td>\n",
       "      <td>0 days 00:14:59.418600</td>\n",
       "      <td>0 days 00:15:02.753600</td>\n",
       "      <td>0 days 00:04:28.071600</td>\n",
       "      <td>0 days 00:04:31.402700</td>\n",
       "      <td>0 days 00:02:23.631400</td>\n",
       "      <td>NaT</td>\n",
       "      <td>0 days 00:10:29.173600</td>\n",
       "      <td>NaT</td>\n",
       "      <td>0 days 00:00:02.311300</td>\n",
       "      <td>0 days 00:00:15.107200</td>\n",
       "      <td>0 days 00:00:03.335000</td>\n",
       "      <td>0 days 00:00:03.331100</td>\n",
       "      <td>NaT</td>\n",
       "      <td>NaT</td>\n",
       "    </tr>\n",
       "  </tbody>\n",
       "</table>\n",
       "</div>"
      ],
      "text/plain": [
       "  subject_id  label_st          TriggeredObs1           TakeoverObs1  \\\n",
       "0      NST01         0 0 days 00:02:56.705100 0 days 00:03:03.523800   \n",
       "1       ST02         1 0 days 00:03:50.756500 0 days 00:03:55.778000   \n",
       "2      NST03         0 0 days 00:13:35.204000 0 days 00:13:39.824400   \n",
       "3       ST04         1 0 days 00:17:20.361900 0 days 00:17:33.047900   \n",
       "4      NST05         0 0 days 00:07:08.961300 0 days 00:07:11.272600   \n",
       "\n",
       "           TriggeredObs2           TakeoverObs2          TriggeredObs3  \\\n",
       "0 0 days 00:06:56.214000 0 days 00:06:58.690200 0 days 00:08:34.815700   \n",
       "1 0 days 00:01:49.933400 0 days 00:01:53.351600 0 days 00:10:25.382700   \n",
       "2 0 days 00:10:19.808800 0 days 00:10:23.032200 0 days 00:04:19.471200   \n",
       "3 0 days 00:11:25.928100                    NaT 0 days 00:04:47.372400   \n",
       "4 0 days 00:12:23.166400 0 days 00:12:38.273600 0 days 00:14:59.418600   \n",
       "\n",
       "            TakeoverObs3          TriggeredObs4           TakeoverObs4  \\\n",
       "0                    NaT 0 days 00:13:06.640800                    NaT   \n",
       "1 0 days 00:10:29.941600 0 days 00:13:11.720300 0 days 00:13:16.067300   \n",
       "2                    NaT 0 days 00:17:07.400900                    NaT   \n",
       "3                    NaT 0 days 00:01:59.926600                    NaT   \n",
       "4 0 days 00:15:02.753600 0 days 00:04:28.071600 0 days 00:04:31.402700   \n",
       "\n",
       "           TriggeredObs5 TakeoverObs5          TriggeredObs6 TakeoverObs6  \\\n",
       "0 0 days 00:16:23.624000          NaT 0 days 00:18:02.245000          NaT   \n",
       "1 0 days 00:05:57.714400          NaT 0 days 00:07:48.515800          NaT   \n",
       "2 0 days 00:06:18.340900          NaT 0 days 00:18:35.174900          NaT   \n",
       "3 0 days 00:06:50.988200          NaT 0 days 00:14:46.936900          NaT   \n",
       "4 0 days 00:02:23.631400          NaT 0 days 00:10:29.173600          NaT   \n",
       "\n",
       "                 TOTObs1                TOTObs2                TOTObs3  \\\n",
       "0 0 days 00:00:06.818700 0 days 00:00:02.476200                    NaT   \n",
       "1 0 days 00:00:05.021500 0 days 00:00:03.418200 0 days 00:00:04.558900   \n",
       "2 0 days 00:00:04.620400 0 days 00:00:03.223400                    NaT   \n",
       "3 0 days 00:00:12.686000                    NaT                    NaT   \n",
       "4 0 days 00:00:02.311300 0 days 00:00:15.107200 0 days 00:00:03.335000   \n",
       "\n",
       "                 TOTObs4 TOTObs5 TOTObs6  \n",
       "0                    NaT     NaT     NaT  \n",
       "1 0 days 00:00:04.347000     NaT     NaT  \n",
       "2                    NaT     NaT     NaT  \n",
       "3                    NaT     NaT     NaT  \n",
       "4 0 days 00:00:03.331100     NaT     NaT  "
      ]
     },
     "execution_count": 11,
     "metadata": {},
     "output_type": "execute_result"
    }
   ],
   "source": [
    "# change columns from Trig to Triggered\n",
    "for col in physio_timestamps.columns:\n",
    "    if \"Trig\" in col:\n",
    "        physio_timestamps = physio_timestamps.rename(\n",
    "            columns={col: col.replace(\"Trig\", \"Triggered\")}\n",
    "        )\n",
    "\n",
    "    # remove\n",
    "    if \"Det\" in col:\n",
    "        physio_timestamps = physio_timestamps.drop(columns=col)\n",
    "\n",
    "    if \"Rep\" in col:\n",
    "        physio_timestamps = physio_timestamps.rename(\n",
    "            columns={col: col.replace(\"Rep\", \"Takeover\")}\n",
    "        )\n",
    "\n",
    "# Remove the participants that are not in the driving data\n",
    "physio_timestamps = physio_timestamps[\n",
    "    ~physio_timestamps[\"subject_id\"].isin(participants_to_exclude)\n",
    "]\n",
    "\n",
    "# Add 0 to the subject ids to match the format of the driving data\n",
    "physio_timestamps[\"subject_id\"] = physio_timestamps[\"subject_id\"].apply(\n",
    "    lambda x: x.split(\"T\")[0] + \"T\" + x.split(\"T\")[1].zfill(2)\n",
    ")\n",
    "\n",
    "# transform the every column to a timedelta\n",
    "for timestamp in physio_timestamps.columns:\n",
    "    if timestamp != \"subject_id\" and timestamp != \"label_st\":\n",
    "        # Check value is not NaT\n",
    "        physio_timestamps[timestamp] = physio_timestamps[timestamp].apply(\n",
    "            lambda x: pd.to_timedelta(x, unit=\"s\") if pd.notnull(x) else x\n",
    "        )\n",
    "\n",
    "# Adding the takeover times to the timestamp data\n",
    "trigger = \"TriggeredObs\"\n",
    "respond = \"TakeoverObs\"\n",
    "obstacles = [\"Deer\", \"Cone\", \"Frog\", \"Can\", \"FA1\", \"FA2\"]\n",
    "\n",
    "for obstacle in obstacles:\n",
    "    physio_timestamps[\"TOT\" + \"Obs\" + obstacle] = (\n",
    "        physio_timestamps[respond + obstacle] - physio_timestamps[trigger + obstacle]\n",
    "    )\n",
    "\n",
    "for col in physio_timestamps.columns:\n",
    "    for i, obstacle in enumerate(obstacles):\n",
    "        if obstacle in col:\n",
    "            physio_timestamps = physio_timestamps.rename(\n",
    "                columns={col: col.replace(obstacle, str(i + 1))}\n",
    "            )\n",
    "\n",
    "physio_timestamps.head()"
   ]
  },
  {
   "cell_type": "code",
   "execution_count": null,
   "metadata": {},
   "outputs": [],
   "source": []
  },
  {
   "cell_type": "markdown",
   "metadata": {},
   "source": [
    "### Processing the Physiological data"
   ]
  },
  {
   "cell_type": "markdown",
   "metadata": {},
   "source": [
    "Steps:\n",
    "1. Resampled data to 10ms (100Hz)\n",
    "2. Trimmed the data down to each experimental phase (Baseline, Training, Driving)"
   ]
  },
  {
   "cell_type": "code",
   "execution_count": 12,
   "metadata": {},
   "outputs": [],
   "source": [
    "marker_keys = []\n",
    "\n",
    "for driver in phsyiological_data_dictionary.keys():\n",
    "    if driver.endswith(\"-markers\"):\n",
    "        continue\n",
    "\n",
    "    driver_data = phsyiological_data_dictionary[driver]\n",
    "    markers = phsyiological_data_dictionary[driver + \"-markers\"]\n",
    "\n",
    "    # converting the time to timedelta\n",
    "    driver_data[\"min\"] = pd.to_timedelta(driver_data[\"min\"], unit=\"min\")\n",
    "\n",
    "    # resampling\n",
    "    # driver_data = driver_data.drop_duplicates(subset=\"min\")\n",
    "    driver_data = driver_data.set_index(\"min\")\n",
    "    driver_data = driver_data.resample(\"10ms\").ffill()\n",
    "    driver_data = driver_data.reset_index()\n",
    "\n",
    "    # Change min to Time\n",
    "    driver_data = driver_data.rename(columns={\"min\": \"Time\"})\n",
    "\n",
    "    # Baseline\n",
    "    baseline_start = pd.to_timedelta(markers[\"Time(sec.):\"][0], unit=\"s\")\n",
    "    baseline_end = pd.to_timedelta(markers[\"Time(sec.):\"][1], unit=\"s\")\n",
    "\n",
    "    driver_baseline_data = driver_data[\n",
    "        (driver_data[\"Time\"] >= baseline_start) & (driver_data[\"Time\"] <= baseline_end)\n",
    "    ].copy()\n",
    "\n",
    "    # Training\n",
    "    training_start = pd.to_timedelta(markers[\"Time(sec.):\"][2], unit=\"s\")\n",
    "    training_end = pd.to_timedelta(markers[\"Time(sec.):\"][3], unit=\"s\")\n",
    "\n",
    "    driver_training_data = driver_data[\n",
    "        (driver_data[\"Time\"] >= training_start) & (driver_data[\"Time\"] <= training_end)\n",
    "    ].copy()\n",
    "\n",
    "    # Driving\n",
    "    driving_start = pd.to_timedelta(markers[\"Time(sec.):\"][4], unit=\"s\")\n",
    "    driving_end = pd.to_timedelta(markers[\"Time(sec.):\"][5], unit=\"s\")\n",
    "\n",
    "    driver_driving_data = driver_data[\n",
    "        (driver_data[\"Time\"] >= driving_start) & (driver_data[\"Time\"] <= driving_end)\n",
    "    ].copy()\n",
    "\n",
    "    # # Adding an 'Obstacles' column\n",
    "    # ----------------------------------\n",
    "    # driver_driving_data[\"Obstacles\"] = \"Nothing\"\n",
    "\n",
    "    # # Match the timestamps with the obstacles\n",
    "    # driver_physio_timestamps = physio_timestamps[\n",
    "    #     physio_timestamps[\"subject_id\"] == driver\n",
    "    # ]\n",
    "\n",
    "    # obstacles = driver_physio_timestamps.columns\n",
    "    # obstacles = obstacles[2:]\n",
    "    # obstacles = obstacles[:-1]\n",
    "\n",
    "    # Add an obstacle column to the driving data\n",
    "    # driver_driving_data[\"Obstacles\"] = \"Nothing\"\n",
    "    # for obstacle in obstacles:\n",
    "    #     # Time when the obstacle appears\n",
    "    #     obstacle_appears = (\n",
    "    #         driving_start\n",
    "    #         + pd.to_timedelta(driver_physio_timestamps[obstacle], unit=\"s\").to_list()[0]\n",
    "    #     )\n",
    "\n",
    "    #     # Add this marker to the Obstacles column\n",
    "    #     if not pd.isna(obstacle_appears):\n",
    "    #         mask = driver_driving_data[\"Time\"] >= obstacle_appears\n",
    "    #         first_index = mask.idxmax()\n",
    "    #         driver_driving_data.at[first_index, \"Obstacles\"] = obstacle\n",
    "    # ----------------------------------\n",
    "\n",
    "    # replacing the dictionary value\n",
    "    phsyiological_data_dictionary[driver] = {\n",
    "        \"baseline\": driver_baseline_data,\n",
    "        \"training\": driver_training_data,\n",
    "        \"driving\": driver_driving_data,\n",
    "    }\n",
    "\n",
    "    # storing the marker keys to be removed\n",
    "    marker_keys.append(driver + \"-markers\")\n",
    "\n",
    "# Delete marker data\n",
    "for marker_key in marker_keys:\n",
    "    del phsyiological_data_dictionary[marker_key]"
   ]
  },
  {
   "cell_type": "code",
   "execution_count": null,
   "metadata": {},
   "outputs": [],
   "source": []
  },
  {
   "cell_type": "markdown",
   "metadata": {},
   "source": [
    "<br></br>"
   ]
  },
  {
   "cell_type": "markdown",
   "metadata": {},
   "source": [
    "## Driver Demographic Data\n"
   ]
  },
  {
   "cell_type": "markdown",
   "metadata": {},
   "source": [
    "---"
   ]
  },
  {
   "cell_type": "markdown",
   "metadata": {},
   "source": [
    "### Data Description"
   ]
  },
  {
   "cell_type": "markdown",
   "metadata": {},
   "source": [
    "| Feature | Description | Note |\n",
    "| --- | --- | --- |\n",
    "| code | Code of participant Secondary Task (ST) vs No ST (NST) + unique id (1,2,...) | In the form (ST/NST)# |\n",
    "| date | Day of data collection |  Removed |\n",
    "| time | Hour of data collection | Removed |\n",
    "| condition | Experimental condition for mental workload | Removed (contained in participant code |\n",
    "| sex | Participant sex | |\n",
    "| age | Age of participants in years | |\n",
    "| mothertongue | Participants first language | |\n",
    "| education | Highest education degree | |\n",
    "| driving_license | Year of obtenstion of driving license | |\n",
    "| km_year | Number of kilometers covered per year in average | |\n",
    "| accidents | Number of accidents during the last 3 years | |\n",
    "| nasa_tlx_N | Answer to the NASA TLX for question N | Removed |\n",
    "| danger_O | Subjective ranking of the danger of obstacle O | Removed |\n",
    "| realism_O | Subjective ranking of the realism of obstacle O | Removed |\n",
    "| sart_N_O | Subjective answer to the sart for question N related to obstacle O | Removed |\n",
    "| demand_O | Demands on attentional resources (complexity, variability, and instability of the situation) | Removed |\n",
    "| supply_O | Supply of attentional resources (division of attention, arousal, concentration, and spare mental capacity) | Removed |\n",
    "| understanding_O | Understanding of the situation (information quantity, information quality and familiarity). |  Removed |\n"
   ]
  },
  {
   "cell_type": "markdown",
   "metadata": {},
   "source": [
    "### Driver Demographic Data"
   ]
  },
  {
   "cell_type": "code",
   "execution_count": 13,
   "metadata": {},
   "outputs": [],
   "source": [
    "driver_demographic_data = pd.read_csv(\n",
    "    \"../AdVitam/Exp2/Preprocessed/Questionnaires/Exp2_Database.csv\",\n",
    "    usecols=[\n",
    "        'code',\n",
    "        'sex',\n",
    "        'age',\n",
    "        'mothertongue',\n",
    "        'education',\n",
    "        'driving_license',\n",
    "        'km_year',\n",
    "        'accidents',\n",
    "    ],\n",
    ")"
   ]
  },
  {
   "cell_type": "code",
   "execution_count": null,
   "metadata": {},
   "outputs": [],
   "source": []
  },
  {
   "cell_type": "markdown",
   "metadata": {},
   "source": [
    "### Processing driver demographic data"
   ]
  },
  {
   "cell_type": "markdown",
   "metadata": {},
   "source": [
    "Steps:\n",
    "1. Remove preselected participants\n",
    "2. Reformat code to match data\n",
    "3. Coverting driving licence from year obtained to  of years obtained\n",
    "4. Normalize km/y"
   ]
  },
  {
   "cell_type": "code",
   "execution_count": 14,
   "metadata": {},
   "outputs": [
    {
     "data": {
      "text/html": [
       "<div>\n",
       "<style scoped>\n",
       "    .dataframe tbody tr th:only-of-type {\n",
       "        vertical-align: middle;\n",
       "    }\n",
       "\n",
       "    .dataframe tbody tr th {\n",
       "        vertical-align: top;\n",
       "    }\n",
       "\n",
       "    .dataframe thead th {\n",
       "        text-align: right;\n",
       "    }\n",
       "</style>\n",
       "<table border=\"1\" class=\"dataframe\">\n",
       "  <thead>\n",
       "    <tr style=\"text-align: right;\">\n",
       "      <th></th>\n",
       "      <th>code</th>\n",
       "      <th>sex</th>\n",
       "      <th>age</th>\n",
       "      <th>mothertongue</th>\n",
       "      <th>education</th>\n",
       "      <th>driving_license</th>\n",
       "      <th>km_year</th>\n",
       "      <th>accidents</th>\n",
       "    </tr>\n",
       "  </thead>\n",
       "  <tbody>\n",
       "    <tr>\n",
       "      <th>0</th>\n",
       "      <td>NST01</td>\n",
       "      <td>1</td>\n",
       "      <td>19</td>\n",
       "      <td>1</td>\n",
       "      <td>1</td>\n",
       "      <td>1</td>\n",
       "      <td>200</td>\n",
       "      <td>1</td>\n",
       "    </tr>\n",
       "    <tr>\n",
       "      <th>1</th>\n",
       "      <td>ST02</td>\n",
       "      <td>1</td>\n",
       "      <td>19</td>\n",
       "      <td>1</td>\n",
       "      <td>1</td>\n",
       "      <td>1</td>\n",
       "      <td>5000</td>\n",
       "      <td>0</td>\n",
       "    </tr>\n",
       "    <tr>\n",
       "      <th>2</th>\n",
       "      <td>NST03</td>\n",
       "      <td>1</td>\n",
       "      <td>19</td>\n",
       "      <td>1</td>\n",
       "      <td>1</td>\n",
       "      <td>1</td>\n",
       "      <td>1000</td>\n",
       "      <td>0</td>\n",
       "    </tr>\n",
       "    <tr>\n",
       "      <th>3</th>\n",
       "      <td>ST04</td>\n",
       "      <td>1</td>\n",
       "      <td>21</td>\n",
       "      <td>3</td>\n",
       "      <td>2</td>\n",
       "      <td>2</td>\n",
       "      <td>1500</td>\n",
       "      <td>0</td>\n",
       "    </tr>\n",
       "    <tr>\n",
       "      <th>4</th>\n",
       "      <td>NST05</td>\n",
       "      <td>1</td>\n",
       "      <td>22</td>\n",
       "      <td>1</td>\n",
       "      <td>1</td>\n",
       "      <td>1</td>\n",
       "      <td>1500</td>\n",
       "      <td>0</td>\n",
       "    </tr>\n",
       "  </tbody>\n",
       "</table>\n",
       "</div>"
      ],
      "text/plain": [
       "    code  sex  age  mothertongue  education  driving_license  km_year  \\\n",
       "0  NST01    1   19             1          1                1      200   \n",
       "1   ST02    1   19             1          1                1     5000   \n",
       "2  NST03    1   19             1          1                1     1000   \n",
       "3   ST04    1   21             3          2                2     1500   \n",
       "4  NST05    1   22             1          1                1     1500   \n",
       "\n",
       "   accidents  \n",
       "0          1  \n",
       "1          0  \n",
       "2          0  \n",
       "3          0  \n",
       "4          0  "
      ]
     },
     "execution_count": 14,
     "metadata": {},
     "output_type": "execute_result"
    }
   ],
   "source": [
    "# Remove the participants that are not in the driving data\n",
    "driver_demographic_data = driver_demographic_data[\n",
    "    ~driver_demographic_data[\"code\"].isin(participants_to_exclude)\n",
    "]\n",
    "# Reformat code\n",
    "driver_demographic_data[\"code\"] = driver_demographic_data[\"code\"].apply(\n",
    "    lambda x: x.split(\"T\")[0] + \"T\" + x.split(\"T\")[1].zfill(2)\n",
    ")\n",
    "# Convert from year to number of years\n",
    "driver_demographic_data['driving_license']  = 2018 - driver_demographic_data['driving_license']\n",
    "\n",
    "# Normalize the age and km_year?\n",
    "\n",
    "driver_demographic_data.head()"
   ]
  },
  {
   "cell_type": "code",
   "execution_count": null,
   "metadata": {},
   "outputs": [],
   "source": []
  },
  {
   "cell_type": "markdown",
   "metadata": {},
   "source": [
    "<br></br>"
   ]
  },
  {
   "cell_type": "markdown",
   "metadata": {},
   "source": [
    "# Defining Takeover Quality Quantitatively"
   ]
  },
  {
   "cell_type": "markdown",
   "metadata": {},
   "source": [
    "- Takeover Time (TOT)\n",
    "- Sudden Vehicle Deviation\n",
    "- Response Budget\n"
   ]
  },
  {
   "cell_type": "markdown",
   "metadata": {},
   "source": [
    "### Takeover Time"
   ]
  },
  {
   "cell_type": "code",
   "execution_count": 15,
   "metadata": {},
   "outputs": [],
   "source": [
    "# data\n",
    "nst01_driving_data = driving_data_dictionary[\"NST01\"]\n",
    "nst01_physio_data = phsyiological_data_dictionary[\"NST01\"][\"driving\"]\n",
    "\n",
    "# timestamps\n",
    "nst01_driving_timestamp = driving_timestamps[driving_timestamps[\"index\"] == \"NST01\"]\n",
    "nst01_physio_timestamp = physio_timestamps[physio_timestamps[\"subject_id\"] == \"NST01\"]\n",
    "\n",
    "# store the obstacle triggers for driving and physio\n",
    "driving_obstacle_trigger = nst01_driving_timestamp[\"TriggeredObs1\"].iloc[0]\n",
    "physio_obstacle_trigger = nst01_physio_timestamp[\"TriggeredObs1\"].iloc[0]"
   ]
  },
  {
   "cell_type": "code",
   "execution_count": 16,
   "metadata": {},
   "outputs": [
    {
     "data": {
      "text/plain": [
       "Timedelta('0 days 00:16:13.690000')"
      ]
     },
     "execution_count": 16,
     "metadata": {},
     "output_type": "execute_result"
    }
   ],
   "source": [
    "nst01_physio_data.Time.min()"
   ]
  },
  {
   "cell_type": "code",
   "execution_count": 17,
   "metadata": {},
   "outputs": [
    {
     "data": {
      "text/plain": [
       "Timedelta('0 days 00:02:56.705100')"
      ]
     },
     "execution_count": 17,
     "metadata": {},
     "output_type": "execute_result"
    }
   ],
   "source": [
    "physio_obstacle_trigger"
   ]
  },
  {
   "cell_type": "code",
   "execution_count": 18,
   "metadata": {},
   "outputs": [],
   "source": [
    "# trim the data to the 10s before the takeover\n",
    "nst01_driving_data = nst01_driving_data[\n",
    "    (nst01_driving_data[\"Time\"] >= driving_obstacle_trigger - pd.to_timedelta(\"10s\"))\n",
    "    & (nst01_driving_data[\"Time\"] < driving_obstacle_trigger)\n",
    "]\n",
    "\n",
    "nst01_physio_data = nst01_physio_data[\n",
    "    (\n",
    "        nst01_physio_data[\"Time\"]\n",
    "        >= nst01_physio_data.Time.min()\n",
    "        + physio_obstacle_trigger\n",
    "        - pd.to_timedelta(\"10s\")\n",
    "    )\n",
    "    & (\n",
    "        nst01_physio_data[\"Time\"]\n",
    "        < nst01_physio_data.Time.min() + physio_obstacle_trigger\n",
    "    )\n",
    "]"
   ]
  },
  {
   "cell_type": "code",
   "execution_count": 19,
   "metadata": {},
   "outputs": [
    {
     "data": {
      "text/html": [
       "<div>\n",
       "<style scoped>\n",
       "    .dataframe tbody tr th:only-of-type {\n",
       "        vertical-align: middle;\n",
       "    }\n",
       "\n",
       "    .dataframe tbody tr th {\n",
       "        vertical-align: top;\n",
       "    }\n",
       "\n",
       "    .dataframe thead th {\n",
       "        text-align: right;\n",
       "    }\n",
       "</style>\n",
       "<table border=\"1\" class=\"dataframe\">\n",
       "  <thead>\n",
       "    <tr style=\"text-align: right;\">\n",
       "      <th></th>\n",
       "      <th>Time</th>\n",
       "      <th>SteeringWheelAngle</th>\n",
       "      <th>VehicleSpeed</th>\n",
       "      <th>Position X</th>\n",
       "      <th>Position Y</th>\n",
       "      <th>Position Z</th>\n",
       "      <th>Autonomous Mode (T/F)</th>\n",
       "      <th>Obstacles</th>\n",
       "    </tr>\n",
       "  </thead>\n",
       "  <tbody>\n",
       "    <tr>\n",
       "      <th>19993</th>\n",
       "      <td>0 days 00:05:01.974200</td>\n",
       "      <td>0.0</td>\n",
       "      <td>53.3486</td>\n",
       "      <td>-1932.477</td>\n",
       "      <td>1287.972</td>\n",
       "      <td>-1218.088</td>\n",
       "      <td>True</td>\n",
       "      <td>1</td>\n",
       "    </tr>\n",
       "    <tr>\n",
       "      <th>19994</th>\n",
       "      <td>0 days 00:05:01.984200</td>\n",
       "      <td>0.0</td>\n",
       "      <td>53.3486</td>\n",
       "      <td>-1932.477</td>\n",
       "      <td>1287.972</td>\n",
       "      <td>-1218.088</td>\n",
       "      <td>True</td>\n",
       "      <td>1</td>\n",
       "    </tr>\n",
       "    <tr>\n",
       "      <th>19995</th>\n",
       "      <td>0 days 00:05:01.994200</td>\n",
       "      <td>0.0</td>\n",
       "      <td>53.3517</td>\n",
       "      <td>-1932.191</td>\n",
       "      <td>1287.968</td>\n",
       "      <td>-1218.011</td>\n",
       "      <td>True</td>\n",
       "      <td>1</td>\n",
       "    </tr>\n",
       "    <tr>\n",
       "      <th>19996</th>\n",
       "      <td>0 days 00:05:02.004200</td>\n",
       "      <td>0.0</td>\n",
       "      <td>53.3517</td>\n",
       "      <td>-1932.191</td>\n",
       "      <td>1287.968</td>\n",
       "      <td>-1218.011</td>\n",
       "      <td>True</td>\n",
       "      <td>1</td>\n",
       "    </tr>\n",
       "    <tr>\n",
       "      <th>19997</th>\n",
       "      <td>0 days 00:05:02.014200</td>\n",
       "      <td>0.0</td>\n",
       "      <td>53.3547</td>\n",
       "      <td>-1931.905</td>\n",
       "      <td>1287.965</td>\n",
       "      <td>-1217.935</td>\n",
       "      <td>True</td>\n",
       "      <td>1</td>\n",
       "    </tr>\n",
       "    <tr>\n",
       "      <th>...</th>\n",
       "      <td>...</td>\n",
       "      <td>...</td>\n",
       "      <td>...</td>\n",
       "      <td>...</td>\n",
       "      <td>...</td>\n",
       "      <td>...</td>\n",
       "      <td>...</td>\n",
       "      <td>...</td>\n",
       "    </tr>\n",
       "    <tr>\n",
       "      <th>20988</th>\n",
       "      <td>0 days 00:05:11.924200</td>\n",
       "      <td>-3.0</td>\n",
       "      <td>53.1703</td>\n",
       "      <td>-1789.990</td>\n",
       "      <td>1286.278</td>\n",
       "      <td>-1179.032</td>\n",
       "      <td>True</td>\n",
       "      <td>1</td>\n",
       "    </tr>\n",
       "    <tr>\n",
       "      <th>20989</th>\n",
       "      <td>0 days 00:05:11.934200</td>\n",
       "      <td>-3.0</td>\n",
       "      <td>53.1703</td>\n",
       "      <td>-1789.990</td>\n",
       "      <td>1286.278</td>\n",
       "      <td>-1179.032</td>\n",
       "      <td>True</td>\n",
       "      <td>1</td>\n",
       "    </tr>\n",
       "    <tr>\n",
       "      <th>20990</th>\n",
       "      <td>0 days 00:05:11.944200</td>\n",
       "      <td>-3.0</td>\n",
       "      <td>53.1725</td>\n",
       "      <td>-1789.702</td>\n",
       "      <td>1286.278</td>\n",
       "      <td>-1178.967</td>\n",
       "      <td>True</td>\n",
       "      <td>1</td>\n",
       "    </tr>\n",
       "    <tr>\n",
       "      <th>20991</th>\n",
       "      <td>0 days 00:05:11.954200</td>\n",
       "      <td>-3.0</td>\n",
       "      <td>53.1725</td>\n",
       "      <td>-1789.702</td>\n",
       "      <td>1286.278</td>\n",
       "      <td>-1178.967</td>\n",
       "      <td>True</td>\n",
       "      <td>1</td>\n",
       "    </tr>\n",
       "    <tr>\n",
       "      <th>20992</th>\n",
       "      <td>0 days 00:05:11.964200</td>\n",
       "      <td>-3.0</td>\n",
       "      <td>53.1737</td>\n",
       "      <td>-1789.413</td>\n",
       "      <td>1286.277</td>\n",
       "      <td>-1178.902</td>\n",
       "      <td>True</td>\n",
       "      <td>1</td>\n",
       "    </tr>\n",
       "  </tbody>\n",
       "</table>\n",
       "<p>1000 rows × 8 columns</p>\n",
       "</div>"
      ],
      "text/plain": [
       "                        Time  SteeringWheelAngle  VehicleSpeed   Position X  \\\n",
       "19993 0 days 00:05:01.974200                 0.0       53.3486    -1932.477   \n",
       "19994 0 days 00:05:01.984200                 0.0       53.3486    -1932.477   \n",
       "19995 0 days 00:05:01.994200                 0.0       53.3517    -1932.191   \n",
       "19996 0 days 00:05:02.004200                 0.0       53.3517    -1932.191   \n",
       "19997 0 days 00:05:02.014200                 0.0       53.3547    -1931.905   \n",
       "...                      ...                 ...           ...          ...   \n",
       "20988 0 days 00:05:11.924200                -3.0       53.1703    -1789.990   \n",
       "20989 0 days 00:05:11.934200                -3.0       53.1703    -1789.990   \n",
       "20990 0 days 00:05:11.944200                -3.0       53.1725    -1789.702   \n",
       "20991 0 days 00:05:11.954200                -3.0       53.1725    -1789.702   \n",
       "20992 0 days 00:05:11.964200                -3.0       53.1737    -1789.413   \n",
       "\n",
       "       Position Y  Position Z  Autonomous Mode (T/F)  Obstacles  \n",
       "19993    1287.972   -1218.088                   True          1  \n",
       "19994    1287.972   -1218.088                   True          1  \n",
       "19995    1287.968   -1218.011                   True          1  \n",
       "19996    1287.968   -1218.011                   True          1  \n",
       "19997    1287.965   -1217.935                   True          1  \n",
       "...           ...         ...                    ...        ...  \n",
       "20988    1286.278   -1179.032                   True          1  \n",
       "20989    1286.278   -1179.032                   True          1  \n",
       "20990    1286.278   -1178.967                   True          1  \n",
       "20991    1286.278   -1178.967                   True          1  \n",
       "20992    1286.277   -1178.902                   True          1  \n",
       "\n",
       "[1000 rows x 8 columns]"
      ]
     },
     "execution_count": 19,
     "metadata": {},
     "output_type": "execute_result"
    }
   ],
   "source": [
    "nst01_driving_data"
   ]
  },
  {
   "cell_type": "code",
   "execution_count": 20,
   "metadata": {},
   "outputs": [
    {
     "data": {
      "text/html": [
       "<div>\n",
       "<style scoped>\n",
       "    .dataframe tbody tr th:only-of-type {\n",
       "        vertical-align: middle;\n",
       "    }\n",
       "\n",
       "    .dataframe tbody tr th {\n",
       "        vertical-align: top;\n",
       "    }\n",
       "\n",
       "    .dataframe thead th {\n",
       "        text-align: right;\n",
       "    }\n",
       "</style>\n",
       "<table border=\"1\" class=\"dataframe\">\n",
       "  <thead>\n",
       "    <tr style=\"text-align: right;\">\n",
       "      <th></th>\n",
       "      <th>Time</th>\n",
       "      <th>CH1</th>\n",
       "      <th>CH2</th>\n",
       "      <th>CH3</th>\n",
       "    </tr>\n",
       "  </thead>\n",
       "  <tbody>\n",
       "    <tr>\n",
       "      <th>114040</th>\n",
       "      <td>0 days 00:19:00.400000</td>\n",
       "      <td>23.243450</td>\n",
       "      <td>-0.445913</td>\n",
       "      <td>-1.017482</td>\n",
       "    </tr>\n",
       "    <tr>\n",
       "      <th>114041</th>\n",
       "      <td>0 days 00:19:00.410000</td>\n",
       "      <td>23.249300</td>\n",
       "      <td>-0.410004</td>\n",
       "      <td>-1.004943</td>\n",
       "    </tr>\n",
       "    <tr>\n",
       "      <th>114042</th>\n",
       "      <td>0 days 00:19:00.420000</td>\n",
       "      <td>23.253469</td>\n",
       "      <td>-0.381540</td>\n",
       "      <td>-0.997033</td>\n",
       "    </tr>\n",
       "    <tr>\n",
       "      <th>114043</th>\n",
       "      <td>0 days 00:19:00.430000</td>\n",
       "      <td>23.253392</td>\n",
       "      <td>-0.416590</td>\n",
       "      <td>-0.989736</td>\n",
       "    </tr>\n",
       "    <tr>\n",
       "      <th>114044</th>\n",
       "      <td>0 days 00:19:00.440000</td>\n",
       "      <td>23.251583</td>\n",
       "      <td>-0.428213</td>\n",
       "      <td>-0.986633</td>\n",
       "    </tr>\n",
       "    <tr>\n",
       "      <th>...</th>\n",
       "      <td>...</td>\n",
       "      <td>...</td>\n",
       "      <td>...</td>\n",
       "      <td>...</td>\n",
       "    </tr>\n",
       "    <tr>\n",
       "      <th>115035</th>\n",
       "      <td>0 days 00:19:10.350000</td>\n",
       "      <td>26.846450</td>\n",
       "      <td>-0.040054</td>\n",
       "      <td>-1.768774</td>\n",
       "    </tr>\n",
       "    <tr>\n",
       "      <th>115036</th>\n",
       "      <td>0 days 00:19:10.360000</td>\n",
       "      <td>26.850775</td>\n",
       "      <td>-0.046844</td>\n",
       "      <td>-1.749624</td>\n",
       "    </tr>\n",
       "    <tr>\n",
       "      <th>115037</th>\n",
       "      <td>0 days 00:19:10.370000</td>\n",
       "      <td>26.851150</td>\n",
       "      <td>-0.079447</td>\n",
       "      <td>-1.740417</td>\n",
       "    </tr>\n",
       "    <tr>\n",
       "      <th>115038</th>\n",
       "      <td>0 days 00:19:10.380000</td>\n",
       "      <td>26.859025</td>\n",
       "      <td>0.047277</td>\n",
       "      <td>-1.734009</td>\n",
       "    </tr>\n",
       "    <tr>\n",
       "      <th>115039</th>\n",
       "      <td>0 days 00:19:10.390000</td>\n",
       "      <td>26.873662</td>\n",
       "      <td>0.637723</td>\n",
       "      <td>-1.718303</td>\n",
       "    </tr>\n",
       "  </tbody>\n",
       "</table>\n",
       "<p>1000 rows × 4 columns</p>\n",
       "</div>"
      ],
      "text/plain": [
       "                         Time        CH1       CH2       CH3\n",
       "114040 0 days 00:19:00.400000  23.243450 -0.445913 -1.017482\n",
       "114041 0 days 00:19:00.410000  23.249300 -0.410004 -1.004943\n",
       "114042 0 days 00:19:00.420000  23.253469 -0.381540 -0.997033\n",
       "114043 0 days 00:19:00.430000  23.253392 -0.416590 -0.989736\n",
       "114044 0 days 00:19:00.440000  23.251583 -0.428213 -0.986633\n",
       "...                       ...        ...       ...       ...\n",
       "115035 0 days 00:19:10.350000  26.846450 -0.040054 -1.768774\n",
       "115036 0 days 00:19:10.360000  26.850775 -0.046844 -1.749624\n",
       "115037 0 days 00:19:10.370000  26.851150 -0.079447 -1.740417\n",
       "115038 0 days 00:19:10.380000  26.859025  0.047277 -1.734009\n",
       "115039 0 days 00:19:10.390000  26.873662  0.637723 -1.718303\n",
       "\n",
       "[1000 rows x 4 columns]"
      ]
     },
     "execution_count": 20,
     "metadata": {},
     "output_type": "execute_result"
    }
   ],
   "source": [
    "nst01_physio_data"
   ]
  },
  {
   "cell_type": "code",
   "execution_count": null,
   "metadata": {},
   "outputs": [],
   "source": []
  }
 ],
 "metadata": {
  "kernelspec": {
   "display_name": "Python 3 (ipykernel)",
   "language": "python",
   "name": "python3"
  },
  "language_info": {
   "codemirror_mode": {
    "name": "ipython",
    "version": 3
   },
   "file_extension": ".py",
   "mimetype": "text/x-python",
   "name": "python",
   "nbconvert_exporter": "python",
   "pygments_lexer": "ipython3",
   "version": "3.9.12"
  }
 },
 "nbformat": 4,
 "nbformat_minor": 2
}
